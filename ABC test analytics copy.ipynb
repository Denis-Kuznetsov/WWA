{
 "cells": [
  {
   "cell_type": "code",
   "execution_count": 249,
   "id": "bd5b6365",
   "metadata": {},
   "outputs": [],
   "source": [
    "import numpy as np\n",
    "import pandas as pd\n",
    "import matplotlib.pyplot as plt\n",
    "\n",
    "import scipy\n",
    "from statsmodels.stats.weightstats import *\n",
    "from statsmodels.stats.proportion import proportion_confint"
   ]
  },
  {
   "cell_type": "code",
   "execution_count": 250,
   "id": "a107addc",
   "metadata": {},
   "outputs": [
    {
     "name": "stdout",
     "output_type": "stream",
     "text": [
      "%pylab is deprecated, use %matplotlib inline and import the required libraries.\n",
      "Populating the interactive namespace from numpy and matplotlib\n"
     ]
    },
    {
     "name": "stderr",
     "output_type": "stream",
     "text": [
      "/Users/mac/opt/anaconda3/lib/python3.9/site-packages/IPython/core/magics/pylab.py:162: UserWarning: pylab import has clobbered these variables: ['copy']\n",
      "`%matplotlib` prevents importing * from pylab and numpy\n",
      "  warn(\"pylab import has clobbered these variables: %s\"  % clobbered +\n"
     ]
    }
   ],
   "source": [
    "# %pylab inline\n",
    "%pylab inline"
   ]
  },
  {
   "cell_type": "code",
   "execution_count": 251,
   "id": "1ffda5a9",
   "metadata": {},
   "outputs": [
    {
     "data": {
      "text/html": [
       "<div>\n",
       "<style scoped>\n",
       "    .dataframe tbody tr th:only-of-type {\n",
       "        vertical-align: middle;\n",
       "    }\n",
       "\n",
       "    .dataframe tbody tr th {\n",
       "        vertical-align: top;\n",
       "    }\n",
       "\n",
       "    .dataframe thead th {\n",
       "        text-align: right;\n",
       "    }\n",
       "</style>\n",
       "<table border=\"1\" class=\"dataframe\">\n",
       "  <thead>\n",
       "    <tr style=\"text-align: right;\">\n",
       "      <th></th>\n",
       "      <th>eventDate</th>\n",
       "      <th>accountCreated</th>\n",
       "      <th>userID</th>\n",
       "      <th>configTag</th>\n",
       "      <th>itemNameGain</th>\n",
       "      <th>sourceType</th>\n",
       "      <th>attemptCount</th>\n",
       "      <th>moneySpent</th>\n",
       "      <th>platform</th>\n",
       "      <th>mediaSource</th>\n",
       "      <th>userCountry</th>\n",
       "    </tr>\n",
       "  </thead>\n",
       "  <tbody>\n",
       "    <tr>\n",
       "      <th>0</th>\n",
       "      <td>2022-12-06</td>\n",
       "      <td>2022-11-30T11:32:37.926000</td>\n",
       "      <td>b141f32d-70a2-11ed-9d04-6ae896912cdb</td>\n",
       "      <td>B</td>\n",
       "      <td>USA_M2Light</td>\n",
       "      <td>GachaEventReward</td>\n",
       "      <td>1</td>\n",
       "      <td>0.00</td>\n",
       "      <td>IPhonePlayer</td>\n",
       "      <td>Organic</td>\n",
       "      <td>JP</td>\n",
       "    </tr>\n",
       "    <tr>\n",
       "      <th>1</th>\n",
       "      <td>2022-12-06</td>\n",
       "      <td>2022-11-28T20:32:35.366000</td>\n",
       "      <td>cacf5b6d-6f5b-11ed-9083-c26667a54003</td>\n",
       "      <td>A</td>\n",
       "      <td>GER_PanzerjagerI</td>\n",
       "      <td>GachaEventReward</td>\n",
       "      <td>1</td>\n",
       "      <td>0.00</td>\n",
       "      <td>IPhonePlayer</td>\n",
       "      <td>Organic</td>\n",
       "      <td>CA</td>\n",
       "    </tr>\n",
       "    <tr>\n",
       "      <th>2</th>\n",
       "      <td>2022-12-06</td>\n",
       "      <td>2022-05-20T02:19:13.224000</td>\n",
       "      <td>3d7e648b-d7e3-11ec-975f-b205715961d6</td>\n",
       "      <td>B</td>\n",
       "      <td>GER_OpelBlitz</td>\n",
       "      <td>GachaEventReward</td>\n",
       "      <td>1</td>\n",
       "      <td>0.00</td>\n",
       "      <td>IPhonePlayer</td>\n",
       "      <td>Organic</td>\n",
       "      <td>TH</td>\n",
       "    </tr>\n",
       "    <tr>\n",
       "      <th>3</th>\n",
       "      <td>2022-12-06</td>\n",
       "      <td>2022-10-01T08:46:32.968000</td>\n",
       "      <td>8ce4fdab-4165-11ed-9cd2-2219f00f4034</td>\n",
       "      <td>B</td>\n",
       "      <td>GER_VWType82</td>\n",
       "      <td>GachaEventReward</td>\n",
       "      <td>1</td>\n",
       "      <td>0.00</td>\n",
       "      <td>IPhonePlayer</td>\n",
       "      <td>Organic</td>\n",
       "      <td>DE</td>\n",
       "    </tr>\n",
       "    <tr>\n",
       "      <th>4</th>\n",
       "      <td>2022-12-06</td>\n",
       "      <td>2022-12-06T04:03:02.857000</td>\n",
       "      <td>e1578b93-751a-11ed-9d04-6ae896912cdb</td>\n",
       "      <td>A</td>\n",
       "      <td>USA_Rifleman</td>\n",
       "      <td>GachaEventReward</td>\n",
       "      <td>1</td>\n",
       "      <td>1.99</td>\n",
       "      <td>IPhonePlayer</td>\n",
       "      <td>Organic</td>\n",
       "      <td>TH</td>\n",
       "    </tr>\n",
       "  </tbody>\n",
       "</table>\n",
       "</div>"
      ],
      "text/plain": [
       "    eventDate              accountCreated  \\\n",
       "0  2022-12-06  2022-11-30T11:32:37.926000   \n",
       "1  2022-12-06  2022-11-28T20:32:35.366000   \n",
       "2  2022-12-06  2022-05-20T02:19:13.224000   \n",
       "3  2022-12-06  2022-10-01T08:46:32.968000   \n",
       "4  2022-12-06  2022-12-06T04:03:02.857000   \n",
       "\n",
       "                                 userID configTag      itemNameGain  \\\n",
       "0  b141f32d-70a2-11ed-9d04-6ae896912cdb         B       USA_M2Light   \n",
       "1  cacf5b6d-6f5b-11ed-9083-c26667a54003         A  GER_PanzerjagerI   \n",
       "2  3d7e648b-d7e3-11ec-975f-b205715961d6         B     GER_OpelBlitz   \n",
       "3  8ce4fdab-4165-11ed-9cd2-2219f00f4034         B      GER_VWType82   \n",
       "4  e1578b93-751a-11ed-9d04-6ae896912cdb         A      USA_Rifleman   \n",
       "\n",
       "         sourceType  attemptCount  moneySpent      platform mediaSource  \\\n",
       "0  GachaEventReward             1        0.00  IPhonePlayer     Organic   \n",
       "1  GachaEventReward             1        0.00  IPhonePlayer     Organic   \n",
       "2  GachaEventReward             1        0.00  IPhonePlayer     Organic   \n",
       "3  GachaEventReward             1        0.00  IPhonePlayer     Organic   \n",
       "4  GachaEventReward             1        1.99  IPhonePlayer     Organic   \n",
       "\n",
       "  userCountry  \n",
       "0          JP  \n",
       "1          CA  \n",
       "2          TH  \n",
       "3          DE  \n",
       "4          TH  "
      ]
     },
     "execution_count": 251,
     "metadata": {},
     "output_type": "execute_result"
    }
   ],
   "source": [
    "df = pd.read_csv(r'itemGain.csv')\n",
    "df.head(5)\n",
    "# bq_df['INSTALL_DATE'] = bq_df['install_date'].str[:10]"
   ]
  },
  {
   "cell_type": "code",
   "execution_count": 252,
   "id": "dc4bd767",
   "metadata": {
    "scrolled": false
   },
   "outputs": [],
   "source": [
    "tier1 = str('US|IL|CA|AT|CH|DE|IT|US|AU|KR|SE|SG|NL|GB|ES|CZ|FR|TW|HU|CY|NZ|IE|BE|DK|NO|FI|JP').split('|')\n",
    "# tier1\n",
    "# df = df[(df['userCountry'].isin(tier1))]\n",
    "# df = df[(df['userCountry'].isin(['US']))]"
   ]
  },
  {
   "cell_type": "code",
   "execution_count": 253,
   "id": "87bac8c1",
   "metadata": {},
   "outputs": [
    {
     "name": "stdout",
     "output_type": "stream",
     "text": [
      "<class 'pandas.core.frame.DataFrame'>\n",
      "RangeIndex: 7411 entries, 0 to 7410\n",
      "Data columns (total 11 columns):\n",
      " #   Column          Non-Null Count  Dtype  \n",
      "---  ------          --------------  -----  \n",
      " 0   eventDate       7411 non-null   object \n",
      " 1   accountCreated  7411 non-null   object \n",
      " 2   userID          7411 non-null   object \n",
      " 3   configTag       7411 non-null   object \n",
      " 4   itemNameGain    7411 non-null   object \n",
      " 5   sourceType      7411 non-null   object \n",
      " 6   attemptCount    7411 non-null   int64  \n",
      " 7   moneySpent      7411 non-null   float64\n",
      " 8   platform        7411 non-null   object \n",
      " 9   mediaSource     7411 non-null   object \n",
      " 10  userCountry     7411 non-null   object \n",
      "dtypes: float64(1), int64(1), object(9)\n",
      "memory usage: 637.0+ KB\n"
     ]
    }
   ],
   "source": [
    "# copy = df[df['itemNameSpent'] == 'Contracts']\n",
    "copy = df.copy()\n",
    "copy.info()"
   ]
  },
  {
   "cell_type": "code",
   "execution_count": 254,
   "id": "5f3d6b78",
   "metadata": {},
   "outputs": [
    {
     "data": {
      "text/plain": [
       "configTag\n",
       "A    2094\n",
       "B    2075\n",
       "Name: userID, dtype: int64"
      ]
     },
     "execution_count": 254,
     "metadata": {},
     "output_type": "execute_result"
    }
   ],
   "source": [
    "# df[df['rev_7day'] > 0].groupby('configTag')['userID'].nunique()\n",
    "copy.groupby('configTag')['userID'].nunique()"
   ]
  },
  {
   "cell_type": "code",
   "execution_count": 255,
   "id": "37bff5ad",
   "metadata": {},
   "outputs": [
    {
     "data": {
      "text/html": [
       "<div>\n",
       "<style scoped>\n",
       "    .dataframe tbody tr th:only-of-type {\n",
       "        vertical-align: middle;\n",
       "    }\n",
       "\n",
       "    .dataframe tbody tr th {\n",
       "        vertical-align: top;\n",
       "    }\n",
       "\n",
       "    .dataframe thead th {\n",
       "        text-align: right;\n",
       "    }\n",
       "</style>\n",
       "<table border=\"1\" class=\"dataframe\">\n",
       "  <thead>\n",
       "    <tr style=\"text-align: right;\">\n",
       "      <th></th>\n",
       "      <th>attemptCount</th>\n",
       "      <th>moneySpent</th>\n",
       "    </tr>\n",
       "  </thead>\n",
       "  <tbody>\n",
       "    <tr>\n",
       "      <th>count</th>\n",
       "      <td>3581.000000</td>\n",
       "      <td>3581.000000</td>\n",
       "    </tr>\n",
       "    <tr>\n",
       "      <th>mean</th>\n",
       "      <td>4.097459</td>\n",
       "      <td>151.707928</td>\n",
       "    </tr>\n",
       "    <tr>\n",
       "      <th>std</th>\n",
       "      <td>7.281126</td>\n",
       "      <td>546.904798</td>\n",
       "    </tr>\n",
       "    <tr>\n",
       "      <th>min</th>\n",
       "      <td>1.000000</td>\n",
       "      <td>0.000000</td>\n",
       "    </tr>\n",
       "    <tr>\n",
       "      <th>25%</th>\n",
       "      <td>1.000000</td>\n",
       "      <td>0.000000</td>\n",
       "    </tr>\n",
       "    <tr>\n",
       "      <th>50%</th>\n",
       "      <td>1.000000</td>\n",
       "      <td>0.000000</td>\n",
       "    </tr>\n",
       "    <tr>\n",
       "      <th>75%</th>\n",
       "      <td>3.000000</td>\n",
       "      <td>20.960000</td>\n",
       "    </tr>\n",
       "    <tr>\n",
       "      <th>max</th>\n",
       "      <td>40.000000</td>\n",
       "      <td>3894.700000</td>\n",
       "    </tr>\n",
       "  </tbody>\n",
       "</table>\n",
       "</div>"
      ],
      "text/plain": [
       "       attemptCount   moneySpent\n",
       "count   3581.000000  3581.000000\n",
       "mean       4.097459   151.707928\n",
       "std        7.281126   546.904798\n",
       "min        1.000000     0.000000\n",
       "25%        1.000000     0.000000\n",
       "50%        1.000000     0.000000\n",
       "75%        3.000000    20.960000\n",
       "max       40.000000  3894.700000"
      ]
     },
     "execution_count": 255,
     "metadata": {},
     "output_type": "execute_result"
    }
   ],
   "source": [
    "copy[copy['configTag'] == 'A'].describe()"
   ]
  },
  {
   "cell_type": "code",
   "execution_count": 256,
   "id": "40701f1a",
   "metadata": {},
   "outputs": [
    {
     "data": {
      "text/html": [
       "<div>\n",
       "<style scoped>\n",
       "    .dataframe tbody tr th:only-of-type {\n",
       "        vertical-align: middle;\n",
       "    }\n",
       "\n",
       "    .dataframe tbody tr th {\n",
       "        vertical-align: top;\n",
       "    }\n",
       "\n",
       "    .dataframe thead th {\n",
       "        text-align: right;\n",
       "    }\n",
       "</style>\n",
       "<table border=\"1\" class=\"dataframe\">\n",
       "  <thead>\n",
       "    <tr style=\"text-align: right;\">\n",
       "      <th></th>\n",
       "      <th>attemptCount</th>\n",
       "      <th>moneySpent</th>\n",
       "    </tr>\n",
       "  </thead>\n",
       "  <tbody>\n",
       "    <tr>\n",
       "      <th>count</th>\n",
       "      <td>3830.000000</td>\n",
       "      <td>3830.000000</td>\n",
       "    </tr>\n",
       "    <tr>\n",
       "      <th>mean</th>\n",
       "      <td>3.967363</td>\n",
       "      <td>131.531076</td>\n",
       "    </tr>\n",
       "    <tr>\n",
       "      <th>std</th>\n",
       "      <td>5.159127</td>\n",
       "      <td>402.087523</td>\n",
       "    </tr>\n",
       "    <tr>\n",
       "      <th>min</th>\n",
       "      <td>1.000000</td>\n",
       "      <td>0.000000</td>\n",
       "    </tr>\n",
       "    <tr>\n",
       "      <th>25%</th>\n",
       "      <td>1.000000</td>\n",
       "      <td>0.000000</td>\n",
       "    </tr>\n",
       "    <tr>\n",
       "      <th>50%</th>\n",
       "      <td>1.000000</td>\n",
       "      <td>0.000000</td>\n",
       "    </tr>\n",
       "    <tr>\n",
       "      <th>75%</th>\n",
       "      <td>5.000000</td>\n",
       "      <td>24.990000</td>\n",
       "    </tr>\n",
       "    <tr>\n",
       "      <th>max</th>\n",
       "      <td>23.000000</td>\n",
       "      <td>2120.470000</td>\n",
       "    </tr>\n",
       "  </tbody>\n",
       "</table>\n",
       "</div>"
      ],
      "text/plain": [
       "       attemptCount   moneySpent\n",
       "count   3830.000000  3830.000000\n",
       "mean       3.967363   131.531076\n",
       "std        5.159127   402.087523\n",
       "min        1.000000     0.000000\n",
       "25%        1.000000     0.000000\n",
       "50%        1.000000     0.000000\n",
       "75%        5.000000    24.990000\n",
       "max       23.000000  2120.470000"
      ]
     },
     "execution_count": 256,
     "metadata": {},
     "output_type": "execute_result"
    }
   ],
   "source": [
    "copy[copy['configTag'] == 'B'].describe()"
   ]
  },
  {
   "cell_type": "code",
   "execution_count": 257,
   "id": "fc117963",
   "metadata": {},
   "outputs": [],
   "source": [
    "def stat_intervals(stat, alpha):\n",
    "    boundaries = np.percentile(stat, [100 * alpha / 2., 100 * (1 - alpha / 2.)])\n",
    "    return boundaries.round(decimals=2)"
   ]
  },
  {
   "cell_type": "code",
   "execution_count": 258,
   "id": "9eb624c3",
   "metadata": {},
   "outputs": [],
   "source": [
    "def get_bootstrap_samples(data, n_samples):\n",
    "    indices = np.random.randint(0, len(data), (n_samples, len(data)))\n",
    "    samples = data[indices]\n",
    "    return samples"
   ]
  },
  {
   "cell_type": "code",
   "execution_count": 259,
   "id": "74edfecf",
   "metadata": {},
   "outputs": [],
   "source": [
    "# copy = df[df['installDate'] <= '2022-10-11']\n",
    "# arpu_A = copy[copy['configTag'] == 'D']['rev_14day']\n",
    "# arpu_B = copy[copy['configTag'] == 'E']['rev_14day']\n",
    "contracts_spent_A = copy[copy['configTag'] == 'A'].groupby('userID')['attemptCount'].count()\n",
    "contracts_spent_B = copy[copy['configTag'] == 'B'].groupby('userID')['attemptCount'].count()"
   ]
  },
  {
   "cell_type": "code",
   "execution_count": 260,
   "id": "97d0d9b1",
   "metadata": {},
   "outputs": [
    {
     "data": {
      "text/plain": [
       "userID\n",
       "0003385b-78e3-11ed-bade-628a94b2f6a7    4\n",
       "000770cb-784a-11ed-bade-628a94b2f6a7    1\n",
       "00664928-6717-11ed-a64c-fe78441d4e7f    3\n",
       "007f9820-7431-11ed-aa4b-868fa6f74f7c    1\n",
       "0081f987-7292-11ed-9d04-6ae896912cdb    1\n",
       "00d7a527-74d3-11ed-aa4b-868fa6f74f7c    1\n",
       "010f1d20-3bf5-11ed-b41d-8260998f9e8d    3\n",
       "012e21a7-7174-11ed-aa4b-868fa6f74f7c    1\n",
       "0142dab7-6501-11ed-a64c-fe78441d4e7f    2\n",
       "01618b71-4250-11ed-8555-561d121a0fd8    1\n",
       "Name: attemptCount, dtype: int64"
      ]
     },
     "execution_count": 260,
     "metadata": {},
     "output_type": "execute_result"
    }
   ],
   "source": [
    "contracts_spent_A.head(10)"
   ]
  },
  {
   "cell_type": "code",
   "execution_count": 261,
   "id": "030aee0c",
   "metadata": {},
   "outputs": [
    {
     "name": "stdout",
     "output_type": "stream",
     "text": [
      "<class 'pandas.core.series.Series'>\n",
      "Index: 2094 entries, 0003385b-78e3-11ed-bade-628a94b2f6a7 to ffc42f75-721e-11ed-9d04-6ae896912cdb\n",
      "Series name: attemptCount\n",
      "Non-Null Count  Dtype\n",
      "--------------  -----\n",
      "2094 non-null   int64\n",
      "dtypes: int64(1)\n",
      "memory usage: 32.7+ KB\n",
      "<class 'pandas.core.series.Series'>\n",
      "Index: 2075 entries, 001c0779-4fdc-11ed-86da-a6799dc2ec30 to ffefc026-720e-11ed-aa4b-868fa6f74f7c\n",
      "Series name: attemptCount\n",
      "Non-Null Count  Dtype\n",
      "--------------  -----\n",
      "2075 non-null   int64\n",
      "dtypes: int64(1)\n",
      "memory usage: 32.4+ KB\n"
     ]
    }
   ],
   "source": [
    "contracts_spent_A.info()\n",
    "contracts_spent_B.info()"
   ]
  },
  {
   "cell_type": "code",
   "execution_count": 262,
   "id": "8cce7e6e",
   "metadata": {},
   "outputs": [
    {
     "data": {
      "image/png": "[encoded data removed]",
      "text/plain": [
       "<Figure size 1080x360 with 1 Axes>"
      ]
     },
     "metadata": {
      "needs_background": "light"
     },
     "output_type": "display_data"
    },
    {
     "name": "stdout",
     "output_type": "stream",
     "text": [
      "95% confidence interval for mean group A Gacha Attempts per User: [1.59 1.85]\n",
      "95% confidence interval for mean group B Gacha Attempts per User: [1.69 2.03]\n"
     ]
    }
   ],
   "source": [
    "groupA_median_scores = list(map(np.mean, get_bootstrap_samples(contracts_spent_A.values, 10000)))\n",
    "groupB_median_scores = list(map(np.mean, get_bootstrap_samples(contracts_spent_B.values, 10000)))\n",
    "\n",
    "pylab.figure(figsize(15, 5))\n",
    "pylab.subplot(1,2,1)\n",
    "pylab.hist(groupA_median_scores, alpha = .5, color = 'b', label = 'Group A', bins = 100)\n",
    "pylab.legend()\n",
    "\n",
    "pylab.subplot(1,2,1)\n",
    "pylab.hist(groupB_median_scores, alpha = .5, color = 'r', label = 'Group B', bins = 100)\n",
    "pylab.legend()\n",
    "\n",
    "# pylab.subplot(1,2,1)\n",
    "# pylab.hist(groupC_median_scores, alpha = .5, color = 'g', label = 'Group C ARPU 1d', bins = 100)\n",
    "# pylab.legend()\n",
    "\n",
    "pylab.ylabel('Frequency') \n",
    "pylab.xlabel('Gacha Attempts per User') \n",
    "pylab.show()\n",
    "\n",
    "print(\"95% confidence interval for mean group A Gacha Attempts per User:\",  stat_intervals(groupA_median_scores, 0.05))\n",
    "print(\"95% confidence interval for mean group B Gacha Attempts per User:\",  stat_intervals(groupB_median_scores, 0.05))"
   ]
  },
  {
   "cell_type": "code",
   "execution_count": 263,
   "id": "ecff615e",
   "metadata": {},
   "outputs": [
    {
     "data": {
      "text/plain": [
       "MannwhitneyuResult(statistic=2176272.5, pvalue=0.44876570981383634)"
      ]
     },
     "execution_count": 263,
     "metadata": {},
     "output_type": "execute_result"
    }
   ],
   "source": [
    "scipy.stats.mannwhitneyu(contracts_spent_A, contracts_spent_B, use_continuity=True, alternative='greater')"
   ]
  },
  {
   "cell_type": "code",
   "execution_count": 264,
   "id": "751cbde6",
   "metadata": {},
   "outputs": [
    {
     "data": {
      "text/plain": [
       "1.710124164278892"
      ]
     },
     "execution_count": 264,
     "metadata": {},
     "output_type": "execute_result"
    }
   ],
   "source": [
    "contracts_spent_A.mean()"
   ]
  },
  {
   "cell_type": "code",
   "execution_count": 265,
   "id": "0418bb36",
   "metadata": {},
   "outputs": [
    {
     "data": {
      "text/plain": [
       "1.8457831325301204"
      ]
     },
     "execution_count": 265,
     "metadata": {},
     "output_type": "execute_result"
    }
   ],
   "source": [
    "contracts_spent_B.mean()"
   ]
  },
  {
   "cell_type": "code",
   "execution_count": 337,
   "id": "dd264369",
   "metadata": {},
   "outputs": [
    {
     "name": "stdout",
     "output_type": "stream",
     "text": [
      "<class 'pandas.core.frame.DataFrame'>\n",
      "RangeIndex: 2416 entries, 0 to 2415\n",
      "Data columns (total 12 columns):\n",
      " #   Column          Non-Null Count  Dtype  \n",
      "---  ------          --------------  -----  \n",
      " 0   eventDate       2416 non-null   object \n",
      " 1   accountCreated  2416 non-null   object \n",
      " 2   userID          2416 non-null   object \n",
      " 3   configTag       2416 non-null   object \n",
      " 4   itemNameGain    2416 non-null   object \n",
      " 5   itemNameSpent   2416 non-null   object \n",
      " 6   itemAmount      2416 non-null   float64\n",
      " 7   itemTypeGain    2416 non-null   object \n",
      " 8   moneySpent      2416 non-null   float64\n",
      " 9   platform        2416 non-null   object \n",
      " 10  mediaSource     2416 non-null   object \n",
      " 11  userCountry     2416 non-null   object \n",
      "dtypes: float64(2), object(10)\n",
      "memory usage: 226.6+ KB\n"
     ]
    }
   ],
   "source": [
    "# tokens = df[(df['itemNameSpent'] == 'Tokens')]\n",
    "tokens = pd.read_csv(r'itemSpent.csv')\n",
    "tokens.info()"
   ]
  },
  {
   "cell_type": "code",
   "execution_count": 338,
   "id": "ff263136",
   "metadata": {},
   "outputs": [
    {
     "data": {
      "text/plain": [
       "configTag\n",
       "A    399\n",
       "B    402\n",
       "Name: userID, dtype: int64"
      ]
     },
     "execution_count": 338,
     "metadata": {},
     "output_type": "execute_result"
    }
   ],
   "source": [
    "tokens = tokens[tokens['userID'].isin(copy['userID'])]\n",
    "tokens.groupby('configTag')['userID'].nunique()"
   ]
  },
  {
   "cell_type": "code",
   "execution_count": 418,
   "id": "e02a1a0e",
   "metadata": {},
   "outputs": [
    {
     "data": {
      "text/plain": [
       "configTag\n",
       "A    266200.0\n",
       "B    294600.0\n",
       "Name: itemAmount, dtype: float64"
      ]
     },
     "execution_count": 418,
     "metadata": {},
     "output_type": "execute_result"
    }
   ],
   "source": [
    "total_tokens = tokens.groupby('configTag')['itemAmount'].sum()\n",
    "total_tokens.head()"
   ]
  },
  {
   "cell_type": "code",
   "execution_count": 339,
   "id": "85195cd5",
   "metadata": {},
   "outputs": [],
   "source": [
    "tokens_spent_A = tokens[tokens['configTag'] == 'A'].groupby('userID')['itemAmount'].sum()\n",
    "tokens_spent_B = tokens[tokens['configTag'] == 'B'].groupby('userID')['itemAmount'].sum()"
   ]
  },
  {
   "cell_type": "code",
   "execution_count": 340,
   "id": "059599fb",
   "metadata": {},
   "outputs": [
    {
     "data": {
      "text/plain": [
       "count      399.000000\n",
       "mean       667.167920\n",
       "std       2524.592559\n",
       "min        200.000000\n",
       "25%        200.000000\n",
       "50%        200.000000\n",
       "75%        400.000000\n",
       "max      31200.000000\n",
       "Name: itemAmount, dtype: float64"
      ]
     },
     "execution_count": 340,
     "metadata": {},
     "output_type": "execute_result"
    }
   ],
   "source": [
    "tokens_spent_A.describe()"
   ]
  },
  {
   "cell_type": "code",
   "execution_count": 341,
   "id": "78018edc",
   "metadata": {},
   "outputs": [
    {
     "data": {
      "text/plain": [
       "count      402.000000\n",
       "mean       732.835821\n",
       "std       1914.784692\n",
       "min        200.000000\n",
       "25%        200.000000\n",
       "50%        200.000000\n",
       "75%        400.000000\n",
       "max      23600.000000\n",
       "Name: itemAmount, dtype: float64"
      ]
     },
     "execution_count": 341,
     "metadata": {},
     "output_type": "execute_result"
    }
   ],
   "source": [
    "tokens_spent_B.describe()"
   ]
  },
  {
   "cell_type": "code",
   "execution_count": 342,
   "id": "23b931f6",
   "metadata": {},
   "outputs": [
    {
     "data": {
      "text/plain": [
       "[106, 121]"
      ]
     },
     "execution_count": 342,
     "metadata": {},
     "output_type": "execute_result"
    }
   ],
   "source": [
    "[tokens_spent_A[tokens_spent_A.values > 200].count(), tokens_spent_B[tokens_spent_B.values > 200].count()]"
   ]
  },
  {
   "cell_type": "code",
   "execution_count": 343,
   "id": "98ffc717",
   "metadata": {},
   "outputs": [
    {
     "data": {
      "image/png": "[encoded data removed]",
      "text/plain": [
       "<Figure size 1080x360 with 1 Axes>"
      ]
     },
     "metadata": {
      "needs_background": "light"
     },
     "output_type": "display_data"
    },
    {
     "name": "stdout",
     "output_type": "stream",
     "text": [
      "95% confidence interval for mean group A Tokens Spent on Contracts per User: [451.63 940.85]\n",
      "95% confidence interval for mean group B Tokens Spent on Contracts per User: [561.18 937.81]\n"
     ]
    }
   ],
   "source": [
    "groupA_median_scores = list(map(np.mean, get_bootstrap_samples(tokens_spent_A.values, 10000)))\n",
    "groupB_median_scores = list(map(np.mean, get_bootstrap_samples(tokens_spent_B.values, 10000)))\n",
    "\n",
    "pylab.figure(figsize(15, 5))\n",
    "pylab.subplot(1,2,1)\n",
    "pylab.hist(groupA_median_scores, alpha = .5, color = 'b', label = 'Group A', bins = 100)\n",
    "pylab.legend()\n",
    "\n",
    "pylab.subplot(1,2,1)\n",
    "pylab.hist(groupB_median_scores, alpha = .5, color = 'r', label = 'Group B', bins = 100)\n",
    "pylab.legend()\n",
    "\n",
    "# pylab.subplot(1,2,1)\n",
    "# pylab.hist(groupC_median_scores, alpha = .5, color = 'g', label = 'Group C ARPU 1d', bins = 100)\n",
    "# pylab.legend()\n",
    "\n",
    "pylab.ylabel('Frequency') \n",
    "pylab.xlabel('Tokens Spent on Contracts per User') \n",
    "pylab.show()\n",
    "\n",
    "print(\"95% confidence interval for mean group A Tokens Spent on Contracts per User:\",  stat_intervals(groupA_median_scores, 0.05))\n",
    "print(\"95% confidence interval for mean group B Tokens Spent on Contracts per User:\",  stat_intervals(groupB_median_scores, 0.05))"
   ]
  },
  {
   "cell_type": "code",
   "execution_count": 344,
   "id": "67447fcc",
   "metadata": {},
   "outputs": [
    {
     "data": {
      "text/plain": [
       "MannwhitneyuResult(statistic=76531.5, pvalue=0.9210931720879239)"
      ]
     },
     "execution_count": 344,
     "metadata": {},
     "output_type": "execute_result"
    }
   ],
   "source": [
    "scipy.stats.mannwhitneyu(tokens_spent_A, tokens_spent_B, use_continuity=True, alternative='greater')"
   ]
  },
  {
   "cell_type": "code",
   "execution_count": 275,
   "id": "41380d3a",
   "metadata": {},
   "outputs": [
    {
     "name": "stdout",
     "output_type": "stream",
     "text": [
      "<class 'pandas.core.frame.DataFrame'>\n",
      "RangeIndex: 3934 entries, 0 to 3933\n",
      "Data columns (total 12 columns):\n",
      " #   Column          Non-Null Count  Dtype  \n",
      "---  ------          --------------  -----  \n",
      " 0   eventDate       3934 non-null   object \n",
      " 1   accountCreated  3934 non-null   object \n",
      " 2   userID          3934 non-null   object \n",
      " 3   configTag       3934 non-null   object \n",
      " 4   itemNameGain    3934 non-null   object \n",
      " 5   sourceType      3934 non-null   object \n",
      " 6   itemAmount      3934 non-null   float64\n",
      " 7   attemptCount    0 non-null      float64\n",
      " 8   moneySpent      3934 non-null   float64\n",
      " 9   platform        3934 non-null   object \n",
      " 10  mediaSource     3934 non-null   object \n",
      " 11  userCountry     3934 non-null   object \n",
      "dtypes: float64(3), object(9)\n",
      "memory usage: 368.9+ KB\n"
     ]
    }
   ],
   "source": [
    "df_gain = pd.read_csv(r'tokens_gained.csv')\n",
    "df_gain.head(10)\n",
    "df_gain.info()\n",
    "# bq_df['INSTALL_DATE'] = bq_df['install_date'].str[:10]"
   ]
  },
  {
   "cell_type": "code",
   "execution_count": 276,
   "id": "49965c24",
   "metadata": {},
   "outputs": [
    {
     "name": "stdout",
     "output_type": "stream",
     "text": [
      "<class 'pandas.core.frame.DataFrame'>\n",
      "Int64Index: 1555 entries, 1 to 3933\n",
      "Data columns (total 12 columns):\n",
      " #   Column          Non-Null Count  Dtype  \n",
      "---  ------          --------------  -----  \n",
      " 0   eventDate       1555 non-null   object \n",
      " 1   accountCreated  1555 non-null   object \n",
      " 2   userID          1555 non-null   object \n",
      " 3   configTag       1555 non-null   object \n",
      " 4   itemNameGain    1555 non-null   object \n",
      " 5   sourceType      1555 non-null   object \n",
      " 6   itemAmount      1555 non-null   float64\n",
      " 7   attemptCount    0 non-null      float64\n",
      " 8   moneySpent      1555 non-null   float64\n",
      " 9   platform        1555 non-null   object \n",
      " 10  mediaSource     1555 non-null   object \n",
      " 11  userCountry     1555 non-null   object \n",
      "dtypes: float64(3), object(9)\n",
      "memory usage: 157.9+ KB\n"
     ]
    }
   ],
   "source": [
    "df_gain = df_gain[df_gain['userID'].isin(copy['userID'])]\n",
    "df_gain.info()"
   ]
  },
  {
   "cell_type": "code",
   "execution_count": 277,
   "id": "1a83807e",
   "metadata": {},
   "outputs": [],
   "source": [
    "tokens_gained_A = df_gain[df_gain['configTag'] == 'A'].groupby('userID')['itemAmount'].sum()\n",
    "tokens_gained_B = df_gain[df_gain['configTag'] == 'B'].groupby('userID')['itemAmount'].sum()"
   ]
  },
  {
   "cell_type": "code",
   "execution_count": 278,
   "id": "b2de2607",
   "metadata": {},
   "outputs": [
    {
     "data": {
      "text/plain": [
       "count      229.000000\n",
       "mean      2550.218341\n",
       "std       5698.191460\n",
       "min        100.000000\n",
       "25%        300.000000\n",
       "50%        600.000000\n",
       "75%       1800.000000\n",
       "max      48850.000000\n",
       "Name: itemAmount, dtype: float64"
      ]
     },
     "execution_count": 278,
     "metadata": {},
     "output_type": "execute_result"
    }
   ],
   "source": [
    "tokens_gained_A.describe()"
   ]
  },
  {
   "cell_type": "code",
   "execution_count": 279,
   "id": "6568f144",
   "metadata": {},
   "outputs": [
    {
     "data": {
      "text/plain": [
       "count      252.000000\n",
       "mean      2219.841270\n",
       "std       4563.319803\n",
       "min        100.000000\n",
       "25%        300.000000\n",
       "50%        600.000000\n",
       "75%       1925.000000\n",
       "max      43000.000000\n",
       "Name: itemAmount, dtype: float64"
      ]
     },
     "execution_count": 279,
     "metadata": {},
     "output_type": "execute_result"
    }
   ],
   "source": [
    "tokens_gained_B.describe()"
   ]
  },
  {
   "cell_type": "code",
   "execution_count": 280,
   "id": "236dd18f",
   "metadata": {},
   "outputs": [
    {
     "data": {
      "image/png": "[encoded data removed]",
      "text/plain": [
       "<Figure size 1080x360 with 1 Axes>"
      ]
     },
     "metadata": {
      "needs_background": "light"
     },
     "output_type": "display_data"
    },
    {
     "name": "stdout",
     "output_type": "stream",
     "text": [
      "95% confidence interval for mean group A Tokens Gained from purchases  per User: [1876.84 3336.36]\n",
      "95% confidence interval for mean group B Tokens Gained from purchases per User: [1702.57 2831.16]\n"
     ]
    }
   ],
   "source": [
    "groupA_median_scores = list(map(np.mean, get_bootstrap_samples(tokens_gained_A.values, 10000)))\n",
    "groupB_median_scores = list(map(np.mean, get_bootstrap_samples(tokens_gained_B.values, 10000)))\n",
    "\n",
    "pylab.figure(figsize(15, 5))\n",
    "pylab.subplot(1,2,1)\n",
    "pylab.hist(groupA_median_scores, alpha = .5, color = 'b', label = 'Group A', bins = 100)\n",
    "pylab.legend()\n",
    "\n",
    "pylab.subplot(1,2,1)\n",
    "pylab.hist(groupB_median_scores, alpha = .5, color = 'r', label = 'Group B', bins = 100)\n",
    "pylab.legend()\n",
    "\n",
    "# pylab.subplot(1,2,1)\n",
    "# pylab.hist(groupC_median_scores, alpha = .5, color = 'g', label = 'Group C ARPU 1d', bins = 100)\n",
    "# pylab.legend()\n",
    "\n",
    "pylab.ylabel('Frequency') \n",
    "pylab.xlabel('Tokens Gained from purchases per User') \n",
    "pylab.show()\n",
    "\n",
    "print(\"95% confidence interval for mean group A Tokens Gained from purchases  per User:\",  stat_intervals(groupA_median_scores, 0.05))\n",
    "print(\"95% confidence interval for mean group B Tokens Gained from purchases per User:\",  stat_intervals(groupB_median_scores, 0.05))"
   ]
  },
  {
   "cell_type": "code",
   "execution_count": 281,
   "id": "7b8db534",
   "metadata": {},
   "outputs": [
    {
     "data": {
      "text/plain": [
       "MannwhitneyuResult(statistic=28798.0, pvalue=0.5148241513332528)"
      ]
     },
     "execution_count": 281,
     "metadata": {},
     "output_type": "execute_result"
    }
   ],
   "source": [
    "scipy.stats.mannwhitneyu(tokens_gained_A, tokens_gained_B, use_continuity=True, alternative='greater')"
   ]
  },
  {
   "cell_type": "code",
   "execution_count": 370,
   "id": "7edf6f53",
   "metadata": {},
   "outputs": [
    {
     "name": "stdout",
     "output_type": "stream",
     "text": [
      "<class 'pandas.core.frame.DataFrame'>\n",
      "RangeIndex: 918 entries, 0 to 917\n",
      "Data columns (total 10 columns):\n",
      " #   Column          Non-Null Count  Dtype  \n",
      "---  ------          --------------  -----  \n",
      " 0   eventDate       918 non-null    object \n",
      " 1   accountCreated  918 non-null    object \n",
      " 2   userID          918 non-null    object \n",
      " 3   configTag       918 non-null    object \n",
      " 4   productName     918 non-null    object \n",
      " 5   configPrice     918 non-null    float64\n",
      " 6   moneySpent      918 non-null    float64\n",
      " 7   platform        918 non-null    object \n",
      " 8   mediaSource     918 non-null    object \n",
      " 9   userCountry     918 non-null    object \n",
      "dtypes: float64(2), object(8)\n",
      "memory usage: 71.8+ KB\n"
     ]
    }
   ],
   "source": [
    "df_purchased = pd.read_csv(r'token_purchases.csv')\n",
    "df_purchased.head(10)\n",
    "df_purchased.info()\n",
    "# bq_df['INSTALL_DATE'] = bq_df['install_date'].str[:10]"
   ]
  },
  {
   "cell_type": "code",
   "execution_count": 371,
   "id": "94c0ab3a",
   "metadata": {},
   "outputs": [
    {
     "name": "stdout",
     "output_type": "stream",
     "text": [
      "<class 'pandas.core.frame.DataFrame'>\n",
      "Int64Index: 457 entries, 0 to 914\n",
      "Data columns (total 10 columns):\n",
      " #   Column          Non-Null Count  Dtype  \n",
      "---  ------          --------------  -----  \n",
      " 0   eventDate       457 non-null    object \n",
      " 1   accountCreated  457 non-null    object \n",
      " 2   userID          457 non-null    object \n",
      " 3   configTag       457 non-null    object \n",
      " 4   productName     457 non-null    object \n",
      " 5   configPrice     457 non-null    float64\n",
      " 6   moneySpent      457 non-null    float64\n",
      " 7   platform        457 non-null    object \n",
      " 8   mediaSource     457 non-null    object \n",
      " 9   userCountry     457 non-null    object \n",
      "dtypes: float64(2), object(8)\n",
      "memory usage: 39.3+ KB\n"
     ]
    }
   ],
   "source": [
    "df_purchased = df_purchased[df_purchased['userID'].isin(copy['userID'])]\n",
    "df_purchased.info()"
   ]
  },
  {
   "cell_type": "code",
   "execution_count": 417,
   "id": "0894a1e3",
   "metadata": {},
   "outputs": [
    {
     "data": {
      "text/plain": [
       "configTag\n",
       "A    2656.62\n",
       "B    2689.81\n",
       "Name: configPrice, dtype: float64"
      ]
     },
     "execution_count": 417,
     "metadata": {},
     "output_type": "execute_result"
    }
   ],
   "source": [
    "total_purchased = df_purchased.groupby('configTag')['configPrice'].sum()\n",
    "total_purchased.head()"
   ]
  },
  {
   "cell_type": "code",
   "execution_count": 372,
   "id": "2e9f1943",
   "metadata": {},
   "outputs": [],
   "source": [
    "tokens_purchased_A = df_purchased[df_purchased['configTag'] == 'A'].groupby('userID')['configPrice'].sum()\n",
    "tokens_purchased_B = df_purchased[df_purchased['configTag'] == 'B'].groupby('userID')['configPrice'].sum()"
   ]
  },
  {
   "cell_type": "code",
   "execution_count": 373,
   "id": "27a5c5d0",
   "metadata": {},
   "outputs": [
    {
     "data": {
      "text/plain": [
       "count     85.000000\n",
       "mean      31.254353\n",
       "std       58.948185\n",
       "min        0.990000\n",
       "25%        3.960000\n",
       "50%        9.990000\n",
       "75%       24.960000\n",
       "max      340.910000\n",
       "Name: configPrice, dtype: float64"
      ]
     },
     "execution_count": 373,
     "metadata": {},
     "output_type": "execute_result"
    }
   ],
   "source": [
    "tokens_purchased_A.describe()"
   ]
  },
  {
   "cell_type": "code",
   "execution_count": 374,
   "id": "194e3f41",
   "metadata": {},
   "outputs": [
    {
     "data": {
      "text/plain": [
       "count    102.000000\n",
       "mean      26.370686\n",
       "std       51.015618\n",
       "min        0.990000\n",
       "25%        2.227500\n",
       "50%        9.990000\n",
       "75%       28.462500\n",
       "max      349.950000\n",
       "Name: configPrice, dtype: float64"
      ]
     },
     "execution_count": 374,
     "metadata": {},
     "output_type": "execute_result"
    }
   ],
   "source": [
    "tokens_purchased_B.describe()"
   ]
  },
  {
   "cell_type": "code",
   "execution_count": 375,
   "id": "f58befd2",
   "metadata": {},
   "outputs": [
    {
     "data": {
      "image/png": "[encoded data removed]",
      "text/plain": [
       "<Figure size 1080x360 with 1 Axes>"
      ]
     },
     "metadata": {
      "needs_background": "light"
     },
     "output_type": "display_data"
    },
    {
     "name": "stdout",
     "output_type": "stream",
     "text": [
      "95% confidence interval for mean group A Money Spent on Tokens per User: [20.01 44.32]\n",
      "95% confidence interval for mean group B Money Spent on Tokens per User: [17.46 37.27]\n"
     ]
    }
   ],
   "source": [
    "groupA_median_scores = list(map(np.mean, get_bootstrap_samples(tokens_purchased_A.values, 10000)))\n",
    "groupB_median_scores = list(map(np.mean, get_bootstrap_samples(tokens_purchased_B.values, 10000)))\n",
    "\n",
    "pylab.figure(figsize(15, 5))\n",
    "pylab.subplot(1,2,1)\n",
    "pylab.hist(groupA_median_scores, alpha = .5, color = 'b', label = 'Group A', bins = 100)\n",
    "pylab.legend()\n",
    "\n",
    "pylab.subplot(1,2,1)\n",
    "pylab.hist(groupB_median_scores, alpha = .5, color = 'r', label = 'Group B', bins = 100)\n",
    "pylab.legend()\n",
    "\n",
    "# pylab.subplot(1,2,1)\n",
    "# pylab.hist(groupC_median_scores, alpha = .5, color = 'g', label = 'Group C ARPU 1d', bins = 100)\n",
    "# pylab.legend()\n",
    "\n",
    "pylab.ylabel('Frequency') \n",
    "pylab.xlabel('Money Spent on Tokens per User') \n",
    "pylab.show()\n",
    "\n",
    "print(\"95% confidence interval for mean group A Money Spent on Tokens per User:\",  stat_intervals(groupA_median_scores, 0.05))\n",
    "print(\"95% confidence interval for mean group B Money Spent on Tokens per User:\",  stat_intervals(groupB_median_scores, 0.05))"
   ]
  },
  {
   "cell_type": "code",
   "execution_count": 376,
   "id": "c4d7d41e",
   "metadata": {},
   "outputs": [
    {
     "data": {
      "text/plain": [
       "MannwhitneyuResult(statistic=4498.5, pvalue=0.32818135443422003)"
      ]
     },
     "execution_count": 376,
     "metadata": {},
     "output_type": "execute_result"
    }
   ],
   "source": [
    "scipy.stats.mannwhitneyu(tokens_purchased_A, tokens_purchased_B, use_continuity=True, alternative='greater')"
   ]
  },
  {
   "cell_type": "code",
   "execution_count": 377,
   "id": "854ee660",
   "metadata": {},
   "outputs": [
    {
     "name": "stdout",
     "output_type": "stream",
     "text": [
      "<class 'pandas.core.frame.DataFrame'>\n",
      "RangeIndex: 7411 entries, 0 to 7410\n",
      "Data columns (total 12 columns):\n",
      " #   Column          Non-Null Count  Dtype  \n",
      "---  ------          --------------  -----  \n",
      " 0   eventDate       7411 non-null   object \n",
      " 1   accountCreated  7411 non-null   object \n",
      " 2   userID          7411 non-null   object \n",
      " 3   configTag       7411 non-null   object \n",
      " 4   itemNameGain    7411 non-null   object \n",
      " 5   sourceType      7411 non-null   object \n",
      " 6   attemptCount    7411 non-null   int64  \n",
      " 7   moneySpent      7411 non-null   float64\n",
      " 8   platform        7411 non-null   object \n",
      " 9   mediaSource     7411 non-null   object \n",
      " 10  userCountry     7411 non-null   object \n",
      " 11  SpendTier       7411 non-null   object \n",
      "dtypes: float64(1), int64(1), object(10)\n",
      "memory usage: 694.9+ KB\n"
     ]
    }
   ],
   "source": [
    "attemptsBySpend = df.copy()\n",
    "attemptsBySpend['SpendTier'] = ''\n",
    "attemptsBySpend['moneySpent'] = attemptsBySpend['moneySpent'] * 1.0\n",
    "attemptsBySpend.info()"
   ]
  },
  {
   "cell_type": "code",
   "execution_count": 378,
   "id": "e417c567",
   "metadata": {},
   "outputs": [
    {
     "data": {
      "text/html": [
       "<div>\n",
       "<style scoped>\n",
       "    .dataframe tbody tr th:only-of-type {\n",
       "        vertical-align: middle;\n",
       "    }\n",
       "\n",
       "    .dataframe tbody tr th {\n",
       "        vertical-align: top;\n",
       "    }\n",
       "\n",
       "    .dataframe thead th {\n",
       "        text-align: right;\n",
       "    }\n",
       "</style>\n",
       "<table border=\"1\" class=\"dataframe\">\n",
       "  <thead>\n",
       "    <tr style=\"text-align: right;\">\n",
       "      <th></th>\n",
       "      <th>eventDate</th>\n",
       "      <th>accountCreated</th>\n",
       "      <th>userID</th>\n",
       "      <th>configTag</th>\n",
       "      <th>itemNameGain</th>\n",
       "      <th>sourceType</th>\n",
       "      <th>attemptCount</th>\n",
       "      <th>moneySpent</th>\n",
       "      <th>platform</th>\n",
       "      <th>mediaSource</th>\n",
       "      <th>userCountry</th>\n",
       "      <th>SpendTier</th>\n",
       "    </tr>\n",
       "  </thead>\n",
       "  <tbody>\n",
       "    <tr>\n",
       "      <th>0</th>\n",
       "      <td>2022-12-06</td>\n",
       "      <td>2022-11-30T11:32:37.926000</td>\n",
       "      <td>b141f32d-70a2-11ed-9d04-6ae896912cdb</td>\n",
       "      <td>B</td>\n",
       "      <td>USA_M2Light</td>\n",
       "      <td>GachaEventReward</td>\n",
       "      <td>1</td>\n",
       "      <td>0.00</td>\n",
       "      <td>IPhonePlayer</td>\n",
       "      <td>Organic</td>\n",
       "      <td>JP</td>\n",
       "      <td></td>\n",
       "    </tr>\n",
       "    <tr>\n",
       "      <th>1</th>\n",
       "      <td>2022-12-06</td>\n",
       "      <td>2022-11-28T20:32:35.366000</td>\n",
       "      <td>cacf5b6d-6f5b-11ed-9083-c26667a54003</td>\n",
       "      <td>A</td>\n",
       "      <td>GER_PanzerjagerI</td>\n",
       "      <td>GachaEventReward</td>\n",
       "      <td>1</td>\n",
       "      <td>0.00</td>\n",
       "      <td>IPhonePlayer</td>\n",
       "      <td>Organic</td>\n",
       "      <td>CA</td>\n",
       "      <td></td>\n",
       "    </tr>\n",
       "    <tr>\n",
       "      <th>2</th>\n",
       "      <td>2022-12-06</td>\n",
       "      <td>2022-05-20T02:19:13.224000</td>\n",
       "      <td>3d7e648b-d7e3-11ec-975f-b205715961d6</td>\n",
       "      <td>B</td>\n",
       "      <td>GER_OpelBlitz</td>\n",
       "      <td>GachaEventReward</td>\n",
       "      <td>1</td>\n",
       "      <td>0.00</td>\n",
       "      <td>IPhonePlayer</td>\n",
       "      <td>Organic</td>\n",
       "      <td>TH</td>\n",
       "      <td></td>\n",
       "    </tr>\n",
       "    <tr>\n",
       "      <th>3</th>\n",
       "      <td>2022-12-06</td>\n",
       "      <td>2022-10-01T08:46:32.968000</td>\n",
       "      <td>8ce4fdab-4165-11ed-9cd2-2219f00f4034</td>\n",
       "      <td>B</td>\n",
       "      <td>GER_VWType82</td>\n",
       "      <td>GachaEventReward</td>\n",
       "      <td>1</td>\n",
       "      <td>0.00</td>\n",
       "      <td>IPhonePlayer</td>\n",
       "      <td>Organic</td>\n",
       "      <td>DE</td>\n",
       "      <td></td>\n",
       "    </tr>\n",
       "    <tr>\n",
       "      <th>4</th>\n",
       "      <td>2022-12-06</td>\n",
       "      <td>2022-12-06T04:03:02.857000</td>\n",
       "      <td>e1578b93-751a-11ed-9d04-6ae896912cdb</td>\n",
       "      <td>A</td>\n",
       "      <td>USA_Rifleman</td>\n",
       "      <td>GachaEventReward</td>\n",
       "      <td>1</td>\n",
       "      <td>1.99</td>\n",
       "      <td>IPhonePlayer</td>\n",
       "      <td>Organic</td>\n",
       "      <td>TH</td>\n",
       "      <td></td>\n",
       "    </tr>\n",
       "    <tr>\n",
       "      <th>5</th>\n",
       "      <td>2022-12-06</td>\n",
       "      <td>2022-12-02T20:44:38.245000</td>\n",
       "      <td>2354ffc8-7282-11ed-aa4b-868fa6f74f7c</td>\n",
       "      <td>B</td>\n",
       "      <td>GER_VWType82</td>\n",
       "      <td>GachaEventReward</td>\n",
       "      <td>2</td>\n",
       "      <td>1.99</td>\n",
       "      <td>IPhonePlayer</td>\n",
       "      <td>Organic</td>\n",
       "      <td>IT</td>\n",
       "      <td></td>\n",
       "    </tr>\n",
       "    <tr>\n",
       "      <th>6</th>\n",
       "      <td>2022-12-06</td>\n",
       "      <td>2022-11-24T08:09:53.645000</td>\n",
       "      <td>604d655c-6bcf-11ed-a64c-fe78441d4e7f</td>\n",
       "      <td>A</td>\n",
       "      <td>GER_VWType82</td>\n",
       "      <td>GachaEventReward</td>\n",
       "      <td>1</td>\n",
       "      <td>0.00</td>\n",
       "      <td>IPhonePlayer</td>\n",
       "      <td>Organic</td>\n",
       "      <td>TW</td>\n",
       "      <td></td>\n",
       "    </tr>\n",
       "    <tr>\n",
       "      <th>7</th>\n",
       "      <td>2022-12-06</td>\n",
       "      <td>2022-12-05T01:12:55.576000</td>\n",
       "      <td>f2ea5a22-7439-11ed-aa4b-868fa6f74f7c</td>\n",
       "      <td>A</td>\n",
       "      <td>USA_M3Scout</td>\n",
       "      <td>GachaEventReward</td>\n",
       "      <td>1</td>\n",
       "      <td>0.00</td>\n",
       "      <td>IPhonePlayer</td>\n",
       "      <td>Organic</td>\n",
       "      <td>US</td>\n",
       "      <td></td>\n",
       "    </tr>\n",
       "    <tr>\n",
       "      <th>8</th>\n",
       "      <td>2022-12-06</td>\n",
       "      <td>2022-11-20T15:57:06.084000</td>\n",
       "      <td>fb494bc2-68eb-11ed-a64c-fe78441d4e7f</td>\n",
       "      <td>B</td>\n",
       "      <td>GER_GRW34</td>\n",
       "      <td>GachaEventReward</td>\n",
       "      <td>5</td>\n",
       "      <td>379.67</td>\n",
       "      <td>IPhonePlayer</td>\n",
       "      <td>Organic</td>\n",
       "      <td>CH</td>\n",
       "      <td></td>\n",
       "    </tr>\n",
       "    <tr>\n",
       "      <th>9</th>\n",
       "      <td>2022-12-06</td>\n",
       "      <td>2022-11-20T15:57:06.084000</td>\n",
       "      <td>fb494bc2-68eb-11ed-a64c-fe78441d4e7f</td>\n",
       "      <td>B</td>\n",
       "      <td>USA_M2Light</td>\n",
       "      <td>GachaEventReward</td>\n",
       "      <td>5</td>\n",
       "      <td>379.67</td>\n",
       "      <td>IPhonePlayer</td>\n",
       "      <td>Organic</td>\n",
       "      <td>CH</td>\n",
       "      <td></td>\n",
       "    </tr>\n",
       "  </tbody>\n",
       "</table>\n",
       "</div>"
      ],
      "text/plain": [
       "    eventDate              accountCreated  \\\n",
       "0  2022-12-06  2022-11-30T11:32:37.926000   \n",
       "1  2022-12-06  2022-11-28T20:32:35.366000   \n",
       "2  2022-12-06  2022-05-20T02:19:13.224000   \n",
       "3  2022-12-06  2022-10-01T08:46:32.968000   \n",
       "4  2022-12-06  2022-12-06T04:03:02.857000   \n",
       "5  2022-12-06  2022-12-02T20:44:38.245000   \n",
       "6  2022-12-06  2022-11-24T08:09:53.645000   \n",
       "7  2022-12-06  2022-12-05T01:12:55.576000   \n",
       "8  2022-12-06  2022-11-20T15:57:06.084000   \n",
       "9  2022-12-06  2022-11-20T15:57:06.084000   \n",
       "\n",
       "                                 userID configTag      itemNameGain  \\\n",
       "0  b141f32d-70a2-11ed-9d04-6ae896912cdb         B       USA_M2Light   \n",
       "1  cacf5b6d-6f5b-11ed-9083-c26667a54003         A  GER_PanzerjagerI   \n",
       "2  3d7e648b-d7e3-11ec-975f-b205715961d6         B     GER_OpelBlitz   \n",
       "3  8ce4fdab-4165-11ed-9cd2-2219f00f4034         B      GER_VWType82   \n",
       "4  e1578b93-751a-11ed-9d04-6ae896912cdb         A      USA_Rifleman   \n",
       "5  2354ffc8-7282-11ed-aa4b-868fa6f74f7c         B      GER_VWType82   \n",
       "6  604d655c-6bcf-11ed-a64c-fe78441d4e7f         A      GER_VWType82   \n",
       "7  f2ea5a22-7439-11ed-aa4b-868fa6f74f7c         A       USA_M3Scout   \n",
       "8  fb494bc2-68eb-11ed-a64c-fe78441d4e7f         B         GER_GRW34   \n",
       "9  fb494bc2-68eb-11ed-a64c-fe78441d4e7f         B       USA_M2Light   \n",
       "\n",
       "         sourceType  attemptCount  moneySpent      platform mediaSource  \\\n",
       "0  GachaEventReward             1        0.00  IPhonePlayer     Organic   \n",
       "1  GachaEventReward             1        0.00  IPhonePlayer     Organic   \n",
       "2  GachaEventReward             1        0.00  IPhonePlayer     Organic   \n",
       "3  GachaEventReward             1        0.00  IPhonePlayer     Organic   \n",
       "4  GachaEventReward             1        1.99  IPhonePlayer     Organic   \n",
       "5  GachaEventReward             2        1.99  IPhonePlayer     Organic   \n",
       "6  GachaEventReward             1        0.00  IPhonePlayer     Organic   \n",
       "7  GachaEventReward             1        0.00  IPhonePlayer     Organic   \n",
       "8  GachaEventReward             5      379.67  IPhonePlayer     Organic   \n",
       "9  GachaEventReward             5      379.67  IPhonePlayer     Organic   \n",
       "\n",
       "  userCountry SpendTier  \n",
       "0          JP            \n",
       "1          CA            \n",
       "2          TH            \n",
       "3          DE            \n",
       "4          TH            \n",
       "5          IT            \n",
       "6          TW            \n",
       "7          US            \n",
       "8          CH            \n",
       "9          CH            "
      ]
     },
     "execution_count": 378,
     "metadata": {},
     "output_type": "execute_result"
    }
   ],
   "source": [
    "attemptsBySpend.head(10)"
   ]
  },
  {
   "cell_type": "code",
   "execution_count": 379,
   "id": "7196ec0d",
   "metadata": {},
   "outputs": [],
   "source": [
    "attempts_by_spend_A = attemptsBySpend[attemptsBySpend['configTag'] == 'A'].groupby('userID').agg(moneySpent = ('moneySpent', max), attempts = ('attemptCount', max))\n",
    "attempts_by_spend_B = attemptsBySpend[attemptsBySpend['configTag'] == 'B'].groupby('userID').agg(moneySpent = ('moneySpent', max), attempts = ('attemptCount', max))"
   ]
  },
  {
   "cell_type": "code",
   "execution_count": 380,
   "id": "b484a7fe",
   "metadata": {},
   "outputs": [
    {
     "data": {
      "text/html": [
       "<div>\n",
       "<style scoped>\n",
       "    .dataframe tbody tr th:only-of-type {\n",
       "        vertical-align: middle;\n",
       "    }\n",
       "\n",
       "    .dataframe tbody tr th {\n",
       "        vertical-align: top;\n",
       "    }\n",
       "\n",
       "    .dataframe thead th {\n",
       "        text-align: right;\n",
       "    }\n",
       "</style>\n",
       "<table border=\"1\" class=\"dataframe\">\n",
       "  <thead>\n",
       "    <tr style=\"text-align: right;\">\n",
       "      <th></th>\n",
       "      <th>moneySpent</th>\n",
       "      <th>attempts</th>\n",
       "    </tr>\n",
       "    <tr>\n",
       "      <th>userID</th>\n",
       "      <th></th>\n",
       "      <th></th>\n",
       "    </tr>\n",
       "  </thead>\n",
       "  <tbody>\n",
       "    <tr>\n",
       "      <th>0003385b-78e3-11ed-bade-628a94b2f6a7</th>\n",
       "      <td>38.95</td>\n",
       "      <td>4</td>\n",
       "    </tr>\n",
       "    <tr>\n",
       "      <th>000770cb-784a-11ed-bade-628a94b2f6a7</th>\n",
       "      <td>0.00</td>\n",
       "      <td>1</td>\n",
       "    </tr>\n",
       "    <tr>\n",
       "      <th>00664928-6717-11ed-a64c-fe78441d4e7f</th>\n",
       "      <td>94.62</td>\n",
       "      <td>3</td>\n",
       "    </tr>\n",
       "    <tr>\n",
       "      <th>007f9820-7431-11ed-aa4b-868fa6f74f7c</th>\n",
       "      <td>0.00</td>\n",
       "      <td>1</td>\n",
       "    </tr>\n",
       "    <tr>\n",
       "      <th>0081f987-7292-11ed-9d04-6ae896912cdb</th>\n",
       "      <td>1.99</td>\n",
       "      <td>1</td>\n",
       "    </tr>\n",
       "  </tbody>\n",
       "</table>\n",
       "</div>"
      ],
      "text/plain": [
       "                                      moneySpent  attempts\n",
       "userID                                                    \n",
       "0003385b-78e3-11ed-bade-628a94b2f6a7       38.95         4\n",
       "000770cb-784a-11ed-bade-628a94b2f6a7        0.00         1\n",
       "00664928-6717-11ed-a64c-fe78441d4e7f       94.62         3\n",
       "007f9820-7431-11ed-aa4b-868fa6f74f7c        0.00         1\n",
       "0081f987-7292-11ed-9d04-6ae896912cdb        1.99         1"
      ]
     },
     "execution_count": 380,
     "metadata": {},
     "output_type": "execute_result"
    }
   ],
   "source": [
    "attempts_by_spend_A.head()\n",
    "# attempts_by_spend_A.info()"
   ]
  },
  {
   "cell_type": "code",
   "execution_count": 381,
   "id": "2cb9d033",
   "metadata": {},
   "outputs": [],
   "source": [
    "for i, row in attempts_by_spend_A.iterrows():\n",
    "    attempts_by_spend_A.loc[i, 'SpendTier'] = \\\n",
    "    '0$' if attempts_by_spend_A.loc[i, 'moneySpent'] == 0 else \\\n",
    "    '1-8$' if ((attempts_by_spend_A.loc[i, 'moneySpent'] > 0) and (attempts_by_spend_A.loc[i, 'moneySpent'] <= 8)) else \\\n",
    "    '9-24$' if ((attempts_by_spend_A.loc[i, 'moneySpent'] > 8) and (attempts_by_spend_A.loc[i, 'moneySpent'] <= 24)) else \\\n",
    "    '25-108$' if ((attempts_by_spend_A.loc[i, 'moneySpent'] > 24) and (attempts_by_spend_A.loc[i, 'moneySpent'] <= 108)) else \\\n",
    "    '109-209$' if ((attempts_by_spend_A.loc[i, 'moneySpent'] > 108) and (attempts_by_spend_A.loc[i, 'moneySpent'] <= 209)) else \\\n",
    "    '>= 210$' if ((attempts_by_spend_A.loc[i, 'moneySpent'] > 209)) else ''"
   ]
  },
  {
   "cell_type": "code",
   "execution_count": 382,
   "id": "f6ca7076",
   "metadata": {},
   "outputs": [
    {
     "data": {
      "text/html": [
       "<div>\n",
       "<style scoped>\n",
       "    .dataframe tbody tr th:only-of-type {\n",
       "        vertical-align: middle;\n",
       "    }\n",
       "\n",
       "    .dataframe tbody tr th {\n",
       "        vertical-align: top;\n",
       "    }\n",
       "\n",
       "    .dataframe thead th {\n",
       "        text-align: right;\n",
       "    }\n",
       "</style>\n",
       "<table border=\"1\" class=\"dataframe\">\n",
       "  <thead>\n",
       "    <tr style=\"text-align: right;\">\n",
       "      <th></th>\n",
       "      <th>moneySpent</th>\n",
       "      <th>attempts</th>\n",
       "      <th>SpendTier</th>\n",
       "    </tr>\n",
       "    <tr>\n",
       "      <th>userID</th>\n",
       "      <th></th>\n",
       "      <th></th>\n",
       "      <th></th>\n",
       "    </tr>\n",
       "  </thead>\n",
       "  <tbody>\n",
       "    <tr>\n",
       "      <th>0e39e453-d1d2-11ec-90b4-42adde5b88ba</th>\n",
       "      <td>3894.70</td>\n",
       "      <td>40</td>\n",
       "      <td>&gt;= 210$</td>\n",
       "    </tr>\n",
       "    <tr>\n",
       "      <th>105b2d66-0b13-11ed-a76b-9645b968bedb</th>\n",
       "      <td>1041.07</td>\n",
       "      <td>6</td>\n",
       "      <td>&gt;= 210$</td>\n",
       "    </tr>\n",
       "    <tr>\n",
       "      <th>13492576-338a-11ed-a663-e6cce5d09abb</th>\n",
       "      <td>231.77</td>\n",
       "      <td>3</td>\n",
       "      <td>&gt;= 210$</td>\n",
       "    </tr>\n",
       "    <tr>\n",
       "      <th>16fa4278-22d8-11ed-9755-8a4ca7d05cea</th>\n",
       "      <td>541.69</td>\n",
       "      <td>2</td>\n",
       "      <td>&gt;= 210$</td>\n",
       "    </tr>\n",
       "    <tr>\n",
       "      <th>1d9f601a-3322-11ed-a663-e6cce5d09abb</th>\n",
       "      <td>918.42</td>\n",
       "      <td>16</td>\n",
       "      <td>&gt;= 210$</td>\n",
       "    </tr>\n",
       "    <tr>\n",
       "      <th>24a73f9a-1544-11ed-90f6-2a5c5d4e2af7</th>\n",
       "      <td>306.58</td>\n",
       "      <td>2</td>\n",
       "      <td>&gt;= 210$</td>\n",
       "    </tr>\n",
       "    <tr>\n",
       "      <th>2f5a0039-c2c6-11eb-a2bb-06c9cb951f1a</th>\n",
       "      <td>608.82</td>\n",
       "      <td>40</td>\n",
       "      <td>&gt;= 210$</td>\n",
       "    </tr>\n",
       "    <tr>\n",
       "      <th>438cd07a-3357-11ed-a663-e6cce5d09abb</th>\n",
       "      <td>811.84</td>\n",
       "      <td>7</td>\n",
       "      <td>&gt;= 210$</td>\n",
       "    </tr>\n",
       "    <tr>\n",
       "      <th>47c716db-1baa-11ed-9b08-9e20d892af40</th>\n",
       "      <td>278.81</td>\n",
       "      <td>6</td>\n",
       "      <td>&gt;= 210$</td>\n",
       "    </tr>\n",
       "    <tr>\n",
       "      <th>52a8ecd8-d013-11ec-bc64-aa5277066c94</th>\n",
       "      <td>2963.10</td>\n",
       "      <td>40</td>\n",
       "      <td>&gt;= 210$</td>\n",
       "    </tr>\n",
       "  </tbody>\n",
       "</table>\n",
       "</div>"
      ],
      "text/plain": [
       "                                      moneySpent  attempts SpendTier\n",
       "userID                                                              \n",
       "0e39e453-d1d2-11ec-90b4-42adde5b88ba     3894.70        40   >= 210$\n",
       "105b2d66-0b13-11ed-a76b-9645b968bedb     1041.07         6   >= 210$\n",
       "13492576-338a-11ed-a663-e6cce5d09abb      231.77         3   >= 210$\n",
       "16fa4278-22d8-11ed-9755-8a4ca7d05cea      541.69         2   >= 210$\n",
       "1d9f601a-3322-11ed-a663-e6cce5d09abb      918.42        16   >= 210$\n",
       "24a73f9a-1544-11ed-90f6-2a5c5d4e2af7      306.58         2   >= 210$\n",
       "2f5a0039-c2c6-11eb-a2bb-06c9cb951f1a      608.82        40   >= 210$\n",
       "438cd07a-3357-11ed-a663-e6cce5d09abb      811.84         7   >= 210$\n",
       "47c716db-1baa-11ed-9b08-9e20d892af40      278.81         6   >= 210$\n",
       "52a8ecd8-d013-11ec-bc64-aa5277066c94     2963.10        40   >= 210$"
      ]
     },
     "execution_count": 382,
     "metadata": {},
     "output_type": "execute_result"
    }
   ],
   "source": [
    "attempts_by_spend_A[attempts_by_spend_A['SpendTier'] == '>= 210$'].head(10)"
   ]
  },
  {
   "cell_type": "code",
   "execution_count": 383,
   "id": "4f9341eb",
   "metadata": {},
   "outputs": [],
   "source": [
    "for i, row in attempts_by_spend_B.iterrows():\n",
    "    attempts_by_spend_B.loc[i, 'SpendTier'] = \\\n",
    "    '0$' if attempts_by_spend_B.loc[i, 'moneySpent'] == 0 else \\\n",
    "    '1-8$' if ((attempts_by_spend_B.loc[i, 'moneySpent'] > 0) and (attempts_by_spend_B.loc[i, 'moneySpent'] <= 8)) else \\\n",
    "    '9-24$' if ((attempts_by_spend_B.loc[i, 'moneySpent'] > 8) and (attempts_by_spend_B.loc[i, 'moneySpent'] <= 24)) else \\\n",
    "    '25-108$' if ((attempts_by_spend_B.loc[i, 'moneySpent'] > 24) and (attempts_by_spend_B.loc[i, 'moneySpent'] <= 108)) else \\\n",
    "    '109-209$' if ((attempts_by_spend_B.loc[i, 'moneySpent'] > 108) and (attempts_by_spend_B.loc[i, 'moneySpent'] <= 209)) else \\\n",
    "    '>= 210$' if ((attempts_by_spend_B.loc[i, 'moneySpent'] > 209)) else ''"
   ]
  },
  {
   "cell_type": "code",
   "execution_count": 384,
   "id": "ccc19870",
   "metadata": {},
   "outputs": [],
   "source": [
    "aggreagate_attempts_A = attempts_by_spend_A.groupby('SpendTier')['attempts'].sum()\n",
    "aggreagate_attempts_B = attempts_by_spend_B.groupby('SpendTier')['attempts'].sum()"
   ]
  },
  {
   "cell_type": "code",
   "execution_count": 385,
   "id": "f40f3f3e",
   "metadata": {},
   "outputs": [
    {
     "data": {
      "text/plain": [
       "SpendTier\n",
       "0$          2345\n",
       "1-8$         161\n",
       "109-209$     157\n",
       "25-108$      293\n",
       "9-24$        194\n",
       ">= 210$      417\n",
       "Name: attempts, dtype: int64"
      ]
     },
     "execution_count": 385,
     "metadata": {},
     "output_type": "execute_result"
    }
   ],
   "source": [
    "aggreagate_attempts_A.head(10)"
   ]
  },
  {
   "cell_type": "code",
   "execution_count": 386,
   "id": "ed9ea10c",
   "metadata": {},
   "outputs": [
    {
     "data": {
      "text/plain": [
       "SpendTier\n",
       "0$          2383\n",
       "1-8$         173\n",
       "109-209$     146\n",
       "25-108$      329\n",
       "9-24$        236\n",
       ">= 210$      348\n",
       "Name: attempts, dtype: int64"
      ]
     },
     "execution_count": 386,
     "metadata": {},
     "output_type": "execute_result"
    }
   ],
   "source": [
    "# aggreagate_attempts_A.map({'0$': 0, '1-8$': 1, '9-24$': 2, '25-108$': 3, '109-209$': 4, '>= 210$': 5}).sort_values(by=['SpendTier']).head(10)\n",
    "aggreagate_attempts_B.head(10)"
   ]
  },
  {
   "cell_type": "code",
   "execution_count": 387,
   "id": "28acaa5f",
   "metadata": {},
   "outputs": [],
   "source": [
    "spend_zero = scipy.stats.mannwhitneyu(attempts_by_spend_A[attempts_by_spend_A['SpendTier'] == '0$']['attempts'], attempts_by_spend_B[attempts_by_spend_B['SpendTier'] == '0$']['attempts'], use_continuity=True, alternative='greater')\n",
    "spend_8 = scipy.stats.mannwhitneyu(attempts_by_spend_A[attempts_by_spend_A['SpendTier'] == '1-8$']['attempts'], attempts_by_spend_B[attempts_by_spend_B['SpendTier'] == '1-8$']['attempts'], use_continuity=True, alternative='greater')\n",
    "spend_24 = scipy.stats.mannwhitneyu(attempts_by_spend_A[attempts_by_spend_A['SpendTier'] == '9-24$']['attempts'], attempts_by_spend_B[attempts_by_spend_B['SpendTier'] == '9-24$']['attempts'], use_continuity=True, alternative='greater')\n",
    "spend_100 = scipy.stats.mannwhitneyu(attempts_by_spend_A[attempts_by_spend_A['SpendTier'] == '25-108$']['attempts'], attempts_by_spend_B[attempts_by_spend_B['SpendTier'] == '25-108$']['attempts'], use_continuity=True, alternative='greater')\n",
    "spend_200 = scipy.stats.mannwhitneyu(attempts_by_spend_A[attempts_by_spend_A['SpendTier'] == '109-209$']['attempts'], attempts_by_spend_B[attempts_by_spend_B['SpendTier'] == '109-209$']['attempts'], use_continuity=True, alternative='greater')\n",
    "spend_more = scipy.stats.mannwhitneyu(attempts_by_spend_A[attempts_by_spend_A['SpendTier'] == '>= 210$']['attempts'], attempts_by_spend_B[attempts_by_spend_B['SpendTier'] == '>= 210$']['attempts'], use_continuity=True, alternative='greater')"
   ]
  },
  {
   "cell_type": "code",
   "execution_count": 388,
   "id": "49b464ca",
   "metadata": {},
   "outputs": [
    {
     "name": "stdout",
     "output_type": "stream",
     "text": [
      "MannwhitneyuResult(statistic=1433767.5, pvalue=0.417332057529219)\n",
      "MannwhitneyuResult(statistic=6419.0, pvalue=0.6504185823978733)\n",
      "MannwhitneyuResult(statistic=5016.5, pvalue=0.6807704566246426)\n",
      "MannwhitneyuResult(statistic=6291.5, pvalue=0.3764890328311058)\n",
      "MannwhitneyuResult(statistic=342.0, pvalue=0.7308165501925543)\n",
      "MannwhitneyuResult(statistic=538.5, pvalue=0.9525015798822274)\n"
     ]
    }
   ],
   "source": [
    "print(spend_zero)\n",
    "print(spend_8)\n",
    "print(spend_24)\n",
    "print(spend_100)\n",
    "print(spend_200)\n",
    "print(spend_more)"
   ]
  },
  {
   "cell_type": "code",
   "execution_count": 389,
   "id": "4ff33c63",
   "metadata": {},
   "outputs": [
    {
     "data": {
      "image/png": "[encoded data removed]",
      "text/plain": [
       "<Figure size 1080x360 with 1 Axes>"
      ]
     },
     "metadata": {
      "needs_background": "light"
     },
     "output_type": "display_data"
    },
    {
     "name": "stdout",
     "output_type": "stream",
     "text": [
      "95% confidence interval for mean group A Attempts Made per User: [1.32 1.45]\n",
      "95% confidence interval for mean group B Attempts Made per User: [1.35 1.49]\n"
     ]
    }
   ],
   "source": [
    "groupA_median_scores = list(map(np.mean, get_bootstrap_samples(attempts_by_spend_A[attempts_by_spend_A['SpendTier'] == '0$']['attempts'].values, 10000)))\n",
    "groupB_median_scores = list(map(np.mean, get_bootstrap_samples(attempts_by_spend_B[attempts_by_spend_B['SpendTier'] == '0$']['attempts'].values, 10000)))\n",
    "\n",
    "pylab.figure(figsize(15, 5))\n",
    "pylab.subplot(1,2,1)\n",
    "pylab.hist(groupA_median_scores, alpha = .5, color = 'b', label = 'Group A', bins = 100)\n",
    "pylab.legend()\n",
    "\n",
    "pylab.subplot(1,2,1)\n",
    "pylab.hist(groupB_median_scores, alpha = .5, color = 'r', label = 'Group B', bins = 100)\n",
    "pylab.legend()\n",
    "\n",
    "# pylab.subplot(1,2,1)\n",
    "# pylab.hist(groupC_median_scores, alpha = .5, color = 'g', label = 'Group C ARPU 1d', bins = 100)\n",
    "# pylab.legend()\n",
    "\n",
    "pylab.ylabel('Frequency') \n",
    "pylab.xlabel('Attempts Made per User') \n",
    "pylab.show()\n",
    "\n",
    "print(\"95% confidence interval for mean group A Attempts Made per User:\",  stat_intervals(groupA_median_scores, 0.05))\n",
    "print(\"95% confidence interval for mean group B Attempts Made per User:\",  stat_intervals(groupB_median_scores, 0.05))"
   ]
  },
  {
   "cell_type": "code",
   "execution_count": 390,
   "id": "d4e492b6",
   "metadata": {},
   "outputs": [
    {
     "data": {
      "image/png": "[encoded data removed]",
      "text/plain": [
       "<Figure size 1080x360 with 1 Axes>"
      ]
     },
     "metadata": {
      "needs_background": "light"
     },
     "output_type": "display_data"
    },
    {
     "name": "stdout",
     "output_type": "stream",
     "text": [
      "95% confidence interval for mean group A Attempts Made per User: [1.23 1.62]\n",
      "95% confidence interval for mean group B Attempts Made per User: [1.23 1.9 ]\n"
     ]
    }
   ],
   "source": [
    "groupA_median_scores = list(map(np.mean, get_bootstrap_samples(attempts_by_spend_A[attempts_by_spend_A['SpendTier'] == '1-8$']['attempts'].values, 10000)))\n",
    "groupB_median_scores = list(map(np.mean, get_bootstrap_samples(attempts_by_spend_B[attempts_by_spend_B['SpendTier'] == '1-8$']['attempts'].values, 10000)))\n",
    "\n",
    "pylab.figure(figsize(15, 5))\n",
    "pylab.subplot(1,2,1)\n",
    "pylab.hist(groupA_median_scores, alpha = .5, color = 'b', label = 'Group A', bins = 100)\n",
    "pylab.legend()\n",
    "\n",
    "pylab.subplot(1,2,1)\n",
    "pylab.hist(groupB_median_scores, alpha = .5, color = 'r', label = 'Group B', bins = 100)\n",
    "pylab.legend()\n",
    "\n",
    "# pylab.subplot(1,2,1)\n",
    "# pylab.hist(groupC_median_scores, alpha = .5, color = 'g', label = 'Group C ARPU 1d', bins = 100)\n",
    "# pylab.legend()\n",
    "\n",
    "pylab.ylabel('Frequency') \n",
    "pylab.xlabel('Attempts Made per User') \n",
    "pylab.show()\n",
    "\n",
    "print(\"95% confidence interval for mean group A Attempts Made per User:\",  stat_intervals(groupA_median_scores, 0.05))\n",
    "print(\"95% confidence interval for mean group B Attempts Made per User:\",  stat_intervals(groupB_median_scores, 0.05))"
   ]
  },
  {
   "cell_type": "code",
   "execution_count": 391,
   "id": "e1fe3d66",
   "metadata": {},
   "outputs": [
    {
     "data": {
      "image/png": "[encoded data removed]",
      "text/plain": [
       "<Figure size 1080x360 with 1 Axes>"
      ]
     },
     "metadata": {
      "needs_background": "light"
     },
     "output_type": "display_data"
    },
    {
     "name": "stdout",
     "output_type": "stream",
     "text": [
      "95% confidence interval for mean group A Attempts Made per User: [1.7  2.24]\n",
      "95% confidence interval for mean group B Attempts Made per User: [1.85 2.74]\n"
     ]
    }
   ],
   "source": [
    "groupA_median_scores = list(map(np.mean, get_bootstrap_samples(attempts_by_spend_A[attempts_by_spend_A['SpendTier'] == '9-24$']['attempts'].values, 10000)))\n",
    "groupB_median_scores = list(map(np.mean, get_bootstrap_samples(attempts_by_spend_B[attempts_by_spend_B['SpendTier'] == '9-24$']['attempts'].values, 10000)))\n",
    "\n",
    "pylab.figure(figsize(15, 5))\n",
    "pylab.subplot(1,2,1)\n",
    "pylab.hist(groupA_median_scores, alpha = .5, color = 'b', label = 'Group A', bins = 100)\n",
    "pylab.legend()\n",
    "\n",
    "pylab.subplot(1,2,1)\n",
    "pylab.hist(groupB_median_scores, alpha = .5, color = 'r', label = 'Group B', bins = 100)\n",
    "pylab.legend()\n",
    "\n",
    "# pylab.subplot(1,2,1)\n",
    "# pylab.hist(groupC_median_scores, alpha = .5, color = 'g', label = 'Group C ARPU 1d', bins = 100)\n",
    "# pylab.legend()\n",
    "\n",
    "pylab.ylabel('Frequency') \n",
    "pylab.xlabel('Attempts Made per User') \n",
    "pylab.show()\n",
    "\n",
    "print(\"95% confidence interval for mean group A Attempts Made per User:\",  stat_intervals(groupA_median_scores, 0.05))\n",
    "print(\"95% confidence interval for mean group B Attempts Made per User:\",  stat_intervals(groupB_median_scores, 0.05))"
   ]
  },
  {
   "cell_type": "code",
   "execution_count": 392,
   "id": "a0aecc04",
   "metadata": {},
   "outputs": [
    {
     "data": {
      "image/png": "[encoded data removed]",
      "text/plain": [
       "<Figure size 1080x360 with 1 Axes>"
      ]
     },
     "metadata": {
      "needs_background": "light"
     },
     "output_type": "display_data"
    },
    {
     "name": "stdout",
     "output_type": "stream",
     "text": [
      "95% confidence interval for mean group A Attempts Made per User: [2.26 3.41]\n",
      "95% confidence interval for mean group B Attempts Made per User: [2.28 3.49]\n"
     ]
    }
   ],
   "source": [
    "groupA_median_scores = list(map(np.mean, get_bootstrap_samples(attempts_by_spend_A[attempts_by_spend_A['SpendTier'] == '25-108$']['attempts'].values, 10000)))\n",
    "groupB_median_scores = list(map(np.mean, get_bootstrap_samples(attempts_by_spend_B[attempts_by_spend_B['SpendTier'] == '25-108$']['attempts'].values, 10000)))\n",
    "\n",
    "pylab.figure(figsize(15, 5))\n",
    "pylab.subplot(1,2,1)\n",
    "pylab.hist(groupA_median_scores, alpha = .5, color = 'b', label = 'Group A', bins = 100)\n",
    "pylab.legend()\n",
    "\n",
    "pylab.subplot(1,2,1)\n",
    "pylab.hist(groupB_median_scores, alpha = .5, color = 'r', label = 'Group B', bins = 100)\n",
    "pylab.legend()\n",
    "\n",
    "# pylab.subplot(1,2,1)\n",
    "# pylab.hist(groupC_median_scores, alpha = .5, color = 'g', label = 'Group C ARPU 1d', bins = 100)\n",
    "# pylab.legend()\n",
    "\n",
    "pylab.ylabel('Frequency') \n",
    "pylab.xlabel('Attempts Made per User') \n",
    "pylab.show()\n",
    "\n",
    "print(\"95% confidence interval for mean group A Attempts Made per User:\",  stat_intervals(groupA_median_scores, 0.05))\n",
    "print(\"95% confidence interval for mean group B Attempts Made per User:\",  stat_intervals(groupB_median_scores, 0.05))"
   ]
  },
  {
   "cell_type": "code",
   "execution_count": 393,
   "id": "d9e49e53",
   "metadata": {},
   "outputs": [
    {
     "data": {
      "image/png": "[encoded data removed]",
      "text/plain": [
       "<Figure size 1080x360 with 1 Axes>"
      ]
     },
     "metadata": {
      "needs_background": "light"
     },
     "output_type": "display_data"
    },
    {
     "name": "stdout",
     "output_type": "stream",
     "text": [
      "95% confidence interval for mean group A Attempts Made per User: [2.94 6.31]\n",
      "95% confidence interval for mean group B Attempts Made per User: [ 3.86 10.43]\n"
     ]
    }
   ],
   "source": [
    "groupA_median_scores = list(map(np.mean, get_bootstrap_samples(attempts_by_spend_A[attempts_by_spend_A['SpendTier'] == '109-209$']['attempts'].values, 10000)))\n",
    "groupB_median_scores = list(map(np.mean, get_bootstrap_samples(attempts_by_spend_B[attempts_by_spend_B['SpendTier'] == '109-209$']['attempts'].values, 10000)))\n",
    "\n",
    "pylab.figure(figsize(15, 5))\n",
    "pylab.subplot(1,2,1)\n",
    "pylab.hist(groupA_median_scores, alpha = .5, color = 'b', label = 'Group A', bins = 100)\n",
    "pylab.legend()\n",
    "\n",
    "pylab.subplot(1,2,1)\n",
    "pylab.hist(groupB_median_scores, alpha = .5, color = 'r', label = 'Group B', bins = 100)\n",
    "pylab.legend()\n",
    "\n",
    "# pylab.subplot(1,2,1)\n",
    "# pylab.hist(groupC_median_scores, alpha = .5, color = 'g', label = 'Group C ARPU 1d', bins = 100)\n",
    "# pylab.legend()\n",
    "\n",
    "pylab.ylabel('Frequency') \n",
    "pylab.xlabel('Attempts Made per User') \n",
    "pylab.show()\n",
    "\n",
    "print(\"95% confidence interval for mean group A Attempts Made per User:\",  stat_intervals(groupA_median_scores, 0.05))\n",
    "print(\"95% confidence interval for mean group B Attempts Made per User:\",  stat_intervals(groupB_median_scores, 0.05))"
   ]
  },
  {
   "cell_type": "code",
   "execution_count": 394,
   "id": "bc37bc50",
   "metadata": {},
   "outputs": [
    {
     "data": {
      "image/png": "[encoded data removed]",
      "text/plain": [
       "<Figure size 1080x360 with 1 Axes>"
      ]
     },
     "metadata": {
      "needs_background": "light"
     },
     "output_type": "display_data"
    },
    {
     "name": "stdout",
     "output_type": "stream",
     "text": [
      "95% confidence interval for mean group A Attempts Made per User: [ 6.   14.48]\n",
      "95% confidence interval for mean group B Attempts Made per User: [ 7.79 13.27]\n"
     ]
    }
   ],
   "source": [
    "groupA_median_scores = list(map(np.mean, get_bootstrap_samples(attempts_by_spend_A[attempts_by_spend_A['SpendTier'] == '>= 210$']['attempts'].values, 10000)))\n",
    "groupB_median_scores = list(map(np.mean, get_bootstrap_samples(attempts_by_spend_B[attempts_by_spend_B['SpendTier'] == '>= 210$']['attempts'].values, 10000)))\n",
    "\n",
    "pylab.figure(figsize(15, 5))\n",
    "pylab.subplot(1,2,1)\n",
    "pylab.hist(groupA_median_scores, alpha = .5, color = 'b', label = 'Group A', bins = 100)\n",
    "pylab.legend()\n",
    "\n",
    "pylab.subplot(1,2,1)\n",
    "pylab.hist(groupB_median_scores, alpha = .5, color = 'r', label = 'Group B', bins = 100)\n",
    "pylab.legend()\n",
    "\n",
    "# pylab.subplot(1,2,1)\n",
    "# pylab.hist(groupC_median_scores, alpha = .5, color = 'g', label = 'Group C ARPU 1d', bins = 100)\n",
    "# pylab.legend()\n",
    "\n",
    "pylab.ylabel('Frequency') \n",
    "pylab.xlabel('Attempts Made per User') \n",
    "pylab.show()\n",
    "\n",
    "print(\"95% confidence interval for mean group A Attempts Made per User:\",  stat_intervals(groupA_median_scores, 0.05))\n",
    "print(\"95% confidence interval for mean group B Attempts Made per User:\",  stat_intervals(groupB_median_scores, 0.05))"
   ]
  },
  {
   "cell_type": "code",
   "execution_count": 395,
   "id": "863a49d5",
   "metadata": {},
   "outputs": [],
   "source": [
    "hist_A = attemptsBySpend[attemptsBySpend['configTag'] == 'A']['moneySpent'].copy()\n",
    "hist_A = hist_A[hist_A != 0]\n",
    "hist_B = attemptsBySpend[attemptsBySpend['configTag'] == 'B']['moneySpent'].copy()\n",
    "hist_B = hist_B[hist_B != 0]"
   ]
  },
  {
   "cell_type": "code",
   "execution_count": 396,
   "id": "2a6f68ec",
   "metadata": {},
   "outputs": [
    {
     "data": {
      "text/plain": [
       "count    1238.000000\n",
       "mean      438.825598\n",
       "std       859.966581\n",
       "min         0.990000\n",
       "25%        17.980000\n",
       "50%        82.910000\n",
       "75%       507.570000\n",
       "max      3894.700000\n",
       "Name: moneySpent, dtype: float64"
      ]
     },
     "execution_count": 396,
     "metadata": {},
     "output_type": "execute_result"
    }
   ],
   "source": [
    "hist_A.describe()"
   ]
  },
  {
   "cell_type": "code",
   "execution_count": 397,
   "id": "820b30e4",
   "metadata": {},
   "outputs": [
    {
     "data": {
      "text/plain": [
       "count    1403.000000\n",
       "mean      359.062024\n",
       "std       599.827175\n",
       "min         0.990000\n",
       "25%        14.980000\n",
       "50%        78.780000\n",
       "75%       384.610000\n",
       "max      2120.470000\n",
       "Name: moneySpent, dtype: float64"
      ]
     },
     "execution_count": 397,
     "metadata": {},
     "output_type": "execute_result"
    }
   ],
   "source": [
    "hist_B.describe()"
   ]
  },
  {
   "cell_type": "code",
   "execution_count": 398,
   "id": "67883729",
   "metadata": {},
   "outputs": [
    {
     "data": {
      "text/plain": [
       "4        1.99\n",
       "23      49.95\n",
       "39      29.96\n",
       "41     123.87\n",
       "42     123.87\n",
       "43       6.98\n",
       "44      84.91\n",
       "60      21.95\n",
       "66       1.99\n",
       "68    1041.07\n",
       "Name: moneySpent, dtype: float64"
      ]
     },
     "execution_count": 398,
     "metadata": {},
     "output_type": "execute_result"
    }
   ],
   "source": [
    "hist_A.head(10)"
   ]
  },
  {
   "cell_type": "code",
   "execution_count": 399,
   "id": "a7ce81bd",
   "metadata": {},
   "outputs": [
    {
     "data": {
      "image/png": "[encoded data removed]",
      "text/plain": [
       "<Figure size 1080x360 with 1 Axes>"
      ]
     },
     "metadata": {
      "needs_background": "light"
     },
     "output_type": "display_data"
    },
    {
     "name": "stdout",
     "output_type": "stream",
     "text": [
      "95% confidence interval for mean group A Attempts Made per User by Money Spent: [392.02 487.55]\n",
      "95% confidence interval for mean group B Attempts Made per User by Money Spent: [328.06 391.53]\n"
     ]
    }
   ],
   "source": [
    "groupA_median_scores = list(map(np.mean, get_bootstrap_samples(hist_A.values, 10000)))\n",
    "groupB_median_scores = list(map(np.mean, get_bootstrap_samples(hist_B.values, 10000)))\n",
    "\n",
    "pylab.figure(figsize(15, 5))\n",
    "pylab.subplot(1,2,1)\n",
    "pylab.hist(groupA_median_scores, alpha = .5, color = 'b', label = 'Group A', bins = 100)\n",
    "pylab.legend()\n",
    "\n",
    "pylab.subplot(1,2,1)\n",
    "pylab.hist(groupB_median_scores, alpha = .5, color = 'r', label = 'Group B', bins = 100)\n",
    "pylab.legend()\n",
    "\n",
    "# pylab.subplot(1,2,1)\n",
    "# pylab.hist(groupC_median_scores, alpha = .5, color = 'g', label = 'Group C ARPU 1d', bins = 100)\n",
    "# pylab.legend()\n",
    "\n",
    "pylab.ylabel('Frequency') \n",
    "pylab.xlabel('Money Spent') \n",
    "pylab.show()\n",
    "\n",
    "print(\"95% confidence interval for mean group A Attempts Made per User by Money Spent:\",  stat_intervals(groupA_median_scores, 0.05))\n",
    "print(\"95% confidence interval for mean group B Attempts Made per User by Money Spent:\",  stat_intervals(groupB_median_scores, 0.05))"
   ]
  },
  {
   "cell_type": "code",
   "execution_count": 400,
   "id": "a73abe23",
   "metadata": {},
   "outputs": [
    {
     "data": {
      "text/plain": [
       "MannwhitneyuResult(statistic=892184.0, pvalue=0.11248427361586816)"
      ]
     },
     "execution_count": 400,
     "metadata": {},
     "output_type": "execute_result"
    }
   ],
   "source": [
    "scipy.stats.mannwhitneyu(hist_A, hist_B, use_continuity=True, alternative='greater')"
   ]
  },
  {
   "cell_type": "code",
   "execution_count": 401,
   "id": "1b71c4e3",
   "metadata": {},
   "outputs": [
    {
     "data": {
      "text/plain": [
       "userID\n",
       "0003385b-78e3-11ed-bade-628a94b2f6a7    38.95\n",
       "000770cb-784a-11ed-bade-628a94b2f6a7     0.00\n",
       "001c0779-4fdc-11ed-86da-a6799dc2ec30     0.00\n",
       "0027e54c-63a7-11ed-a64c-fe78441d4e7f     0.00\n",
       "0065b4ec-722d-11ed-9d04-6ae896912cdb     0.00\n",
       "                                        ...  \n",
       "ffcbeb3a-7603-11ed-8a5c-76360256d21b    33.96\n",
       "ffd4a385-2916-11ed-9755-8a4ca7d05cea    95.87\n",
       "ffe9338d-6f2d-11ed-a64c-fe78441d4e7f     0.00\n",
       "ffed4d8d-d07e-11ec-8b6b-aa5277066c94     0.00\n",
       "ffefc026-720e-11ed-aa4b-868fa6f74f7c     0.00\n",
       "Name: moneySpent, Length: 4169, dtype: float64"
      ]
     },
     "execution_count": 401,
     "metadata": {},
     "output_type": "execute_result"
    }
   ],
   "source": [
    "max_money_spent = attemptsBySpend.groupby('userID')['moneySpent'].max()\n",
    "\n",
    "max_money_spent"
   ]
  },
  {
   "cell_type": "code",
   "execution_count": 402,
   "id": "cc03331f",
   "metadata": {},
   "outputs": [],
   "source": [
    "diff_attempts_by_spend = attemptsBySpend.copy()\n",
    "diff_attempts_by_spend['maxSpend'] = 0\n",
    "\n",
    "for i, row in diff_attempts_by_spend.iterrows():\n",
    "    if diff_attempts_by_spend.loc[i, 'userID'] in max_money_spent.index:\n",
    "        diff_attempts_by_spend.loc[i, 'maxSpend'] = max_money_spent[diff_attempts_by_spend.loc[i, 'userID']]"
   ]
  },
  {
   "cell_type": "code",
   "execution_count": 403,
   "id": "40b0d648",
   "metadata": {},
   "outputs": [
    {
     "data": {
      "text/html": [
       "<div>\n",
       "<style scoped>\n",
       "    .dataframe tbody tr th:only-of-type {\n",
       "        vertical-align: middle;\n",
       "    }\n",
       "\n",
       "    .dataframe tbody tr th {\n",
       "        vertical-align: top;\n",
       "    }\n",
       "\n",
       "    .dataframe thead th {\n",
       "        text-align: right;\n",
       "    }\n",
       "</style>\n",
       "<table border=\"1\" class=\"dataframe\">\n",
       "  <thead>\n",
       "    <tr style=\"text-align: right;\">\n",
       "      <th></th>\n",
       "      <th>eventDate</th>\n",
       "      <th>accountCreated</th>\n",
       "      <th>userID</th>\n",
       "      <th>configTag</th>\n",
       "      <th>itemNameGain</th>\n",
       "      <th>sourceType</th>\n",
       "      <th>attemptCount</th>\n",
       "      <th>moneySpent</th>\n",
       "      <th>platform</th>\n",
       "      <th>mediaSource</th>\n",
       "      <th>userCountry</th>\n",
       "      <th>SpendTier</th>\n",
       "      <th>maxSpend</th>\n",
       "    </tr>\n",
       "  </thead>\n",
       "  <tbody>\n",
       "    <tr>\n",
       "      <th>0</th>\n",
       "      <td>2022-12-06</td>\n",
       "      <td>2022-11-30T11:32:37.926000</td>\n",
       "      <td>b141f32d-70a2-11ed-9d04-6ae896912cdb</td>\n",
       "      <td>B</td>\n",
       "      <td>USA_M2Light</td>\n",
       "      <td>GachaEventReward</td>\n",
       "      <td>1</td>\n",
       "      <td>0.00</td>\n",
       "      <td>IPhonePlayer</td>\n",
       "      <td>Organic</td>\n",
       "      <td>JP</td>\n",
       "      <td></td>\n",
       "      <td>0.00</td>\n",
       "    </tr>\n",
       "    <tr>\n",
       "      <th>1</th>\n",
       "      <td>2022-12-06</td>\n",
       "      <td>2022-11-28T20:32:35.366000</td>\n",
       "      <td>cacf5b6d-6f5b-11ed-9083-c26667a54003</td>\n",
       "      <td>A</td>\n",
       "      <td>GER_PanzerjagerI</td>\n",
       "      <td>GachaEventReward</td>\n",
       "      <td>1</td>\n",
       "      <td>0.00</td>\n",
       "      <td>IPhonePlayer</td>\n",
       "      <td>Organic</td>\n",
       "      <td>CA</td>\n",
       "      <td></td>\n",
       "      <td>0.00</td>\n",
       "    </tr>\n",
       "    <tr>\n",
       "      <th>2</th>\n",
       "      <td>2022-12-06</td>\n",
       "      <td>2022-05-20T02:19:13.224000</td>\n",
       "      <td>3d7e648b-d7e3-11ec-975f-b205715961d6</td>\n",
       "      <td>B</td>\n",
       "      <td>GER_OpelBlitz</td>\n",
       "      <td>GachaEventReward</td>\n",
       "      <td>1</td>\n",
       "      <td>0.00</td>\n",
       "      <td>IPhonePlayer</td>\n",
       "      <td>Organic</td>\n",
       "      <td>TH</td>\n",
       "      <td></td>\n",
       "      <td>0.00</td>\n",
       "    </tr>\n",
       "    <tr>\n",
       "      <th>3</th>\n",
       "      <td>2022-12-06</td>\n",
       "      <td>2022-10-01T08:46:32.968000</td>\n",
       "      <td>8ce4fdab-4165-11ed-9cd2-2219f00f4034</td>\n",
       "      <td>B</td>\n",
       "      <td>GER_VWType82</td>\n",
       "      <td>GachaEventReward</td>\n",
       "      <td>1</td>\n",
       "      <td>0.00</td>\n",
       "      <td>IPhonePlayer</td>\n",
       "      <td>Organic</td>\n",
       "      <td>DE</td>\n",
       "      <td></td>\n",
       "      <td>0.00</td>\n",
       "    </tr>\n",
       "    <tr>\n",
       "      <th>4</th>\n",
       "      <td>2022-12-06</td>\n",
       "      <td>2022-12-06T04:03:02.857000</td>\n",
       "      <td>e1578b93-751a-11ed-9d04-6ae896912cdb</td>\n",
       "      <td>A</td>\n",
       "      <td>USA_Rifleman</td>\n",
       "      <td>GachaEventReward</td>\n",
       "      <td>1</td>\n",
       "      <td>1.99</td>\n",
       "      <td>IPhonePlayer</td>\n",
       "      <td>Organic</td>\n",
       "      <td>TH</td>\n",
       "      <td></td>\n",
       "      <td>11.98</td>\n",
       "    </tr>\n",
       "    <tr>\n",
       "      <th>5</th>\n",
       "      <td>2022-12-06</td>\n",
       "      <td>2022-12-02T20:44:38.245000</td>\n",
       "      <td>2354ffc8-7282-11ed-aa4b-868fa6f74f7c</td>\n",
       "      <td>B</td>\n",
       "      <td>GER_VWType82</td>\n",
       "      <td>GachaEventReward</td>\n",
       "      <td>2</td>\n",
       "      <td>1.99</td>\n",
       "      <td>IPhonePlayer</td>\n",
       "      <td>Organic</td>\n",
       "      <td>IT</td>\n",
       "      <td></td>\n",
       "      <td>1.99</td>\n",
       "    </tr>\n",
       "    <tr>\n",
       "      <th>6</th>\n",
       "      <td>2022-12-06</td>\n",
       "      <td>2022-11-24T08:09:53.645000</td>\n",
       "      <td>604d655c-6bcf-11ed-a64c-fe78441d4e7f</td>\n",
       "      <td>A</td>\n",
       "      <td>GER_VWType82</td>\n",
       "      <td>GachaEventReward</td>\n",
       "      <td>1</td>\n",
       "      <td>0.00</td>\n",
       "      <td>IPhonePlayer</td>\n",
       "      <td>Organic</td>\n",
       "      <td>TW</td>\n",
       "      <td></td>\n",
       "      <td>0.00</td>\n",
       "    </tr>\n",
       "    <tr>\n",
       "      <th>7</th>\n",
       "      <td>2022-12-06</td>\n",
       "      <td>2022-12-05T01:12:55.576000</td>\n",
       "      <td>f2ea5a22-7439-11ed-aa4b-868fa6f74f7c</td>\n",
       "      <td>A</td>\n",
       "      <td>USA_M3Scout</td>\n",
       "      <td>GachaEventReward</td>\n",
       "      <td>1</td>\n",
       "      <td>0.00</td>\n",
       "      <td>IPhonePlayer</td>\n",
       "      <td>Organic</td>\n",
       "      <td>US</td>\n",
       "      <td></td>\n",
       "      <td>0.00</td>\n",
       "    </tr>\n",
       "    <tr>\n",
       "      <th>8</th>\n",
       "      <td>2022-12-06</td>\n",
       "      <td>2022-11-20T15:57:06.084000</td>\n",
       "      <td>fb494bc2-68eb-11ed-a64c-fe78441d4e7f</td>\n",
       "      <td>B</td>\n",
       "      <td>GER_GRW34</td>\n",
       "      <td>GachaEventReward</td>\n",
       "      <td>5</td>\n",
       "      <td>379.67</td>\n",
       "      <td>IPhonePlayer</td>\n",
       "      <td>Organic</td>\n",
       "      <td>CH</td>\n",
       "      <td></td>\n",
       "      <td>417.64</td>\n",
       "    </tr>\n",
       "    <tr>\n",
       "      <th>9</th>\n",
       "      <td>2022-12-06</td>\n",
       "      <td>2022-11-20T15:57:06.084000</td>\n",
       "      <td>fb494bc2-68eb-11ed-a64c-fe78441d4e7f</td>\n",
       "      <td>B</td>\n",
       "      <td>USA_M2Light</td>\n",
       "      <td>GachaEventReward</td>\n",
       "      <td>5</td>\n",
       "      <td>379.67</td>\n",
       "      <td>IPhonePlayer</td>\n",
       "      <td>Organic</td>\n",
       "      <td>CH</td>\n",
       "      <td></td>\n",
       "      <td>417.64</td>\n",
       "    </tr>\n",
       "  </tbody>\n",
       "</table>\n",
       "</div>"
      ],
      "text/plain": [
       "    eventDate              accountCreated  \\\n",
       "0  2022-12-06  2022-11-30T11:32:37.926000   \n",
       "1  2022-12-06  2022-11-28T20:32:35.366000   \n",
       "2  2022-12-06  2022-05-20T02:19:13.224000   \n",
       "3  2022-12-06  2022-10-01T08:46:32.968000   \n",
       "4  2022-12-06  2022-12-06T04:03:02.857000   \n",
       "5  2022-12-06  2022-12-02T20:44:38.245000   \n",
       "6  2022-12-06  2022-11-24T08:09:53.645000   \n",
       "7  2022-12-06  2022-12-05T01:12:55.576000   \n",
       "8  2022-12-06  2022-11-20T15:57:06.084000   \n",
       "9  2022-12-06  2022-11-20T15:57:06.084000   \n",
       "\n",
       "                                 userID configTag      itemNameGain  \\\n",
       "0  b141f32d-70a2-11ed-9d04-6ae896912cdb         B       USA_M2Light   \n",
       "1  cacf5b6d-6f5b-11ed-9083-c26667a54003         A  GER_PanzerjagerI   \n",
       "2  3d7e648b-d7e3-11ec-975f-b205715961d6         B     GER_OpelBlitz   \n",
       "3  8ce4fdab-4165-11ed-9cd2-2219f00f4034         B      GER_VWType82   \n",
       "4  e1578b93-751a-11ed-9d04-6ae896912cdb         A      USA_Rifleman   \n",
       "5  2354ffc8-7282-11ed-aa4b-868fa6f74f7c         B      GER_VWType82   \n",
       "6  604d655c-6bcf-11ed-a64c-fe78441d4e7f         A      GER_VWType82   \n",
       "7  f2ea5a22-7439-11ed-aa4b-868fa6f74f7c         A       USA_M3Scout   \n",
       "8  fb494bc2-68eb-11ed-a64c-fe78441d4e7f         B         GER_GRW34   \n",
       "9  fb494bc2-68eb-11ed-a64c-fe78441d4e7f         B       USA_M2Light   \n",
       "\n",
       "         sourceType  attemptCount  moneySpent      platform mediaSource  \\\n",
       "0  GachaEventReward             1        0.00  IPhonePlayer     Organic   \n",
       "1  GachaEventReward             1        0.00  IPhonePlayer     Organic   \n",
       "2  GachaEventReward             1        0.00  IPhonePlayer     Organic   \n",
       "3  GachaEventReward             1        0.00  IPhonePlayer     Organic   \n",
       "4  GachaEventReward             1        1.99  IPhonePlayer     Organic   \n",
       "5  GachaEventReward             2        1.99  IPhonePlayer     Organic   \n",
       "6  GachaEventReward             1        0.00  IPhonePlayer     Organic   \n",
       "7  GachaEventReward             1        0.00  IPhonePlayer     Organic   \n",
       "8  GachaEventReward             5      379.67  IPhonePlayer     Organic   \n",
       "9  GachaEventReward             5      379.67  IPhonePlayer     Organic   \n",
       "\n",
       "  userCountry SpendTier  maxSpend  \n",
       "0          JP                0.00  \n",
       "1          CA                0.00  \n",
       "2          TH                0.00  \n",
       "3          DE                0.00  \n",
       "4          TH               11.98  \n",
       "5          IT                1.99  \n",
       "6          TW                0.00  \n",
       "7          US                0.00  \n",
       "8          CH              417.64  \n",
       "9          CH              417.64  "
      ]
     },
     "execution_count": 403,
     "metadata": {},
     "output_type": "execute_result"
    }
   ],
   "source": [
    "diff_attempts_by_spend.head(10)"
   ]
  },
  {
   "cell_type": "code",
   "execution_count": 404,
   "id": "20eaa829",
   "metadata": {},
   "outputs": [],
   "source": [
    "diff_hist_A = diff_attempts_by_spend[diff_attempts_by_spend['configTag'] == 'A']['maxSpend']\n",
    "diff_hist_A = diff_hist_A[diff_hist_A != 0]\n",
    "diff_hist_B = diff_attempts_by_spend[diff_attempts_by_spend['configTag'] == 'B']['maxSpend']\n",
    "diff_hist_B = diff_hist_B[diff_hist_B != 0]"
   ]
  },
  {
   "cell_type": "code",
   "execution_count": 405,
   "id": "e716125c",
   "metadata": {},
   "outputs": [
    {
     "data": {
      "image/png": "[encoded data removed]",
      "text/plain": [
       "<Figure size 1080x360 with 1 Axes>"
      ]
     },
     "metadata": {
      "needs_background": "light"
     },
     "output_type": "display_data"
    },
    {
     "name": "stdout",
     "output_type": "stream",
     "text": [
      "95% confidence interval for mean group A Attempts Made per User: [399.8  494.94]\n",
      "95% confidence interval for mean group B Attempts Made per User: [343.36 409.2 ]\n"
     ]
    }
   ],
   "source": [
    "groupA_median_scores = list(map(np.mean, get_bootstrap_samples(diff_hist_A.values, 10000)))\n",
    "groupB_median_scores = list(map(np.mean, get_bootstrap_samples(diff_hist_B.values, 10000)))\n",
    "\n",
    "pylab.figure(figsize(15, 5))\n",
    "pylab.subplot(1,2,1)\n",
    "pylab.hist(groupA_median_scores, alpha = .5, color = 'b', label = 'Group A', bins = 100)\n",
    "pylab.legend()\n",
    "\n",
    "pylab.subplot(1,2,1)\n",
    "pylab.hist(groupB_median_scores, alpha = .5, color = 'r', label = 'Group B', bins = 100)\n",
    "pylab.legend()\n",
    "\n",
    "# pylab.subplot(1,2,1)\n",
    "# pylab.hist(groupC_median_scores, alpha = .5, color = 'g', label = 'Group C ARPU 1d', bins = 100)\n",
    "# pylab.legend()\n",
    "\n",
    "pylab.ylabel('Frequency') \n",
    "pylab.xlabel('Money Spent per User') \n",
    "pylab.show()\n",
    "\n",
    "print(\"95% confidence interval for mean group A Attempts Made per User:\",  stat_intervals(groupA_median_scores, 0.05))\n",
    "print(\"95% confidence interval for mean group B Attempts Made per User:\",  stat_intervals(groupB_median_scores, 0.05))"
   ]
  },
  {
   "cell_type": "code",
   "execution_count": 406,
   "id": "39701826",
   "metadata": {},
   "outputs": [
    {
     "data": {
      "text/plain": [
       "MannwhitneyuResult(statistic=898267.0, pvalue=0.1687542465127322)"
      ]
     },
     "execution_count": 406,
     "metadata": {},
     "output_type": "execute_result"
    }
   ],
   "source": [
    "scipy.stats.mannwhitneyu(diff_hist_A, diff_hist_B, use_continuity=True, alternative='greater')"
   ]
  },
  {
   "cell_type": "code",
   "execution_count": 407,
   "id": "f05d54bd",
   "metadata": {},
   "outputs": [],
   "source": [
    "diff_max_spent_A = attemptsBySpend[attemptsBySpend['configTag'] == 'A'].groupby('userID')['moneySpent'].max()\n",
    "diff_max_spent_B = attemptsBySpend[attemptsBySpend['configTag'] == 'B'].groupby('userID')['moneySpent'].max()"
   ]
  },
  {
   "cell_type": "code",
   "execution_count": 408,
   "id": "48c7534f",
   "metadata": {},
   "outputs": [],
   "source": [
    "diff_max_spent_A = diff_max_spent_A[diff_max_spent_A != 0]\n",
    "diff_max_spent_B = diff_max_spent_B[diff_max_spent_B != 0]"
   ]
  },
  {
   "cell_type": "code",
   "execution_count": 409,
   "id": "0cfe1320",
   "metadata": {},
   "outputs": [
    {
     "data": {
      "image/png": "[encoded data removed]",
      "text/plain": [
       "<Figure size 1080x360 with 1 Axes>"
      ]
     },
     "metadata": {
      "needs_background": "light"
     },
     "output_type": "display_data"
    },
    {
     "name": "stdout",
     "output_type": "stream",
     "text": [
      "95% confidence interval for mean group A Attempts Made per User: [ 75.5  133.69]\n",
      "95% confidence interval for mean group B Attempts Made per User: [ 58.86 101.39]\n"
     ]
    }
   ],
   "source": [
    "groupA_median_scores = list(map(np.mean, get_bootstrap_samples(diff_max_spent_A .values, 10000)))\n",
    "groupB_median_scores = list(map(np.mean, get_bootstrap_samples(diff_max_spent_B.values, 10000)))\n",
    "\n",
    "pylab.figure(figsize(15, 5))\n",
    "pylab.subplot(1,2,1)\n",
    "pylab.hist(groupA_median_scores, alpha = .5, color = 'b', label = 'Group A', bins = 100)\n",
    "pylab.legend()\n",
    "\n",
    "pylab.subplot(1,2,1)\n",
    "pylab.hist(groupB_median_scores, alpha = .5, color = 'r', label = 'Group B', bins = 100)\n",
    "pylab.legend()\n",
    "\n",
    "# pylab.subplot(1,2,1)\n",
    "# pylab.hist(groupC_median_scores, alpha = .5, color = 'g', label = 'Group C ARPU 1d', bins = 100)\n",
    "# pylab.legend()\n",
    "\n",
    "pylab.ylabel('Frequency') \n",
    "pylab.xlabel('Money Spent per User') \n",
    "pylab.show()\n",
    "\n",
    "print(\"95% confidence interval for mean group A Attempts Made per User:\",  stat_intervals(groupA_median_scores, 0.05))\n",
    "print(\"95% confidence interval for mean group B Attempts Made per User:\",  stat_intervals(groupB_median_scores, 0.05))"
   ]
  },
  {
   "cell_type": "code",
   "execution_count": 410,
   "id": "209197ef",
   "metadata": {},
   "outputs": [
    {
     "data": {
      "text/plain": [
       "MannwhitneyuResult(statistic=80769.5, pvalue=0.14630154276547536)"
      ]
     },
     "execution_count": 410,
     "metadata": {},
     "output_type": "execute_result"
    }
   ],
   "source": [
    "scipy.stats.mannwhitneyu(diff_max_spent_A, diff_max_spent_B, use_continuity=True, alternative='greater')"
   ]
  },
  {
   "cell_type": "code",
   "execution_count": 411,
   "id": "c7bc40dd",
   "metadata": {},
   "outputs": [],
   "source": [
    "max_spent_A = attemptsBySpend[attemptsBySpend['configTag'] == 'A'].groupby(['userID', 'moneySpent']).size().reset_index()\n",
    "max_spent_B = attemptsBySpend[attemptsBySpend['configTag'] == 'B'].groupby(['userID', 'moneySpent']).size().reset_index()"
   ]
  },
  {
   "cell_type": "code",
   "execution_count": 412,
   "id": "7d2caf5e",
   "metadata": {},
   "outputs": [
    {
     "data": {
      "text/html": [
       "<div>\n",
       "<style scoped>\n",
       "    .dataframe tbody tr th:only-of-type {\n",
       "        vertical-align: middle;\n",
       "    }\n",
       "\n",
       "    .dataframe tbody tr th {\n",
       "        vertical-align: top;\n",
       "    }\n",
       "\n",
       "    .dataframe thead th {\n",
       "        text-align: right;\n",
       "    }\n",
       "</style>\n",
       "<table border=\"1\" class=\"dataframe\">\n",
       "  <thead>\n",
       "    <tr style=\"text-align: right;\">\n",
       "      <th></th>\n",
       "      <th>userID</th>\n",
       "      <th>moneySpent</th>\n",
       "      <th>0</th>\n",
       "    </tr>\n",
       "  </thead>\n",
       "  <tbody>\n",
       "    <tr>\n",
       "      <th>0</th>\n",
       "      <td>0003385b-78e3-11ed-bade-628a94b2f6a7</td>\n",
       "      <td>38.95</td>\n",
       "      <td>4</td>\n",
       "    </tr>\n",
       "    <tr>\n",
       "      <th>1</th>\n",
       "      <td>000770cb-784a-11ed-bade-628a94b2f6a7</td>\n",
       "      <td>0.00</td>\n",
       "      <td>1</td>\n",
       "    </tr>\n",
       "    <tr>\n",
       "      <th>2</th>\n",
       "      <td>00664928-6717-11ed-a64c-fe78441d4e7f</td>\n",
       "      <td>46.77</td>\n",
       "      <td>1</td>\n",
       "    </tr>\n",
       "    <tr>\n",
       "      <th>3</th>\n",
       "      <td>00664928-6717-11ed-a64c-fe78441d4e7f</td>\n",
       "      <td>85.67</td>\n",
       "      <td>1</td>\n",
       "    </tr>\n",
       "    <tr>\n",
       "      <th>4</th>\n",
       "      <td>00664928-6717-11ed-a64c-fe78441d4e7f</td>\n",
       "      <td>94.62</td>\n",
       "      <td>1</td>\n",
       "    </tr>\n",
       "  </tbody>\n",
       "</table>\n",
       "</div>"
      ],
      "text/plain": [
       "                                 userID  moneySpent  0\n",
       "0  0003385b-78e3-11ed-bade-628a94b2f6a7       38.95  4\n",
       "1  000770cb-784a-11ed-bade-628a94b2f6a7        0.00  1\n",
       "2  00664928-6717-11ed-a64c-fe78441d4e7f       46.77  1\n",
       "3  00664928-6717-11ed-a64c-fe78441d4e7f       85.67  1\n",
       "4  00664928-6717-11ed-a64c-fe78441d4e7f       94.62  1"
      ]
     },
     "execution_count": 412,
     "metadata": {},
     "output_type": "execute_result"
    }
   ],
   "source": [
    "#attemptsBySpend[attemptsBySpend['configTag'] == 'A'].shape\n",
    "max_spent_A.head()"
   ]
  },
  {
   "cell_type": "code",
   "execution_count": 413,
   "id": "fd501e7f",
   "metadata": {},
   "outputs": [],
   "source": [
    "max_spent_A = max_spent_A['moneySpent']\n",
    "max_spent_B = max_spent_B['moneySpent']"
   ]
  },
  {
   "cell_type": "code",
   "execution_count": 414,
   "id": "f8c95b88",
   "metadata": {},
   "outputs": [],
   "source": [
    "max_spent_A = max_spent_A[max_spent_A != 0]\n",
    "max_spent_B = max_spent_B[max_spent_B != 0]"
   ]
  },
  {
   "cell_type": "code",
   "execution_count": 415,
   "id": "94968398",
   "metadata": {},
   "outputs": [
    {
     "data": {
      "image/png": "[encoded data removed]",
      "text/plain": [
       "<Figure size 1080x360 with 1 Axes>"
      ]
     },
     "metadata": {
      "needs_background": "light"
     },
     "output_type": "display_data"
    },
    {
     "name": "stdout",
     "output_type": "stream",
     "text": [
      "95% confidence interval for mean group A Attempts Made per User: [ 97.01 156.79]\n",
      "95% confidence interval for mean group B Attempts Made per User: [ 78.18 123.88]\n"
     ]
    }
   ],
   "source": [
    "groupA_median_scores = list(map(np.mean, get_bootstrap_samples(max_spent_A .values, 10000)))\n",
    "groupB_median_scores = list(map(np.mean, get_bootstrap_samples(max_spent_B.values, 10000)))\n",
    "\n",
    "pylab.figure(figsize(15, 5))\n",
    "pylab.subplot(1,2,1)\n",
    "pylab.hist(groupA_median_scores, alpha = .5, color = 'b', label = 'Group A', bins = 100)\n",
    "pylab.legend()\n",
    "\n",
    "pylab.subplot(1,2,1)\n",
    "pylab.hist(groupB_median_scores, alpha = .5, color = 'r', label = 'Group B', bins = 100)\n",
    "pylab.legend()\n",
    "\n",
    "# pylab.subplot(1,2,1)\n",
    "# pylab.hist(groupC_median_scores, alpha = .5, color = 'g', label = 'Group C ARPU 1d', bins = 100)\n",
    "# pylab.legend()\n",
    "\n",
    "pylab.ylabel('Frequency') \n",
    "pylab.xlabel('Money Spent per User') \n",
    "pylab.show()\n",
    "\n",
    "print(\"95% confidence interval for mean group A Attempts Made per User:\",  stat_intervals(groupA_median_scores, 0.05))\n",
    "print(\"95% confidence interval for mean group B Attempts Made per User:\",  stat_intervals(groupB_median_scores, 0.05))"
   ]
  },
  {
   "cell_type": "code",
   "execution_count": 416,
   "id": "9e1e98bc",
   "metadata": {},
   "outputs": [
    {
     "data": {
      "text/plain": [
       "MannwhitneyuResult(statistic=114030.0, pvalue=0.1359142602256871)"
      ]
     },
     "execution_count": 416,
     "metadata": {},
     "output_type": "execute_result"
    }
   ],
   "source": [
    "scipy.stats.mannwhitneyu(max_spent_A, max_spent_B, use_continuity=True, alternative='greater')"
   ]
  }
 ],
 "metadata": {
  "kernelspec": {
   "display_name": "Python 3.9.12",
   "language": "python",
   "name": "python3"
  },
  "language_info": {
   "codemirror_mode": {
    "name": "ipython",
    "version": 3
   },
   "file_extension": ".py",
   "mimetype": "text/x-python",
   "name": "python",
   "nbconvert_exporter": "python",
   "pygments_lexer": "ipython3",
   "version": "3.9.12"
  },
  "vscode": {
   "interpreter": {
    "hash": "7b34b089ce0dfc9935940e0a22050b2949fa617f7a2b73925623c261bed16aeb"
   }
  }
 },
 "nbformat": 4,
 "nbformat_minor": 5
}
