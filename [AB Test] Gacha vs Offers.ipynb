{
 "cells": [
  {
   "cell_type": "code",
   "execution_count": 1,
   "metadata": {},
   "outputs": [],
   "source": [
    "import numpy as np\n",
    "import pandas as pd\n",
    "import matplotlib.pyplot as plt\n",
    "\n",
    "import scipy\n",
    "from statsmodels.stats.weightstats import *\n",
    "from statsmodels.stats.proportion import proportion_confint"
   ]
  },
  {
   "cell_type": "code",
   "execution_count": 2,
   "metadata": {},
   "outputs": [
    {
     "name": "stdout",
     "output_type": "stream",
     "text": [
      "%pylab is deprecated, use %matplotlib inline and import the required libraries.\n",
      "Populating the interactive namespace from numpy and matplotlib\n"
     ]
    }
   ],
   "source": [
    "%pylab inline"
   ]
  },
  {
   "cell_type": "code",
   "execution_count": 84,
   "metadata": {},
   "outputs": [
    {
     "data": {
      "text/html": [
       "<div>\n",
       "<style scoped>\n",
       "    .dataframe tbody tr th:only-of-type {\n",
       "        vertical-align: middle;\n",
       "    }\n",
       "\n",
       "    .dataframe tbody tr th {\n",
       "        vertical-align: top;\n",
       "    }\n",
       "\n",
       "    .dataframe thead th {\n",
       "        text-align: right;\n",
       "    }\n",
       "</style>\n",
       "<table border=\"1\" class=\"dataframe\">\n",
       "  <thead>\n",
       "    <tr style=\"text-align: right;\">\n",
       "      <th></th>\n",
       "      <th>eventDate</th>\n",
       "      <th>userID</th>\n",
       "      <th>configTag</th>\n",
       "      <th>media_source</th>\n",
       "      <th>user_country</th>\n",
       "      <th>account_days</th>\n",
       "      <th>moneySpent</th>\n",
       "      <th>league</th>\n",
       "      <th>revenue</th>\n",
       "      <th>token_revenue</th>\n",
       "      <th>offer_revenue</th>\n",
       "    </tr>\n",
       "  </thead>\n",
       "  <tbody>\n",
       "    <tr>\n",
       "      <th>0</th>\n",
       "      <td>2023-03-01</td>\n",
       "      <td>2ca55c95-b855-11ed-9961-c264c1aef672</td>\n",
       "      <td>D</td>\n",
       "      <td>Organic</td>\n",
       "      <td>NaN</td>\n",
       "      <td>0</td>\n",
       "      <td>0.0</td>\n",
       "      <td>0</td>\n",
       "      <td>0.0</td>\n",
       "      <td>0.0</td>\n",
       "      <td>0.0</td>\n",
       "    </tr>\n",
       "    <tr>\n",
       "      <th>1</th>\n",
       "      <td>2023-03-13</td>\n",
       "      <td>1dbb0d64-c1b6-11ed-b5c6-3aa152a4963b</td>\n",
       "      <td>E</td>\n",
       "      <td>Organic</td>\n",
       "      <td>NaN</td>\n",
       "      <td>0</td>\n",
       "      <td>0.0</td>\n",
       "      <td>0</td>\n",
       "      <td>0.0</td>\n",
       "      <td>0.0</td>\n",
       "      <td>0.0</td>\n",
       "    </tr>\n",
       "    <tr>\n",
       "      <th>2</th>\n",
       "      <td>2023-03-13</td>\n",
       "      <td>284f1275-c1c2-11ed-b5c6-3aa152a4963b</td>\n",
       "      <td>C</td>\n",
       "      <td>Organic</td>\n",
       "      <td>NaN</td>\n",
       "      <td>0</td>\n",
       "      <td>0.0</td>\n",
       "      <td>0</td>\n",
       "      <td>0.0</td>\n",
       "      <td>0.0</td>\n",
       "      <td>0.0</td>\n",
       "    </tr>\n",
       "    <tr>\n",
       "      <th>3</th>\n",
       "      <td>2023-03-08</td>\n",
       "      <td>18037545-bd50-11ed-b53b-26ff1ab837b5</td>\n",
       "      <td>C</td>\n",
       "      <td>Organic</td>\n",
       "      <td>NaN</td>\n",
       "      <td>0</td>\n",
       "      <td>0.0</td>\n",
       "      <td>0</td>\n",
       "      <td>0.0</td>\n",
       "      <td>0.0</td>\n",
       "      <td>0.0</td>\n",
       "    </tr>\n",
       "    <tr>\n",
       "      <th>4</th>\n",
       "      <td>2023-03-02</td>\n",
       "      <td>1c29339a-b909-11ed-9961-c264c1aef672</td>\n",
       "      <td>C</td>\n",
       "      <td>Organic</td>\n",
       "      <td>NaN</td>\n",
       "      <td>0</td>\n",
       "      <td>0.0</td>\n",
       "      <td>0</td>\n",
       "      <td>0.0</td>\n",
       "      <td>0.0</td>\n",
       "      <td>0.0</td>\n",
       "    </tr>\n",
       "  </tbody>\n",
       "</table>\n",
       "</div>"
      ],
      "text/plain": [
       "    eventDate                                userID configTag media_source  \\\n",
       "0  2023-03-01  2ca55c95-b855-11ed-9961-c264c1aef672         D      Organic   \n",
       "1  2023-03-13  1dbb0d64-c1b6-11ed-b5c6-3aa152a4963b         E      Organic   \n",
       "2  2023-03-13  284f1275-c1c2-11ed-b5c6-3aa152a4963b         C      Organic   \n",
       "3  2023-03-08  18037545-bd50-11ed-b53b-26ff1ab837b5         C      Organic   \n",
       "4  2023-03-02  1c29339a-b909-11ed-9961-c264c1aef672         C      Organic   \n",
       "\n",
       "  user_country  account_days  moneySpent  league  revenue  token_revenue  \\\n",
       "0          NaN             0         0.0       0      0.0            0.0   \n",
       "1          NaN             0         0.0       0      0.0            0.0   \n",
       "2          NaN             0         0.0       0      0.0            0.0   \n",
       "3          NaN             0         0.0       0      0.0            0.0   \n",
       "4          NaN             0         0.0       0      0.0            0.0   \n",
       "\n",
       "   offer_revenue  \n",
       "0            0.0  \n",
       "1            0.0  \n",
       "2            0.0  \n",
       "3            0.0  \n",
       "4            0.0  "
      ]
     },
     "execution_count": 84,
     "metadata": {},
     "output_type": "execute_result"
    }
   ],
   "source": [
    "purchases = pd.read_csv(r'purchases.csv')\n",
    "purchases.head(5)"
   ]
  },
  {
   "cell_type": "code",
   "execution_count": 85,
   "metadata": {},
   "outputs": [
    {
     "name": "stdout",
     "output_type": "stream",
     "text": [
      "<class 'pandas.core.frame.DataFrame'>\n",
      "RangeIndex: 349412 entries, 0 to 349411\n",
      "Data columns (total 11 columns):\n",
      " #   Column         Non-Null Count   Dtype  \n",
      "---  ------         --------------   -----  \n",
      " 0   eventDate      349412 non-null  object \n",
      " 1   userID         349412 non-null  object \n",
      " 2   configTag      348894 non-null  object \n",
      " 3   media_source   349412 non-null  object \n",
      " 4   user_country   349356 non-null  object \n",
      " 5   account_days   349412 non-null  int64  \n",
      " 6   moneySpent     349412 non-null  float64\n",
      " 7   league         349412 non-null  int64  \n",
      " 8   revenue        349412 non-null  float64\n",
      " 9   token_revenue  349412 non-null  float64\n",
      " 10  offer_revenue  349412 non-null  float64\n",
      "dtypes: float64(4), int64(2), object(5)\n",
      "memory usage: 29.3+ MB\n"
     ]
    }
   ],
   "source": [
    "purchases.info()"
   ]
  },
  {
   "cell_type": "code",
   "execution_count": 86,
   "metadata": {},
   "outputs": [],
   "source": [
    "purchases = purchases[(purchases['revenue'] < percentile(purchases[purchases['revenue'] > 0]['revenue'], 95))]"
   ]
  },
  {
   "cell_type": "code",
   "execution_count": 87,
   "metadata": {},
   "outputs": [
    {
     "name": "stdout",
     "output_type": "stream",
     "text": [
      "<class 'pandas.core.frame.DataFrame'>\n",
      "Int64Index: 349188 entries, 0 to 349411\n",
      "Data columns (total 11 columns):\n",
      " #   Column         Non-Null Count   Dtype  \n",
      "---  ------         --------------   -----  \n",
      " 0   eventDate      349188 non-null  object \n",
      " 1   userID         349188 non-null  object \n",
      " 2   configTag      348670 non-null  object \n",
      " 3   media_source   349188 non-null  object \n",
      " 4   user_country   349132 non-null  object \n",
      " 5   account_days   349188 non-null  int64  \n",
      " 6   moneySpent     349188 non-null  float64\n",
      " 7   league         349188 non-null  int64  \n",
      " 8   revenue        349188 non-null  float64\n",
      " 9   token_revenue  349188 non-null  float64\n",
      " 10  offer_revenue  349188 non-null  float64\n",
      "dtypes: float64(4), int64(2), object(5)\n",
      "memory usage: 32.0+ MB\n"
     ]
    }
   ],
   "source": [
    "purchases.info()"
   ]
  },
  {
   "cell_type": "code",
   "execution_count": 88,
   "metadata": {},
   "outputs": [],
   "source": [
    "purchases.dropna(subset=['configTag'], inplace=True)"
   ]
  },
  {
   "cell_type": "code",
   "execution_count": 89,
   "metadata": {},
   "outputs": [
    {
     "name": "stdout",
     "output_type": "stream",
     "text": [
      "<class 'pandas.core.frame.DataFrame'>\n",
      "Int64Index: 348670 entries, 0 to 349411\n",
      "Data columns (total 11 columns):\n",
      " #   Column         Non-Null Count   Dtype  \n",
      "---  ------         --------------   -----  \n",
      " 0   eventDate      348670 non-null  object \n",
      " 1   userID         348670 non-null  object \n",
      " 2   configTag      348670 non-null  object \n",
      " 3   media_source   348670 non-null  object \n",
      " 4   user_country   348614 non-null  object \n",
      " 5   account_days   348670 non-null  int64  \n",
      " 6   moneySpent     348670 non-null  float64\n",
      " 7   league         348670 non-null  int64  \n",
      " 8   revenue        348670 non-null  float64\n",
      " 9   token_revenue  348670 non-null  float64\n",
      " 10  offer_revenue  348670 non-null  float64\n",
      "dtypes: float64(4), int64(2), object(5)\n",
      "memory usage: 31.9+ MB\n"
     ]
    }
   ],
   "source": [
    "purchases.info()"
   ]
  },
  {
   "cell_type": "code",
   "execution_count": 90,
   "metadata": {},
   "outputs": [
    {
     "data": {
      "text/plain": [
       "configTag\n",
       "A        2\n",
       "B        2\n",
       "C    62264\n",
       "D    63841\n",
       "E    14130\n",
       "Name: userID, dtype: int64"
      ]
     },
     "execution_count": 90,
     "metadata": {},
     "output_type": "execute_result"
    }
   ],
   "source": [
    "purchases.groupby('configTag')['userID'].nunique()"
   ]
  },
  {
   "cell_type": "code",
   "execution_count": 91,
   "metadata": {},
   "outputs": [
    {
     "data": {
      "text/html": [
       "<div>\n",
       "<style scoped>\n",
       "    .dataframe tbody tr th:only-of-type {\n",
       "        vertical-align: middle;\n",
       "    }\n",
       "\n",
       "    .dataframe tbody tr th {\n",
       "        vertical-align: top;\n",
       "    }\n",
       "\n",
       "    .dataframe thead th {\n",
       "        text-align: right;\n",
       "    }\n",
       "</style>\n",
       "<table border=\"1\" class=\"dataframe\">\n",
       "  <thead>\n",
       "    <tr style=\"text-align: right;\">\n",
       "      <th></th>\n",
       "      <th>account_days</th>\n",
       "      <th>moneySpent</th>\n",
       "      <th>league</th>\n",
       "      <th>revenue</th>\n",
       "      <th>token_revenue</th>\n",
       "      <th>offer_revenue</th>\n",
       "    </tr>\n",
       "  </thead>\n",
       "  <tbody>\n",
       "    <tr>\n",
       "      <th>count</th>\n",
       "      <td>163748.000000</td>\n",
       "      <td>163748.000000</td>\n",
       "      <td>163748.000000</td>\n",
       "      <td>163748.000000</td>\n",
       "      <td>163748.000000</td>\n",
       "      <td>163748.000000</td>\n",
       "    </tr>\n",
       "    <tr>\n",
       "      <th>mean</th>\n",
       "      <td>58.273164</td>\n",
       "      <td>7.224674</td>\n",
       "      <td>2.380139</td>\n",
       "      <td>0.138826</td>\n",
       "      <td>0.019750</td>\n",
       "      <td>0.118681</td>\n",
       "    </tr>\n",
       "    <tr>\n",
       "      <th>std</th>\n",
       "      <td>98.670175</td>\n",
       "      <td>77.266588</td>\n",
       "      <td>2.502026</td>\n",
       "      <td>1.610604</td>\n",
       "      <td>0.545196</td>\n",
       "      <td>1.463797</td>\n",
       "    </tr>\n",
       "    <tr>\n",
       "      <th>min</th>\n",
       "      <td>-9.000000</td>\n",
       "      <td>0.000000</td>\n",
       "      <td>0.000000</td>\n",
       "      <td>0.000000</td>\n",
       "      <td>0.000000</td>\n",
       "      <td>0.000000</td>\n",
       "    </tr>\n",
       "    <tr>\n",
       "      <th>25%</th>\n",
       "      <td>1.000000</td>\n",
       "      <td>0.000000</td>\n",
       "      <td>0.000000</td>\n",
       "      <td>0.000000</td>\n",
       "      <td>0.000000</td>\n",
       "      <td>0.000000</td>\n",
       "    </tr>\n",
       "    <tr>\n",
       "      <th>50%</th>\n",
       "      <td>16.000000</td>\n",
       "      <td>0.000000</td>\n",
       "      <td>1.000000</td>\n",
       "      <td>0.000000</td>\n",
       "      <td>0.000000</td>\n",
       "      <td>0.000000</td>\n",
       "    </tr>\n",
       "    <tr>\n",
       "      <th>75%</th>\n",
       "      <td>61.000000</td>\n",
       "      <td>0.000000</td>\n",
       "      <td>4.000000</td>\n",
       "      <td>0.000000</td>\n",
       "      <td>0.000000</td>\n",
       "      <td>0.000000</td>\n",
       "    </tr>\n",
       "    <tr>\n",
       "      <th>max</th>\n",
       "      <td>651.000000</td>\n",
       "      <td>4323.200000</td>\n",
       "      <td>15.000000</td>\n",
       "      <td>44.837203</td>\n",
       "      <td>39.980000</td>\n",
       "      <td>44.776119</td>\n",
       "    </tr>\n",
       "  </tbody>\n",
       "</table>\n",
       "</div>"
      ],
      "text/plain": [
       "        account_days     moneySpent         league        revenue  \\\n",
       "count  163748.000000  163748.000000  163748.000000  163748.000000   \n",
       "mean       58.273164       7.224674       2.380139       0.138826   \n",
       "std        98.670175      77.266588       2.502026       1.610604   \n",
       "min        -9.000000       0.000000       0.000000       0.000000   \n",
       "25%         1.000000       0.000000       0.000000       0.000000   \n",
       "50%        16.000000       0.000000       1.000000       0.000000   \n",
       "75%        61.000000       0.000000       4.000000       0.000000   \n",
       "max       651.000000    4323.200000      15.000000      44.837203   \n",
       "\n",
       "       token_revenue  offer_revenue  \n",
       "count  163748.000000  163748.000000  \n",
       "mean        0.019750       0.118681  \n",
       "std         0.545196       1.463797  \n",
       "min         0.000000       0.000000  \n",
       "25%         0.000000       0.000000  \n",
       "50%         0.000000       0.000000  \n",
       "75%         0.000000       0.000000  \n",
       "max        39.980000      44.776119  "
      ]
     },
     "execution_count": 91,
     "metadata": {},
     "output_type": "execute_result"
    }
   ],
   "source": [
    "purchases[purchases['configTag'] == 'C'].describe()"
   ]
  },
  {
   "cell_type": "code",
   "execution_count": 92,
   "metadata": {},
   "outputs": [
    {
     "data": {
      "text/html": [
       "<div>\n",
       "<style scoped>\n",
       "    .dataframe tbody tr th:only-of-type {\n",
       "        vertical-align: middle;\n",
       "    }\n",
       "\n",
       "    .dataframe tbody tr th {\n",
       "        vertical-align: top;\n",
       "    }\n",
       "\n",
       "    .dataframe thead th {\n",
       "        text-align: right;\n",
       "    }\n",
       "</style>\n",
       "<table border=\"1\" class=\"dataframe\">\n",
       "  <thead>\n",
       "    <tr style=\"text-align: right;\">\n",
       "      <th></th>\n",
       "      <th>account_days</th>\n",
       "      <th>moneySpent</th>\n",
       "      <th>league</th>\n",
       "      <th>revenue</th>\n",
       "      <th>token_revenue</th>\n",
       "      <th>offer_revenue</th>\n",
       "    </tr>\n",
       "  </thead>\n",
       "  <tbody>\n",
       "    <tr>\n",
       "      <th>count</th>\n",
       "      <td>166407.000000</td>\n",
       "      <td>166407.000000</td>\n",
       "      <td>166407.000000</td>\n",
       "      <td>166407.000000</td>\n",
       "      <td>166407.000000</td>\n",
       "      <td>166407.000000</td>\n",
       "    </tr>\n",
       "    <tr>\n",
       "      <th>mean</th>\n",
       "      <td>61.834935</td>\n",
       "      <td>6.407568</td>\n",
       "      <td>2.396774</td>\n",
       "      <td>0.125470</td>\n",
       "      <td>0.018593</td>\n",
       "      <td>0.106294</td>\n",
       "    </tr>\n",
       "    <tr>\n",
       "      <th>std</th>\n",
       "      <td>101.055068</td>\n",
       "      <td>71.658582</td>\n",
       "      <td>2.513245</td>\n",
       "      <td>1.518719</td>\n",
       "      <td>0.543593</td>\n",
       "      <td>1.365162</td>\n",
       "    </tr>\n",
       "    <tr>\n",
       "      <th>min</th>\n",
       "      <td>-3.000000</td>\n",
       "      <td>0.000000</td>\n",
       "      <td>0.000000</td>\n",
       "      <td>0.000000</td>\n",
       "      <td>0.000000</td>\n",
       "      <td>0.000000</td>\n",
       "    </tr>\n",
       "    <tr>\n",
       "      <th>25%</th>\n",
       "      <td>1.000000</td>\n",
       "      <td>0.000000</td>\n",
       "      <td>0.000000</td>\n",
       "      <td>0.000000</td>\n",
       "      <td>0.000000</td>\n",
       "      <td>0.000000</td>\n",
       "    </tr>\n",
       "    <tr>\n",
       "      <th>50%</th>\n",
       "      <td>17.000000</td>\n",
       "      <td>0.000000</td>\n",
       "      <td>1.000000</td>\n",
       "      <td>0.000000</td>\n",
       "      <td>0.000000</td>\n",
       "      <td>0.000000</td>\n",
       "    </tr>\n",
       "    <tr>\n",
       "      <th>75%</th>\n",
       "      <td>66.000000</td>\n",
       "      <td>0.000000</td>\n",
       "      <td>4.000000</td>\n",
       "      <td>0.000000</td>\n",
       "      <td>0.000000</td>\n",
       "      <td>0.000000</td>\n",
       "    </tr>\n",
       "    <tr>\n",
       "      <th>max</th>\n",
       "      <td>650.000000</td>\n",
       "      <td>5928.800000</td>\n",
       "      <td>15.000000</td>\n",
       "      <td>44.940000</td>\n",
       "      <td>39.980000</td>\n",
       "      <td>44.853325</td>\n",
       "    </tr>\n",
       "  </tbody>\n",
       "</table>\n",
       "</div>"
      ],
      "text/plain": [
       "        account_days     moneySpent         league        revenue  \\\n",
       "count  166407.000000  166407.000000  166407.000000  166407.000000   \n",
       "mean       61.834935       6.407568       2.396774       0.125470   \n",
       "std       101.055068      71.658582       2.513245       1.518719   \n",
       "min        -3.000000       0.000000       0.000000       0.000000   \n",
       "25%         1.000000       0.000000       0.000000       0.000000   \n",
       "50%        17.000000       0.000000       1.000000       0.000000   \n",
       "75%        66.000000       0.000000       4.000000       0.000000   \n",
       "max       650.000000    5928.800000      15.000000      44.940000   \n",
       "\n",
       "       token_revenue  offer_revenue  \n",
       "count  166407.000000  166407.000000  \n",
       "mean        0.018593       0.106294  \n",
       "std         0.543593       1.365162  \n",
       "min         0.000000       0.000000  \n",
       "25%         0.000000       0.000000  \n",
       "50%         0.000000       0.000000  \n",
       "75%         0.000000       0.000000  \n",
       "max        39.980000      44.853325  "
      ]
     },
     "execution_count": 92,
     "metadata": {},
     "output_type": "execute_result"
    }
   ],
   "source": [
    "purchases[purchases['configTag'] == 'D'].describe()"
   ]
  },
  {
   "cell_type": "code",
   "execution_count": 93,
   "metadata": {},
   "outputs": [],
   "source": [
    "purchases = purchases[purchases['league'] > 1]"
   ]
  },
  {
   "cell_type": "code",
   "execution_count": 94,
   "metadata": {},
   "outputs": [
    {
     "data": {
      "text/plain": [
       "configTag\n",
       "A        1\n",
       "C    14249\n",
       "D    14819\n",
       "E      861\n",
       "Name: userID, dtype: int64"
      ]
     },
     "execution_count": 94,
     "metadata": {},
     "output_type": "execute_result"
    }
   ],
   "source": [
    "purchases.groupby('configTag')['userID'].nunique()"
   ]
  },
  {
   "cell_type": "code",
   "execution_count": 95,
   "metadata": {},
   "outputs": [
    {
     "data": {
      "text/html": [
       "<div>\n",
       "<style scoped>\n",
       "    .dataframe tbody tr th:only-of-type {\n",
       "        vertical-align: middle;\n",
       "    }\n",
       "\n",
       "    .dataframe tbody tr th {\n",
       "        vertical-align: top;\n",
       "    }\n",
       "\n",
       "    .dataframe thead th {\n",
       "        text-align: right;\n",
       "    }\n",
       "</style>\n",
       "<table border=\"1\" class=\"dataframe\">\n",
       "  <thead>\n",
       "    <tr style=\"text-align: right;\">\n",
       "      <th></th>\n",
       "      <th>account_days</th>\n",
       "      <th>moneySpent</th>\n",
       "      <th>league</th>\n",
       "      <th>revenue</th>\n",
       "      <th>token_revenue</th>\n",
       "      <th>offer_revenue</th>\n",
       "    </tr>\n",
       "  </thead>\n",
       "  <tbody>\n",
       "    <tr>\n",
       "      <th>count</th>\n",
       "      <td>81315.000000</td>\n",
       "      <td>81315.000000</td>\n",
       "      <td>81315.000000</td>\n",
       "      <td>81315.000000</td>\n",
       "      <td>81315.000000</td>\n",
       "      <td>81315.000000</td>\n",
       "    </tr>\n",
       "    <tr>\n",
       "      <th>mean</th>\n",
       "      <td>88.952321</td>\n",
       "      <td>14.326286</td>\n",
       "      <td>4.440521</td>\n",
       "      <td>0.219893</td>\n",
       "      <td>0.034086</td>\n",
       "      <td>0.185012</td>\n",
       "    </tr>\n",
       "    <tr>\n",
       "      <th>std</th>\n",
       "      <td>107.085252</td>\n",
       "      <td>109.162768</td>\n",
       "      <td>1.985854</td>\n",
       "      <td>2.054652</td>\n",
       "      <td>0.727618</td>\n",
       "      <td>1.855098</td>\n",
       "    </tr>\n",
       "    <tr>\n",
       "      <th>min</th>\n",
       "      <td>0.000000</td>\n",
       "      <td>0.000000</td>\n",
       "      <td>2.000000</td>\n",
       "      <td>0.000000</td>\n",
       "      <td>0.000000</td>\n",
       "      <td>0.000000</td>\n",
       "    </tr>\n",
       "    <tr>\n",
       "      <th>25%</th>\n",
       "      <td>20.000000</td>\n",
       "      <td>0.000000</td>\n",
       "      <td>3.000000</td>\n",
       "      <td>0.000000</td>\n",
       "      <td>0.000000</td>\n",
       "      <td>0.000000</td>\n",
       "    </tr>\n",
       "    <tr>\n",
       "      <th>50%</th>\n",
       "      <td>46.000000</td>\n",
       "      <td>0.000000</td>\n",
       "      <td>4.000000</td>\n",
       "      <td>0.000000</td>\n",
       "      <td>0.000000</td>\n",
       "      <td>0.000000</td>\n",
       "    </tr>\n",
       "    <tr>\n",
       "      <th>75%</th>\n",
       "      <td>105.000000</td>\n",
       "      <td>0.000000</td>\n",
       "      <td>6.000000</td>\n",
       "      <td>0.000000</td>\n",
       "      <td>0.000000</td>\n",
       "      <td>0.000000</td>\n",
       "    </tr>\n",
       "    <tr>\n",
       "      <th>max</th>\n",
       "      <td>651.000000</td>\n",
       "      <td>4323.200000</td>\n",
       "      <td>15.000000</td>\n",
       "      <td>44.837203</td>\n",
       "      <td>39.980000</td>\n",
       "      <td>44.776119</td>\n",
       "    </tr>\n",
       "  </tbody>\n",
       "</table>\n",
       "</div>"
      ],
      "text/plain": [
       "       account_days    moneySpent        league       revenue  token_revenue  \\\n",
       "count  81315.000000  81315.000000  81315.000000  81315.000000   81315.000000   \n",
       "mean      88.952321     14.326286      4.440521      0.219893       0.034086   \n",
       "std      107.085252    109.162768      1.985854      2.054652       0.727618   \n",
       "min        0.000000      0.000000      2.000000      0.000000       0.000000   \n",
       "25%       20.000000      0.000000      3.000000      0.000000       0.000000   \n",
       "50%       46.000000      0.000000      4.000000      0.000000       0.000000   \n",
       "75%      105.000000      0.000000      6.000000      0.000000       0.000000   \n",
       "max      651.000000   4323.200000     15.000000     44.837203      39.980000   \n",
       "\n",
       "       offer_revenue  \n",
       "count   81315.000000  \n",
       "mean        0.185012  \n",
       "std         1.855098  \n",
       "min         0.000000  \n",
       "25%         0.000000  \n",
       "50%         0.000000  \n",
       "75%         0.000000  \n",
       "max        44.776119  "
      ]
     },
     "execution_count": 95,
     "metadata": {},
     "output_type": "execute_result"
    }
   ],
   "source": [
    "purchases[purchases['configTag'] == 'C'].describe()"
   ]
  },
  {
   "cell_type": "code",
   "execution_count": 96,
   "metadata": {},
   "outputs": [
    {
     "data": {
      "text/html": [
       "<div>\n",
       "<style scoped>\n",
       "    .dataframe tbody tr th:only-of-type {\n",
       "        vertical-align: middle;\n",
       "    }\n",
       "\n",
       "    .dataframe tbody tr th {\n",
       "        vertical-align: top;\n",
       "    }\n",
       "\n",
       "    .dataframe thead th {\n",
       "        text-align: right;\n",
       "    }\n",
       "</style>\n",
       "<table border=\"1\" class=\"dataframe\">\n",
       "  <thead>\n",
       "    <tr style=\"text-align: right;\">\n",
       "      <th></th>\n",
       "      <th>account_days</th>\n",
       "      <th>moneySpent</th>\n",
       "      <th>league</th>\n",
       "      <th>revenue</th>\n",
       "      <th>token_revenue</th>\n",
       "      <th>offer_revenue</th>\n",
       "    </tr>\n",
       "  </thead>\n",
       "  <tbody>\n",
       "    <tr>\n",
       "      <th>count</th>\n",
       "      <td>82906.000000</td>\n",
       "      <td>82906.000000</td>\n",
       "      <td>82906.000000</td>\n",
       "      <td>82906.000000</td>\n",
       "      <td>82906.000000</td>\n",
       "      <td>82906.000000</td>\n",
       "    </tr>\n",
       "    <tr>\n",
       "      <th>mean</th>\n",
       "      <td>93.355933</td>\n",
       "      <td>12.647608</td>\n",
       "      <td>4.462114</td>\n",
       "      <td>0.195722</td>\n",
       "      <td>0.029489</td>\n",
       "      <td>0.165349</td>\n",
       "    </tr>\n",
       "    <tr>\n",
       "      <th>std</th>\n",
       "      <td>108.436498</td>\n",
       "      <td>101.113963</td>\n",
       "      <td>1.987281</td>\n",
       "      <td>1.912729</td>\n",
       "      <td>0.689344</td>\n",
       "      <td>1.718550</td>\n",
       "    </tr>\n",
       "    <tr>\n",
       "      <th>min</th>\n",
       "      <td>0.000000</td>\n",
       "      <td>0.000000</td>\n",
       "      <td>2.000000</td>\n",
       "      <td>0.000000</td>\n",
       "      <td>0.000000</td>\n",
       "      <td>0.000000</td>\n",
       "    </tr>\n",
       "    <tr>\n",
       "      <th>25%</th>\n",
       "      <td>21.000000</td>\n",
       "      <td>0.000000</td>\n",
       "      <td>3.000000</td>\n",
       "      <td>0.000000</td>\n",
       "      <td>0.000000</td>\n",
       "      <td>0.000000</td>\n",
       "    </tr>\n",
       "    <tr>\n",
       "      <th>50%</th>\n",
       "      <td>48.000000</td>\n",
       "      <td>0.000000</td>\n",
       "      <td>4.000000</td>\n",
       "      <td>0.000000</td>\n",
       "      <td>0.000000</td>\n",
       "      <td>0.000000</td>\n",
       "    </tr>\n",
       "    <tr>\n",
       "      <th>75%</th>\n",
       "      <td>131.000000</td>\n",
       "      <td>0.000000</td>\n",
       "      <td>6.000000</td>\n",
       "      <td>0.000000</td>\n",
       "      <td>0.000000</td>\n",
       "      <td>0.000000</td>\n",
       "    </tr>\n",
       "    <tr>\n",
       "      <th>max</th>\n",
       "      <td>650.000000</td>\n",
       "      <td>5928.800000</td>\n",
       "      <td>15.000000</td>\n",
       "      <td>44.940000</td>\n",
       "      <td>39.980000</td>\n",
       "      <td>44.853325</td>\n",
       "    </tr>\n",
       "  </tbody>\n",
       "</table>\n",
       "</div>"
      ],
      "text/plain": [
       "       account_days    moneySpent        league       revenue  token_revenue  \\\n",
       "count  82906.000000  82906.000000  82906.000000  82906.000000   82906.000000   \n",
       "mean      93.355933     12.647608      4.462114      0.195722       0.029489   \n",
       "std      108.436498    101.113963      1.987281      1.912729       0.689344   \n",
       "min        0.000000      0.000000      2.000000      0.000000       0.000000   \n",
       "25%       21.000000      0.000000      3.000000      0.000000       0.000000   \n",
       "50%       48.000000      0.000000      4.000000      0.000000       0.000000   \n",
       "75%      131.000000      0.000000      6.000000      0.000000       0.000000   \n",
       "max      650.000000   5928.800000     15.000000     44.940000      39.980000   \n",
       "\n",
       "       offer_revenue  \n",
       "count   82906.000000  \n",
       "mean        0.165349  \n",
       "std         1.718550  \n",
       "min         0.000000  \n",
       "25%         0.000000  \n",
       "50%         0.000000  \n",
       "75%         0.000000  \n",
       "max        44.853325  "
      ]
     },
     "execution_count": 96,
     "metadata": {},
     "output_type": "execute_result"
    }
   ],
   "source": [
    "purchases[purchases['configTag'] == 'D'].describe()"
   ]
  },
  {
   "cell_type": "code",
   "execution_count": 97,
   "metadata": {},
   "outputs": [],
   "source": [
    "def stat_intervals(stat, alpha):\n",
    "    boundaries = np.percentile(stat, [100 * alpha / 2., 100 * (1 - alpha / 2.)])\n",
    "    return boundaries.round(decimals=2)"
   ]
  },
  {
   "cell_type": "code",
   "execution_count": 98,
   "metadata": {},
   "outputs": [],
   "source": [
    "def get_bootstrap_samples(data, n_samples):\n",
    "    indices = np.random.randint(0, len(data), (n_samples, len(data)))\n",
    "    samples = data[indices]\n",
    "    return samples"
   ]
  },
  {
   "cell_type": "code",
   "execution_count": 128,
   "metadata": {},
   "outputs": [
    {
     "data": {
      "text/plain": [
       "[17880.580845483324, 16226.489189939088]"
      ]
     },
     "execution_count": 128,
     "metadata": {},
     "output_type": "execute_result"
    }
   ],
   "source": [
    "revenue_C = purchases[purchases['configTag'] == 'C']['revenue'].sum()\n",
    "revenue_D = purchases[purchases['configTag'] == 'D']['revenue'].sum()\n",
    "[revenue_C, revenue_D]"
   ]
  },
  {
   "cell_type": "code",
   "execution_count": 99,
   "metadata": {},
   "outputs": [],
   "source": [
    "total_revenue_C = purchases[purchases['configTag'] == 'C'].groupby('userID')['revenue'].agg('sum')\n",
    "total_revenue_D = purchases[purchases['configTag'] == 'D'].groupby('userID')['revenue'].agg('sum')"
   ]
  },
  {
   "cell_type": "code",
   "execution_count": 100,
   "metadata": {},
   "outputs": [
    {
     "data": {
      "image/png": "[encoded data removed]",
      "text/plain": [
       "<Figure size 1080x360 with 1 Axes>"
      ]
     },
     "metadata": {
      "needs_background": "light"
     },
     "output_type": "display_data"
    },
    {
     "name": "stdout",
     "output_type": "stream",
     "text": [
      "95% confidence interval for mean group C ARPU:  [1.12 1.4 ]\n",
      "95% confidence interval for mean group D ARPU:  [0.98 1.21]\n"
     ]
    }
   ],
   "source": [
    "groupC_median_scores = list(map(np.mean, get_bootstrap_samples(total_revenue_C.values, 10000)))\n",
    "groupD_median_scores = list(map(np.mean, get_bootstrap_samples(total_revenue_D.values, 10000)))\n",
    "\n",
    "pylab.figure(figsize(15, 5))\n",
    "pylab.subplot(1,2,1)\n",
    "pylab.hist(groupC_median_scores, alpha = .5, color = 'b', label = 'Group C', bins = 100)\n",
    "pylab.legend()\n",
    "\n",
    "pylab.subplot(1,2,1)\n",
    "pylab.hist(groupD_median_scores, alpha = .5, color = 'r', label = 'Group D', bins = 100)\n",
    "pylab.legend()\n",
    "\n",
    "# pylab.subplot(1,2,1)\n",
    "# pylab.hist(groupC_median_scores, alpha = .5, color = 'g', label = 'Group C ARPU 1d', bins = 100)\n",
    "# pylab.legend()\n",
    "\n",
    "pylab.ylabel('Frequency') \n",
    "pylab.xlabel('ARPU') \n",
    "pylab.show()\n",
    "\n",
    "print(\"95% confidence interval for mean group C ARPU: \",  stat_intervals(groupC_median_scores, 0.05))\n",
    "print(\"95% confidence interval for mean group D ARPU: \",  stat_intervals(groupD_median_scores, 0.05))"
   ]
  },
  {
   "cell_type": "code",
   "execution_count": 101,
   "metadata": {},
   "outputs": [
    {
     "data": {
      "text/plain": [
       "MannwhitneyuResult(statistic=106089430.5, pvalue=0.038092625309797)"
      ]
     },
     "execution_count": 101,
     "metadata": {},
     "output_type": "execute_result"
    }
   ],
   "source": [
    "scipy.stats.mannwhitneyu(total_revenue_C.values, total_revenue_D.values, use_continuity=True, alternative='greater')"
   ]
  },
  {
   "cell_type": "code",
   "execution_count": 102,
   "metadata": {},
   "outputs": [],
   "source": [
    "arpdau_C = purchases[purchases['configTag'] == 'C'].groupby('eventDate')['revenue'].agg('sum') / purchases[purchases['configTag'] == 'C'].groupby('eventDate')['userID'].nunique()\n",
    "arpdau_D = purchases[purchases['configTag'] == 'D'].groupby('eventDate')['revenue'].agg('sum') / purchases[purchases['configTag'] == 'D'].groupby('eventDate')['userID'].nunique()"
   ]
  },
  {
   "cell_type": "code",
   "execution_count": 108,
   "metadata": {},
   "outputs": [
    {
     "data": {
      "text/plain": [
       "[0.2211462350758643, 0.19667800993715792]"
      ]
     },
     "execution_count": 108,
     "metadata": {},
     "output_type": "execute_result"
    }
   ],
   "source": [
    "[arpdau_C.mean(), arpdau_D.mean()]"
   ]
  },
  {
   "cell_type": "code",
   "execution_count": 103,
   "metadata": {},
   "outputs": [
    {
     "data": {
      "image/png": "[encoded data removed]",
      "text/plain": [
       "<Figure size 1080x360 with 1 Axes>"
      ]
     },
     "metadata": {
      "needs_background": "light"
     },
     "output_type": "display_data"
    },
    {
     "name": "stdout",
     "output_type": "stream",
     "text": [
      "95% confidence interval for mean group C ARPDAU:  [0.19 0.27]\n",
      "95% confidence interval for mean group D ARPDAU:  [0.17 0.23]\n"
     ]
    }
   ],
   "source": [
    "groupC_median_scores = list(map(np.mean, get_bootstrap_samples(arpdau_C.values, 10000)))\n",
    "groupD_median_scores = list(map(np.mean, get_bootstrap_samples(arpdau_D.values, 10000)))\n",
    "\n",
    "pylab.figure(figsize(15, 5))\n",
    "pylab.subplot(1,2,1)\n",
    "pylab.hist(groupC_median_scores, alpha = .5, color = 'b', label = 'Group C', bins = 100)\n",
    "pylab.legend()\n",
    "\n",
    "pylab.subplot(1,2,1)\n",
    "pylab.hist(groupD_median_scores, alpha = .5, color = 'r', label = 'Group D', bins = 100)\n",
    "pylab.legend()\n",
    "\n",
    "# pylab.subplot(1,2,1)\n",
    "# pylab.hist(groupC_median_scores, alpha = .5, color = 'g', label = 'Group C ARPU 1d', bins = 100)\n",
    "# pylab.legend()\n",
    "\n",
    "pylab.ylabel('Frequency') \n",
    "pylab.xlabel('ARPDAU') \n",
    "pylab.show()\n",
    "\n",
    "print(\"95% confidence interval for mean group C ARPDAU: \",  stat_intervals(groupC_median_scores, 0.05))\n",
    "print(\"95% confidence interval for mean group D ARPDAU: \",  stat_intervals(groupD_median_scores, 0.05))"
   ]
  },
  {
   "cell_type": "code",
   "execution_count": 104,
   "metadata": {},
   "outputs": [
    {
     "data": {
      "text/plain": [
       "MannwhitneyuResult(statistic=117.0, pvalue=0.05039604635391879)"
      ]
     },
     "execution_count": 104,
     "metadata": {},
     "output_type": "execute_result"
    }
   ],
   "source": [
    "scipy.stats.mannwhitneyu(arpdau_C.values, arpdau_D.values, use_continuity=True, alternative='greater')"
   ]
  },
  {
   "cell_type": "code",
   "execution_count": 105,
   "metadata": {},
   "outputs": [],
   "source": [
    "arppdau_C = purchases[(purchases['configTag'] == 'C')].groupby('eventDate')['revenue'].agg('sum') / purchases[(purchases['configTag'] == 'C') & (purchases['moneySpent'] > 0)].groupby('eventDate')['userID'].nunique()\n",
    "arppdau_D = purchases[purchases['configTag'] == 'D'].groupby('eventDate')['revenue'].agg('sum') / purchases[(purchases['configTag'] == 'D')  & (purchases['moneySpent'] > 0)].groupby('eventDate')['userID'].nunique()"
   ]
  },
  {
   "cell_type": "code",
   "execution_count": 109,
   "metadata": {},
   "outputs": [
    {
     "data": {
      "text/plain": [
       "[1.1439080087100988, 1.0710434937963826]"
      ]
     },
     "execution_count": 109,
     "metadata": {},
     "output_type": "execute_result"
    }
   ],
   "source": [
    "[arppdau_C.mean(), arppdau_D.mean()]"
   ]
  },
  {
   "cell_type": "code",
   "execution_count": 106,
   "metadata": {},
   "outputs": [
    {
     "data": {
      "image/png": "[encoded data removed]",
      "text/plain": [
       "<Figure size 1080x360 with 1 Axes>"
      ]
     },
     "metadata": {
      "needs_background": "light"
     },
     "output_type": "display_data"
    },
    {
     "name": "stdout",
     "output_type": "stream",
     "text": [
      "95% confidence interval for mean group C ARPPDAU:  [1.   1.37]\n",
      "95% confidence interval for mean group D ARPPDAU:  [0.93 1.29]\n"
     ]
    }
   ],
   "source": [
    "groupC_median_scores = list(map(np.mean, get_bootstrap_samples(arppdau_C.values, 10000)))\n",
    "groupD_median_scores = list(map(np.mean, get_bootstrap_samples(arppdau_D.values, 10000)))\n",
    "\n",
    "pylab.figure(figsize(15, 5))\n",
    "pylab.subplot(1,2,1)\n",
    "pylab.hist(groupC_median_scores, alpha = .5, color = 'b', label = 'Group C', bins = 100)\n",
    "pylab.legend()\n",
    "\n",
    "pylab.subplot(1,2,1)\n",
    "pylab.hist(groupD_median_scores, alpha = .5, color = 'r', label = 'Group D', bins = 100)\n",
    "pylab.legend()\n",
    "\n",
    "# pylab.subplot(1,2,1)\n",
    "# pylab.hist(groupC_median_scores, alpha = .5, color = 'g', label = 'Group C ARPU 1d', bins = 100)\n",
    "# pylab.legend()\n",
    "\n",
    "pylab.ylabel('Frequency') \n",
    "pylab.xlabel('ARPPDAU') \n",
    "pylab.show()\n",
    "\n",
    "print(\"95% confidence interval for mean group C ARPPDAU: \",  stat_intervals(groupC_median_scores, 0.05))\n",
    "print(\"95% confidence interval for mean group D ARPPDAU: \",  stat_intervals(groupD_median_scores, 0.05))"
   ]
  },
  {
   "cell_type": "code",
   "execution_count": 107,
   "metadata": {},
   "outputs": [
    {
     "data": {
      "text/plain": [
       "MannwhitneyuResult(statistic=105.0, pvalue=0.15253041101077652)"
      ]
     },
     "execution_count": 107,
     "metadata": {},
     "output_type": "execute_result"
    }
   ],
   "source": [
    "scipy.stats.mannwhitneyu(arppdau_C.values, arppdau_D.values, use_continuity=True, alternative='greater')"
   ]
  },
  {
   "cell_type": "code",
   "execution_count": 120,
   "metadata": {},
   "outputs": [],
   "source": [
    "ltv_C = purchases[purchases['configTag'] == 'C'].groupby('userID')['moneySpent'].agg('min').reset_index()\n",
    "ltv_D = purchases[purchases['configTag'] == 'D'].groupby('userID')['moneySpent'].agg('min').reset_index()"
   ]
  },
  {
   "cell_type": "code",
   "execution_count": 121,
   "metadata": {},
   "outputs": [
    {
     "data": {
      "image/png": "[encoded data removed]",
      "text/plain": [
       "<Figure size 1080x360 with 1 Axes>"
      ]
     },
     "metadata": {
      "needs_background": "light"
     },
     "output_type": "display_data"
    },
    {
     "name": "stdout",
     "output_type": "stream",
     "text": [
      "95% confidence interval for mean group C Money Spent:  [ 8.94 11.92]\n",
      "95% confidence interval for mean group D Money Spent:  [ 8.38 11.18]\n"
     ]
    }
   ],
   "source": [
    "groupC_median_scores = list(map(np.mean, get_bootstrap_samples(ltv_C['moneySpent'].values, 10000)))\n",
    "groupD_median_scores = list(map(np.mean, get_bootstrap_samples(ltv_D['moneySpent'].values, 10000)))\n",
    "\n",
    "pylab.figure(figsize(15, 5))\n",
    "pylab.subplot(1,2,1)\n",
    "pylab.hist(groupC_median_scores, alpha = .5, color = 'b', label = 'Group C', bins = 100)\n",
    "pylab.legend()\n",
    "\n",
    "pylab.subplot(1,2,1)\n",
    "pylab.hist(groupD_median_scores, alpha = .5, color = 'r', label = 'Group D', bins = 100)\n",
    "pylab.legend()\n",
    "\n",
    "# pylab.subplot(1,2,1)\n",
    "# pylab.hist(groupC_median_scores, alpha = .5, color = 'g', label = 'Group C ARPU 1d', bins = 100)\n",
    "# pylab.legend()\n",
    "\n",
    "pylab.ylabel('Frequency') \n",
    "pylab.xlabel('LTV') \n",
    "pylab.show()\n",
    "\n",
    "print(\"95% confidence interval for mean group C Money Spent: \",  stat_intervals(groupC_median_scores, 0.05))\n",
    "print(\"95% confidence interval for mean group D Money Spent: \",  stat_intervals(groupD_median_scores, 0.05))"
   ]
  },
  {
   "cell_type": "code",
   "execution_count": 122,
   "metadata": {},
   "outputs": [
    {
     "data": {
      "text/plain": [
       "MannwhitneyuResult(statistic=105641935.0, pvalue=0.44567384822365774)"
      ]
     },
     "execution_count": 122,
     "metadata": {},
     "output_type": "execute_result"
    }
   ],
   "source": [
    "scipy.stats.mannwhitneyu(ltv_C['moneySpent'].values, ltv_D['moneySpent'].values, use_continuity=True, alternative='greater')"
   ]
  },
  {
   "cell_type": "code",
   "execution_count": 124,
   "metadata": {},
   "outputs": [
    {
     "data": {
      "text/plain": [
       "[282, 297]"
      ]
     },
     "execution_count": 124,
     "metadata": {},
     "output_type": "execute_result"
    }
   ],
   "source": [
    "[ltv_C[ltv_C['moneySpent'] > 100]['userID'].nunique(), ltv_D[ltv_D['moneySpent'] > 100]['userID'].nunique()]"
   ]
  },
  {
   "cell_type": "code",
   "execution_count": 125,
   "metadata": {},
   "outputs": [
    {
     "data": {
      "text/plain": [
       "[1173, 1172]"
      ]
     },
     "execution_count": 125,
     "metadata": {},
     "output_type": "execute_result"
    }
   ],
   "source": [
    "[ltv_C[(ltv_C['moneySpent'] > 10) & (ltv_C['moneySpent'] <= 100)]['userID'].nunique(), ltv_D[(ltv_D['moneySpent'] > 10) & (ltv_D['moneySpent'] <= 100)]['userID'].nunique()]"
   ]
  },
  {
   "cell_type": "code",
   "execution_count": 126,
   "metadata": {},
   "outputs": [
    {
     "data": {
      "text/plain": [
       "[972, 1053]"
      ]
     },
     "execution_count": 126,
     "metadata": {},
     "output_type": "execute_result"
    }
   ],
   "source": [
    "[ltv_C[(ltv_C['moneySpent'] > 0) & (ltv_C['moneySpent'] <= 10)]['userID'].nunique(), ltv_D[(ltv_D['moneySpent'] > 0) & (ltv_D['moneySpent'] <= 10)]['userID'].nunique()]"
   ]
  },
  {
   "cell_type": "code",
   "execution_count": 127,
   "metadata": {},
   "outputs": [
    {
     "data": {
      "text/plain": [
       "[11822, 12297]"
      ]
     },
     "execution_count": 127,
     "metadata": {},
     "output_type": "execute_result"
    }
   ],
   "source": [
    "[ltv_C[ltv_C['moneySpent'] == 0]['userID'].nunique(), ltv_D[ltv_D['moneySpent'] == 0]['userID'].nunique()]"
   ]
  }
 ],
 "metadata": {
  "kernelspec": {
   "display_name": "Python 3",
   "language": "python",
   "name": "python3"
  },
  "language_info": {
   "codemirror_mode": {
    "name": "ipython",
    "version": 3
   },
   "file_extension": ".py",
   "mimetype": "text/x-python",
   "name": "python",
   "nbconvert_exporter": "python",
   "pygments_lexer": "ipython3",
   "version": "3.9.12"
  },
  "orig_nbformat": 4
 },
 "nbformat": 4,
 "nbformat_minor": 2
}
