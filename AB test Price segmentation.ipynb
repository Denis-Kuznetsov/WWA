{
 "cells": [
  {
   "cell_type": "code",
   "execution_count": 1,
   "metadata": {},
   "outputs": [],
   "source": [
    "import numpy as np\n",
    "import pandas as pd\n",
    "import matplotlib.pyplot as plt\n",
    "\n",
    "import scipy\n",
    "from statsmodels.stats.weightstats import *\n",
    "from statsmodels.stats.proportion import proportion_confint"
   ]
  },
  {
   "cell_type": "code",
   "execution_count": 2,
   "metadata": {},
   "outputs": [
    {
     "name": "stdout",
     "output_type": "stream",
     "text": [
      "%pylab is deprecated, use %matplotlib inline and import the required libraries.\n",
      "Populating the interactive namespace from numpy and matplotlib\n"
     ]
    }
   ],
   "source": [
    "%pylab inline"
   ]
  },
  {
   "cell_type": "code",
   "execution_count": 3,
   "metadata": {},
   "outputs": [
    {
     "data": {
      "text/html": [
       "<div>\n",
       "<style scoped>\n",
       "    .dataframe tbody tr th:only-of-type {\n",
       "        vertical-align: middle;\n",
       "    }\n",
       "\n",
       "    .dataframe tbody tr th {\n",
       "        vertical-align: top;\n",
       "    }\n",
       "\n",
       "    .dataframe thead th {\n",
       "        text-align: right;\n",
       "    }\n",
       "</style>\n",
       "<table border=\"1\" class=\"dataframe\">\n",
       "  <thead>\n",
       "    <tr style=\"text-align: right;\">\n",
       "      <th></th>\n",
       "      <th>installDate</th>\n",
       "      <th>userID</th>\n",
       "      <th>configTag</th>\n",
       "      <th>platform</th>\n",
       "      <th>userCountry</th>\n",
       "      <th>media_source</th>\n",
       "      <th>rev_1day</th>\n",
       "      <th>rev_7day</th>\n",
       "      <th>rev_total</th>\n",
       "    </tr>\n",
       "  </thead>\n",
       "  <tbody>\n",
       "    <tr>\n",
       "      <th>0</th>\n",
       "      <td>2023-04-03T00:43:31.908000</td>\n",
       "      <td>8ed7ed78-d1b8-11ed-9d30-666ab5f888d6</td>\n",
       "      <td>B</td>\n",
       "      <td>IOS</td>\n",
       "      <td>SA</td>\n",
       "      <td>restricted</td>\n",
       "      <td>0.0</td>\n",
       "      <td>0.0</td>\n",
       "      <td>0.0</td>\n",
       "    </tr>\n",
       "    <tr>\n",
       "      <th>1</th>\n",
       "      <td>2023-04-02T23:59:11.763000</td>\n",
       "      <td>5d461cd4-d1b2-11ed-9d30-666ab5f888d6</td>\n",
       "      <td>B</td>\n",
       "      <td>Android</td>\n",
       "      <td>DO</td>\n",
       "      <td>Organic</td>\n",
       "      <td>0.0</td>\n",
       "      <td>0.0</td>\n",
       "      <td>0.0</td>\n",
       "    </tr>\n",
       "    <tr>\n",
       "      <th>2</th>\n",
       "      <td>2023-03-30T03:17:58.597000</td>\n",
       "      <td>78919e66-cea9-11ed-9d5e-aafdf8ffc125</td>\n",
       "      <td>A</td>\n",
       "      <td>Android</td>\n",
       "      <td>YE</td>\n",
       "      <td>Adwords</td>\n",
       "      <td>0.0</td>\n",
       "      <td>0.0</td>\n",
       "      <td>0.0</td>\n",
       "    </tr>\n",
       "    <tr>\n",
       "      <th>3</th>\n",
       "      <td>2023-04-04T23:03:57.393000</td>\n",
       "      <td>fa94f19c-d33c-11ed-9d30-666ab5f888d6</td>\n",
       "      <td>B</td>\n",
       "      <td>Android</td>\n",
       "      <td>PT</td>\n",
       "      <td>Adwords</td>\n",
       "      <td>0.0</td>\n",
       "      <td>0.0</td>\n",
       "      <td>0.0</td>\n",
       "    </tr>\n",
       "    <tr>\n",
       "      <th>4</th>\n",
       "      <td>2023-03-30T10:52:37.080000</td>\n",
       "      <td>fbcfa331-cee8-11ed-9d30-666ab5f888d6</td>\n",
       "      <td>B</td>\n",
       "      <td>Android</td>\n",
       "      <td>JO</td>\n",
       "      <td>FB</td>\n",
       "      <td>0.0</td>\n",
       "      <td>0.0</td>\n",
       "      <td>0.0</td>\n",
       "    </tr>\n",
       "  </tbody>\n",
       "</table>\n",
       "</div>"
      ],
      "text/plain": [
       "                  installDate                                userID configTag  \\\n",
       "0  2023-04-03T00:43:31.908000  8ed7ed78-d1b8-11ed-9d30-666ab5f888d6         B   \n",
       "1  2023-04-02T23:59:11.763000  5d461cd4-d1b2-11ed-9d30-666ab5f888d6         B   \n",
       "2  2023-03-30T03:17:58.597000  78919e66-cea9-11ed-9d5e-aafdf8ffc125         A   \n",
       "3  2023-04-04T23:03:57.393000  fa94f19c-d33c-11ed-9d30-666ab5f888d6         B   \n",
       "4  2023-03-30T10:52:37.080000  fbcfa331-cee8-11ed-9d30-666ab5f888d6         B   \n",
       "\n",
       "  platform userCountry media_source  rev_1day  rev_7day  rev_total  \n",
       "0      IOS          SA   restricted       0.0       0.0        0.0  \n",
       "1  Android          DO      Organic       0.0       0.0        0.0  \n",
       "2  Android          YE      Adwords       0.0       0.0        0.0  \n",
       "3  Android          PT      Adwords       0.0       0.0        0.0  \n",
       "4  Android          JO           FB       0.0       0.0        0.0  "
      ]
     },
     "execution_count": 3,
     "metadata": {},
     "output_type": "execute_result"
    }
   ],
   "source": [
    "purchases = pd.read_csv(r'cohort.csv')\n",
    "purchases.head(5)"
   ]
  },
  {
   "cell_type": "code",
   "execution_count": 4,
   "metadata": {},
   "outputs": [
    {
     "name": "stdout",
     "output_type": "stream",
     "text": [
      "<class 'pandas.core.frame.DataFrame'>\n",
      "RangeIndex: 45078 entries, 0 to 45077\n",
      "Data columns (total 9 columns):\n",
      " #   Column        Non-Null Count  Dtype  \n",
      "---  ------        --------------  -----  \n",
      " 0   installDate   45078 non-null  object \n",
      " 1   userID        45078 non-null  object \n",
      " 2   configTag     45078 non-null  object \n",
      " 3   platform      45078 non-null  object \n",
      " 4   userCountry   42180 non-null  object \n",
      " 5   media_source  42211 non-null  object \n",
      " 6   rev_1day      45078 non-null  float64\n",
      " 7   rev_7day      45078 non-null  float64\n",
      " 8   rev_total     45078 non-null  float64\n",
      "dtypes: float64(3), object(6)\n",
      "memory usage: 3.1+ MB\n"
     ]
    }
   ],
   "source": [
    "purchases.info()"
   ]
  },
  {
   "cell_type": "code",
   "execution_count": 5,
   "metadata": {},
   "outputs": [
    {
     "data": {
      "text/plain": [
       "configTag\n",
       "A    21553\n",
       "B    21535\n",
       "C      640\n",
       "D      693\n",
       "E      657\n",
       "Name: userID, dtype: int64"
      ]
     },
     "execution_count": 5,
     "metadata": {},
     "output_type": "execute_result"
    }
   ],
   "source": [
    "purchases.groupby('configTag')['userID'].nunique()"
   ]
  },
  {
   "cell_type": "code",
   "execution_count": 6,
   "metadata": {},
   "outputs": [
    {
     "data": {
      "text/html": [
       "<div>\n",
       "<style scoped>\n",
       "    .dataframe tbody tr th:only-of-type {\n",
       "        vertical-align: middle;\n",
       "    }\n",
       "\n",
       "    .dataframe tbody tr th {\n",
       "        vertical-align: top;\n",
       "    }\n",
       "\n",
       "    .dataframe thead th {\n",
       "        text-align: right;\n",
       "    }\n",
       "</style>\n",
       "<table border=\"1\" class=\"dataframe\">\n",
       "  <thead>\n",
       "    <tr style=\"text-align: right;\">\n",
       "      <th></th>\n",
       "      <th>rev_1day</th>\n",
       "      <th>rev_7day</th>\n",
       "      <th>rev_total</th>\n",
       "    </tr>\n",
       "  </thead>\n",
       "  <tbody>\n",
       "    <tr>\n",
       "      <th>count</th>\n",
       "      <td>21553.000000</td>\n",
       "      <td>21553.000000</td>\n",
       "      <td>21553.000000</td>\n",
       "    </tr>\n",
       "    <tr>\n",
       "      <th>mean</th>\n",
       "      <td>0.105003</td>\n",
       "      <td>0.166658</td>\n",
       "      <td>0.166658</td>\n",
       "    </tr>\n",
       "    <tr>\n",
       "      <th>std</th>\n",
       "      <td>1.884059</td>\n",
       "      <td>3.826842</td>\n",
       "      <td>3.826842</td>\n",
       "    </tr>\n",
       "    <tr>\n",
       "      <th>min</th>\n",
       "      <td>0.000000</td>\n",
       "      <td>0.000000</td>\n",
       "      <td>0.000000</td>\n",
       "    </tr>\n",
       "    <tr>\n",
       "      <th>25%</th>\n",
       "      <td>0.000000</td>\n",
       "      <td>0.000000</td>\n",
       "      <td>0.000000</td>\n",
       "    </tr>\n",
       "    <tr>\n",
       "      <th>50%</th>\n",
       "      <td>0.000000</td>\n",
       "      <td>0.000000</td>\n",
       "      <td>0.000000</td>\n",
       "    </tr>\n",
       "    <tr>\n",
       "      <th>75%</th>\n",
       "      <td>0.000000</td>\n",
       "      <td>0.000000</td>\n",
       "      <td>0.000000</td>\n",
       "    </tr>\n",
       "    <tr>\n",
       "      <th>max</th>\n",
       "      <td>114.940000</td>\n",
       "      <td>421.510000</td>\n",
       "      <td>421.510000</td>\n",
       "    </tr>\n",
       "  </tbody>\n",
       "</table>\n",
       "</div>"
      ],
      "text/plain": [
       "           rev_1day      rev_7day     rev_total\n",
       "count  21553.000000  21553.000000  21553.000000\n",
       "mean       0.105003      0.166658      0.166658\n",
       "std        1.884059      3.826842      3.826842\n",
       "min        0.000000      0.000000      0.000000\n",
       "25%        0.000000      0.000000      0.000000\n",
       "50%        0.000000      0.000000      0.000000\n",
       "75%        0.000000      0.000000      0.000000\n",
       "max      114.940000    421.510000    421.510000"
      ]
     },
     "execution_count": 6,
     "metadata": {},
     "output_type": "execute_result"
    }
   ],
   "source": [
    "purchases[purchases['configTag'] == 'A'].describe()"
   ]
  },
  {
   "cell_type": "code",
   "execution_count": 7,
   "metadata": {},
   "outputs": [
    {
     "data": {
      "text/html": [
       "<div>\n",
       "<style scoped>\n",
       "    .dataframe tbody tr th:only-of-type {\n",
       "        vertical-align: middle;\n",
       "    }\n",
       "\n",
       "    .dataframe tbody tr th {\n",
       "        vertical-align: top;\n",
       "    }\n",
       "\n",
       "    .dataframe thead th {\n",
       "        text-align: right;\n",
       "    }\n",
       "</style>\n",
       "<table border=\"1\" class=\"dataframe\">\n",
       "  <thead>\n",
       "    <tr style=\"text-align: right;\">\n",
       "      <th></th>\n",
       "      <th>rev_1day</th>\n",
       "      <th>rev_7day</th>\n",
       "      <th>rev_total</th>\n",
       "    </tr>\n",
       "  </thead>\n",
       "  <tbody>\n",
       "    <tr>\n",
       "      <th>count</th>\n",
       "      <td>21535.000000</td>\n",
       "      <td>21535.000000</td>\n",
       "      <td>21535.000000</td>\n",
       "    </tr>\n",
       "    <tr>\n",
       "      <th>mean</th>\n",
       "      <td>0.095630</td>\n",
       "      <td>0.160740</td>\n",
       "      <td>0.160762</td>\n",
       "    </tr>\n",
       "    <tr>\n",
       "      <th>std</th>\n",
       "      <td>1.899309</td>\n",
       "      <td>2.922836</td>\n",
       "      <td>2.922837</td>\n",
       "    </tr>\n",
       "    <tr>\n",
       "      <th>min</th>\n",
       "      <td>0.000000</td>\n",
       "      <td>0.000000</td>\n",
       "      <td>0.000000</td>\n",
       "    </tr>\n",
       "    <tr>\n",
       "      <th>25%</th>\n",
       "      <td>0.000000</td>\n",
       "      <td>0.000000</td>\n",
       "      <td>0.000000</td>\n",
       "    </tr>\n",
       "    <tr>\n",
       "      <th>50%</th>\n",
       "      <td>0.000000</td>\n",
       "      <td>0.000000</td>\n",
       "      <td>0.000000</td>\n",
       "    </tr>\n",
       "    <tr>\n",
       "      <th>75%</th>\n",
       "      <td>0.000000</td>\n",
       "      <td>0.000000</td>\n",
       "      <td>0.000000</td>\n",
       "    </tr>\n",
       "    <tr>\n",
       "      <th>max</th>\n",
       "      <td>126.890000</td>\n",
       "      <td>168.760000</td>\n",
       "      <td>168.760000</td>\n",
       "    </tr>\n",
       "  </tbody>\n",
       "</table>\n",
       "</div>"
      ],
      "text/plain": [
       "           rev_1day      rev_7day     rev_total\n",
       "count  21535.000000  21535.000000  21535.000000\n",
       "mean       0.095630      0.160740      0.160762\n",
       "std        1.899309      2.922836      2.922837\n",
       "min        0.000000      0.000000      0.000000\n",
       "25%        0.000000      0.000000      0.000000\n",
       "50%        0.000000      0.000000      0.000000\n",
       "75%        0.000000      0.000000      0.000000\n",
       "max      126.890000    168.760000    168.760000"
      ]
     },
     "execution_count": 7,
     "metadata": {},
     "output_type": "execute_result"
    }
   ],
   "source": [
    "purchases[purchases['configTag'] == 'B'].describe()"
   ]
  },
  {
   "cell_type": "code",
   "execution_count": 8,
   "metadata": {},
   "outputs": [],
   "source": [
    "def stat_intervals(stat, alpha):\n",
    "    boundaries = np.percentile(stat, [100 * alpha / 2., 100 * (1 - alpha / 2.)])\n",
    "    return boundaries.round(decimals=2)"
   ]
  },
  {
   "cell_type": "code",
   "execution_count": 9,
   "metadata": {},
   "outputs": [],
   "source": [
    "def get_bootstrap_samples(data, n_samples):\n",
    "    indices = np.random.randint(0, len(data), (n_samples, len(data)))\n",
    "    samples = data[indices]\n",
    "    return samples"
   ]
  },
  {
   "cell_type": "code",
   "execution_count": 19,
   "metadata": {},
   "outputs": [
    {
     "data": {
      "image/png": "[encoded data removed]",
      "text/plain": [
       "<Figure size 1080x360 with 1 Axes>"
      ]
     },
     "metadata": {
      "needs_background": "light"
     },
     "output_type": "display_data"
    },
    {
     "name": "stdout",
     "output_type": "stream",
     "text": [
      "95% confidence interval for mean group A: [0.08 0.13]\n",
      "95% confidence interval for mean group B: [0.07 0.12]\n"
     ]
    }
   ],
   "source": [
    "groupA_median_scores = list(map(np.mean, get_bootstrap_samples(purchases[purchases['configTag'] == 'A']['rev_1day'].values, 10000)))\n",
    "groupB_median_scores = list(map(np.mean, get_bootstrap_samples(purchases[purchases['configTag'] == 'B']['rev_1day'].values, 10000)))\n",
    "\n",
    "pylab.figure(figsize(15, 5))\n",
    "pylab.subplot(1,2,1)\n",
    "pylab.hist(groupA_median_scores, alpha = .5, color = 'b', label = 'Group A', bins = 100)\n",
    "pylab.legend()\n",
    "\n",
    "pylab.subplot(1,2,1)\n",
    "pylab.hist(groupB_median_scores, alpha = .5, color = 'r', label = 'Group B', bins = 100)\n",
    "pylab.legend()\n",
    "\n",
    "# pylab.subplot(1,2,1)\n",
    "# pylab.hist(groupC_median_scores, alpha = .5, color = 'g', label = 'Group C ARPU 1d', bins = 100)\n",
    "# pylab.legend()\n",
    "\n",
    "pylab.ylabel('Frequency') \n",
    "pylab.xlabel('ARPU 1d') \n",
    "pylab.show()\n",
    "\n",
    "print(\"95% confidence interval for mean group A:\",  stat_intervals(groupA_median_scores, 0.05))\n",
    "print(\"95% confidence interval for mean group B:\",  stat_intervals(groupB_median_scores, 0.05))"
   ]
  },
  {
   "cell_type": "code",
   "execution_count": 18,
   "metadata": {},
   "outputs": [
    {
     "data": {
      "text/plain": [
       "MannwhitneyuResult(statistic=232306878.0, pvalue=0.15013608089978636)"
      ]
     },
     "execution_count": 18,
     "metadata": {},
     "output_type": "execute_result"
    }
   ],
   "source": [
    "scipy.stats.mannwhitneyu(purchases[purchases['configTag'] == 'A']['rev_1day'].values, purchases[purchases['configTag'] == 'B']['rev_1day'].values, use_continuity=True, alternative='greater')"
   ]
  },
  {
   "cell_type": "code",
   "execution_count": 20,
   "metadata": {},
   "outputs": [
    {
     "data": {
      "image/png": "[encoded data removed]",
      "text/plain": [
       "<Figure size 1080x360 with 1 Axes>"
      ]
     },
     "metadata": {
      "needs_background": "light"
     },
     "output_type": "display_data"
    },
    {
     "name": "stdout",
     "output_type": "stream",
     "text": [
      "95% confidence interval for mean group A: [0.12 0.22]\n",
      "95% confidence interval for mean group B: [0.12 0.2 ]\n"
     ]
    }
   ],
   "source": [
    "groupA_median_scores = list(map(np.mean, get_bootstrap_samples(purchases[purchases['configTag'] == 'A']['rev_7day'].values, 10000)))\n",
    "groupB_median_scores = list(map(np.mean, get_bootstrap_samples(purchases[purchases['configTag'] == 'B']['rev_7day'].values, 10000)))\n",
    "\n",
    "pylab.figure(figsize(15, 5))\n",
    "pylab.subplot(1,2,1)\n",
    "pylab.hist(groupA_median_scores, alpha = .5, color = 'b', label = 'Group A', bins = 100)\n",
    "pylab.legend()\n",
    "\n",
    "pylab.subplot(1,2,1)\n",
    "pylab.hist(groupB_median_scores, alpha = .5, color = 'r', label = 'Group B', bins = 100)\n",
    "pylab.legend()\n",
    "\n",
    "# pylab.subplot(1,2,1)\n",
    "# pylab.hist(groupC_median_scores, alpha = .5, color = 'g', label = 'Group C ARPU 1d', bins = 100)\n",
    "# pylab.legend()\n",
    "\n",
    "pylab.ylabel('Frequency') \n",
    "pylab.xlabel('ARPU 7d') \n",
    "pylab.show()\n",
    "\n",
    "print(\"95% confidence interval for mean group A:\",  stat_intervals(groupA_median_scores, 0.05))\n",
    "print(\"95% confidence interval for mean group B:\",  stat_intervals(groupB_median_scores, 0.05))"
   ]
  },
  {
   "cell_type": "code",
   "execution_count": 21,
   "metadata": {},
   "outputs": [
    {
     "data": {
      "text/plain": [
       "MannwhitneyuResult(statistic=232251552.0, pvalue=0.2438007439001349)"
      ]
     },
     "execution_count": 21,
     "metadata": {},
     "output_type": "execute_result"
    }
   ],
   "source": [
    "scipy.stats.mannwhitneyu(purchases[purchases['configTag'] == 'A']['rev_7day'].values, purchases[purchases['configTag'] == 'B']['rev_7day'].values, use_continuity=True, alternative='greater')"
   ]
  },
  {
   "cell_type": "code",
   "execution_count": 30,
   "metadata": {},
   "outputs": [
    {
     "data": {
      "image/png": "[encoded data removed]",
      "text/plain": [
       "<Figure size 1080x360 with 1 Axes>"
      ]
     },
     "metadata": {
      "needs_background": "light"
     },
     "output_type": "display_data"
    },
    {
     "name": "stdout",
     "output_type": "stream",
     "text": [
      "95% confidence interval for mean group A: [0.12 0.23]\n",
      "95% confidence interval for mean group B: [0.12 0.2 ]\n"
     ]
    }
   ],
   "source": [
    "groupA_median_scores = list(map(np.mean, get_bootstrap_samples(purchases[purchases['configTag'] == 'A']['rev_total'].values, 10000)))\n",
    "groupB_median_scores = list(map(np.mean, get_bootstrap_samples(purchases[purchases['configTag'] == 'B']['rev_total'].values, 10000)))\n",
    "\n",
    "pylab.figure(figsize(15, 5))\n",
    "pylab.subplot(1,2,1)\n",
    "pylab.hist(groupA_median_scores, alpha = .5, color = 'b', label = 'Group A', bins = 100)\n",
    "pylab.legend()\n",
    "\n",
    "pylab.subplot(1,2,1)\n",
    "pylab.hist(groupB_median_scores, alpha = .5, color = 'r', label = 'Group B', bins = 100)\n",
    "pylab.legend()\n",
    "\n",
    "# pylab.subplot(1,2,1)\n",
    "# pylab.hist(groupC_median_scores, alpha = .5, color = 'g', label = 'Group C ARPU 1d', bins = 100)\n",
    "# pylab.legend()\n",
    "\n",
    "pylab.ylabel('Frequency') \n",
    "pylab.xlabel('ARPU total') \n",
    "pylab.show()\n",
    "\n",
    "print(\"95% confidence interval for mean group A:\",  stat_intervals(groupA_median_scores, 0.05))\n",
    "print(\"95% confidence interval for mean group B:\",  stat_intervals(groupB_median_scores, 0.05))"
   ]
  },
  {
   "cell_type": "code",
   "execution_count": 31,
   "metadata": {},
   "outputs": [
    {
     "data": {
      "text/plain": [
       "MannwhitneyuResult(statistic=232240882.0, pvalue=0.2570888437390145)"
      ]
     },
     "execution_count": 31,
     "metadata": {},
     "output_type": "execute_result"
    }
   ],
   "source": [
    "scipy.stats.mannwhitneyu(purchases[purchases['configTag'] == 'A']['rev_total'].values, purchases[purchases['configTag'] == 'B']['rev_total'].values, use_continuity=True, alternative='greater')"
   ]
  },
  {
   "cell_type": "code",
   "execution_count": 45,
   "metadata": {},
   "outputs": [
    {
     "data": {
      "image/png": "[encoded data removed]",
      "text/plain": [
       "<Figure size 1080x360 with 1 Axes>"
      ]
     },
     "metadata": {
      "needs_background": "light"
     },
     "output_type": "display_data"
    },
    {
     "name": "stdout",
     "output_type": "stream",
     "text": [
      "95% confidence interval for mean group A: [ 9.03 15.87]\n",
      "95% confidence interval for mean group B: [ 9.72 14.85]\n"
     ]
    }
   ],
   "source": [
    "groupA_median_scores = list(map(np.mean, get_bootstrap_samples(purchases[(purchases['configTag'] == 'A') & (purchases['rev_7day'] > 0)]['rev_7day'].values, 10000)))\n",
    "groupB_median_scores = list(map(np.mean, get_bootstrap_samples(purchases[(purchases['configTag'] == 'B') & (purchases['rev_7day'] > 0)]['rev_7day'].values, 10000)))\n",
    "\n",
    "pylab.figure(figsize(15, 5))\n",
    "pylab.subplot(1,2,1)\n",
    "pylab.hist(groupA_median_scores, alpha = .5, color = 'b', label = 'Group A', bins = 100)\n",
    "pylab.legend()\n",
    "\n",
    "pylab.subplot(1,2,1)\n",
    "pylab.hist(groupB_median_scores, alpha = .5, color = 'r', label = 'Group B', bins = 100)\n",
    "pylab.legend()\n",
    "\n",
    "# pylab.subplot(1,2,1)\n",
    "# pylab.hist(groupC_median_scores, alpha = .5, color = 'g', label = 'Group C ARPU 1d', bins = 100)\n",
    "# pylab.legend()\n",
    "\n",
    "pylab.ylabel('Frequency') \n",
    "pylab.xlabel('ARPPU 7d') \n",
    "pylab.show()\n",
    "\n",
    "print(\"95% confidence interval for mean group A:\",  stat_intervals(groupA_median_scores, 0.05))\n",
    "print(\"95% confidence interval for mean group B:\",  stat_intervals(groupB_median_scores, 0.05))"
   ]
  },
  {
   "cell_type": "code",
   "execution_count": 46,
   "metadata": {},
   "outputs": [
    {
     "data": {
      "text/plain": [
       "MannwhitneyuResult(statistic=41875.0, pvalue=0.664899620358735)"
      ]
     },
     "execution_count": 46,
     "metadata": {},
     "output_type": "execute_result"
    }
   ],
   "source": [
    "scipy.stats.mannwhitneyu(purchases[(purchases['configTag'] == 'A') & (purchases['rev_7day'] > 0)]['rev_7day'].values, purchases[(purchases['configTag'] == 'B') & (purchases['rev_7day'] > 0)]['rev_7day'].values, use_continuity=True, alternative='greater')"
   ]
  },
  {
   "cell_type": "code",
   "execution_count": 25,
   "metadata": {},
   "outputs": [
    {
     "data": {
      "text/plain": [
       "userCountry\n",
       "BR     570\n",
       "DE     617\n",
       "PH     651\n",
       "IQ     737\n",
       "TH     901\n",
       "ID     923\n",
       "UA     930\n",
       "IN     997\n",
       "US    1012\n",
       "RU    1913\n",
       "Name: userID, dtype: int64"
      ]
     },
     "execution_count": 25,
     "metadata": {},
     "output_type": "execute_result"
    }
   ],
   "source": [
    "countries_A = purchases[purchases['configTag'] == 'A'].groupby('userCountry')['userID'].nunique().sort_values()\n",
    "countries_A.tail(10)"
   ]
  },
  {
   "cell_type": "code",
   "execution_count": 26,
   "metadata": {},
   "outputs": [
    {
     "data": {
      "text/plain": [
       "userCountry\n",
       "BR     612\n",
       "DE     615\n",
       "PH     651\n",
       "IQ     759\n",
       "TH     896\n",
       "UA     920\n",
       "ID     937\n",
       "IN     971\n",
       "US    1022\n",
       "RU    1939\n",
       "Name: userID, dtype: int64"
      ]
     },
     "execution_count": 26,
     "metadata": {},
     "output_type": "execute_result"
    }
   ],
   "source": [
    "countries_B = purchases[purchases['configTag'] == 'B'].groupby('userCountry')['userID'].nunique().sort_values()\n",
    "countries_B.tail(10)"
   ]
  },
  {
   "cell_type": "code",
   "execution_count": 28,
   "metadata": {},
   "outputs": [
    {
     "data": {
      "text/plain": [
       "media_source\n",
       "Influencers        4\n",
       "TikTok            87\n",
       "UnityAds         152\n",
       "restricted       579\n",
       "Adwords         2861\n",
       "FB              3024\n",
       "Organic        13498\n",
       "Name: userID, dtype: int64"
      ]
     },
     "execution_count": 28,
     "metadata": {},
     "output_type": "execute_result"
    }
   ],
   "source": [
    "media_source_A = purchases[purchases['configTag'] == 'A'].groupby('media_source')['userID'].nunique().sort_values()\n",
    "media_source_A.tail(10)"
   ]
  },
  {
   "cell_type": "code",
   "execution_count": 29,
   "metadata": {},
   "outputs": [
    {
     "data": {
      "text/plain": [
       "media_source\n",
       "Influencers        2\n",
       "TikTok            86\n",
       "UnityAds         117\n",
       "restricted       525\n",
       "Adwords         2930\n",
       "FB              2966\n",
       "Organic        13602\n",
       "Name: userID, dtype: int64"
      ]
     },
     "execution_count": 29,
     "metadata": {},
     "output_type": "execute_result"
    }
   ],
   "source": [
    "media_source_B = purchases[purchases['configTag'] == 'B'].groupby('media_source')['userID'].nunique().sort_values()\n",
    "media_source_B.tail(10)"
   ]
  },
  {
   "cell_type": "code",
   "execution_count": 36,
   "metadata": {},
   "outputs": [
    {
     "data": {
      "text/plain": [
       "0          21252\n",
       "<10$         225\n",
       "10-50$        66\n",
       ">=100$         5\n",
       "50-100$        5\n",
       "Name: rev_7day, dtype: int64"
      ]
     },
     "execution_count": 36,
     "metadata": {},
     "output_type": "execute_result"
    }
   ],
   "source": [
    "money_spent_A = purchases[purchases['configTag'] == 'A']['rev_7day'].apply(lambda x: 0 if x == 0 else '<10$' if x < 10 else '10-50$' if x >= 10 and x < 50 else '50-100$' if x >= 50 and x < 100 else '>=100$' if x >= 100 else 'Other')\n",
    "money_spent_A.value_counts()"
   ]
  },
  {
   "cell_type": "code",
   "execution_count": 37,
   "metadata": {},
   "outputs": [
    {
     "data": {
      "text/plain": [
       "0          21251\n",
       "<10$         210\n",
       "10-50$        58\n",
       "50-100$       12\n",
       ">=100$         4\n",
       "Name: rev_7day, dtype: int64"
      ]
     },
     "execution_count": 37,
     "metadata": {},
     "output_type": "execute_result"
    }
   ],
   "source": [
    "money_spent_B = purchases[purchases['configTag'] == 'B']['rev_7day'].apply(lambda x: 0 if x == 0 else '<10$' if x < 10 else '10-50$' if x >= 10 and x < 50 else '50-100$' if x >= 50 and x < 100 else '>=100$' if x >= 100 else 'Other')\n",
    "money_spent_B.value_counts()"
   ]
  },
  {
   "cell_type": "code",
   "execution_count": 42,
   "metadata": {},
   "outputs": [
    {
     "data": {
      "text/plain": [
       "2561      56.18\n",
       "37998     61.92\n",
       "38497     68.97\n",
       "24767     72.95\n",
       "42169     94.97\n",
       "24375    101.93\n",
       "38508    120.92\n",
       "24463    135.82\n",
       "35950    147.85\n",
       "1483     421.51\n",
       "Name: rev_7day, dtype: float64"
      ]
     },
     "execution_count": 42,
     "metadata": {},
     "output_type": "execute_result"
    }
   ],
   "source": [
    "revenues_A = purchases[purchases['configTag'] == 'A']['rev_7day'].sort_values()\n",
    "revenues_A.tail(10)"
   ]
  },
  {
   "cell_type": "code",
   "execution_count": 43,
   "metadata": {},
   "outputs": [
    {
     "data": {
      "text/plain": [
       "4340      74.93\n",
       "27349     85.94\n",
       "42524     86.35\n",
       "43510     87.92\n",
       "42522     92.91\n",
       "41484     99.90\n",
       "42229    114.89\n",
       "41815    126.89\n",
       "41987    141.25\n",
       "43089    168.76\n",
       "Name: rev_7day, dtype: float64"
      ]
     },
     "execution_count": 43,
     "metadata": {},
     "output_type": "execute_result"
    }
   ],
   "source": [
    "revenues_B = purchases[purchases['configTag'] == 'B']['rev_7day'].sort_values()\n",
    "revenues_B.tail(10)"
   ]
  }
 ],
 "metadata": {
  "kernelspec": {
   "display_name": "Python 3",
   "language": "python",
   "name": "python3"
  },
  "language_info": {
   "codemirror_mode": {
    "name": "ipython",
    "version": 3
   },
   "file_extension": ".py",
   "mimetype": "text/x-python",
   "name": "python",
   "nbconvert_exporter": "python",
   "pygments_lexer": "ipython3",
   "version": "3.9.12"
  },
  "orig_nbformat": 4,
  "vscode": {
   "interpreter": {
    "hash": "7b34b089ce0dfc9935940e0a22050b2949fa617f7a2b73925623c261bed16aeb"
   }
  }
 },
 "nbformat": 4,
 "nbformat_minor": 2
}
