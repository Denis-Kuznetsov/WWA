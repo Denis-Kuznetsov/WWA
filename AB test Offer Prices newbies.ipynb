{
 "cells": [
  {
   "cell_type": "code",
   "execution_count": 1,
   "metadata": {},
   "outputs": [],
   "source": [
    "import numpy as np\n",
    "import pandas as pd\n",
    "import matplotlib.pyplot as plt\n",
    "\n",
    "import scipy\n",
    "from statsmodels.stats.weightstats import *\n",
    "from statsmodels.stats.proportion import proportion_confint"
   ]
  },
  {
   "cell_type": "code",
   "execution_count": 2,
   "metadata": {},
   "outputs": [
    {
     "name": "stdout",
     "output_type": "stream",
     "text": [
      "%pylab is deprecated, use %matplotlib inline and import the required libraries.\n",
      "Populating the interactive namespace from numpy and matplotlib\n"
     ]
    }
   ],
   "source": [
    "%pylab inline"
   ]
  },
  {
   "cell_type": "code",
   "execution_count": 3,
   "metadata": {},
   "outputs": [
    {
     "data": {
      "text/html": [
       "<div>\n",
       "<style scoped>\n",
       "    .dataframe tbody tr th:only-of-type {\n",
       "        vertical-align: middle;\n",
       "    }\n",
       "\n",
       "    .dataframe tbody tr th {\n",
       "        vertical-align: top;\n",
       "    }\n",
       "\n",
       "    .dataframe thead th {\n",
       "        text-align: right;\n",
       "    }\n",
       "</style>\n",
       "<table border=\"1\" class=\"dataframe\">\n",
       "  <thead>\n",
       "    <tr style=\"text-align: right;\">\n",
       "      <th></th>\n",
       "      <th>eventTimeStamp</th>\n",
       "      <th>accountCreated</th>\n",
       "      <th>accountDays</th>\n",
       "      <th>configTag</th>\n",
       "      <th>userID</th>\n",
       "      <th>productName</th>\n",
       "      <th>configPrice</th>\n",
       "      <th>usdPrice</th>\n",
       "      <th>moneySpent</th>\n",
       "      <th>league</th>\n",
       "      <th>platform</th>\n",
       "      <th>mediaSource</th>\n",
       "      <th>userCountry</th>\n",
       "    </tr>\n",
       "  </thead>\n",
       "  <tbody>\n",
       "    <tr>\n",
       "      <th>0</th>\n",
       "      <td>2022-12-25 02:35:13.480000 UTC</td>\n",
       "      <td>2022-12-24T17:41:16.914000</td>\n",
       "      <td>1</td>\n",
       "      <td>A</td>\n",
       "      <td>2b1d91d4-83b2-11ed-93d0-068c5498f95d</td>\n",
       "      <td>so_b_new_usa_l1</td>\n",
       "      <td>2.99</td>\n",
       "      <td>3.829725</td>\n",
       "      <td>17.97</td>\n",
       "      <td>1</td>\n",
       "      <td>Android</td>\n",
       "      <td>restricted</td>\n",
       "      <td>AT</td>\n",
       "    </tr>\n",
       "    <tr>\n",
       "      <th>1</th>\n",
       "      <td>2022-12-23 00:06:13.410000 UTC</td>\n",
       "      <td>2022-12-22T23:40:49.888000</td>\n",
       "      <td>1</td>\n",
       "      <td>A</td>\n",
       "      <td>10c8a89b-8252-11ed-b602-f686f0f58020</td>\n",
       "      <td>so_usa_starter_1</td>\n",
       "      <td>1.99</td>\n",
       "      <td>1.933385</td>\n",
       "      <td>1.99</td>\n",
       "      <td>0</td>\n",
       "      <td>Android</td>\n",
       "      <td>restricted</td>\n",
       "      <td>BR</td>\n",
       "    </tr>\n",
       "    <tr>\n",
       "      <th>2</th>\n",
       "      <td>2022-12-29 18:34:19.580000 UTC</td>\n",
       "      <td>2022-12-29T16:01:57.377000</td>\n",
       "      <td>0</td>\n",
       "      <td>A</td>\n",
       "      <td>1f0508d4-8792-11ed-b602-f686f0f58020</td>\n",
       "      <td>so_ger_starter_1</td>\n",
       "      <td>1.99</td>\n",
       "      <td>2.068978</td>\n",
       "      <td>1.99</td>\n",
       "      <td>1</td>\n",
       "      <td>IPhonePlayer</td>\n",
       "      <td>restricted</td>\n",
       "      <td>BR</td>\n",
       "    </tr>\n",
       "    <tr>\n",
       "      <th>3</th>\n",
       "      <td>2022-12-29 18:36:48.360000 UTC</td>\n",
       "      <td>2022-12-29T16:01:57.377000</td>\n",
       "      <td>0</td>\n",
       "      <td>A</td>\n",
       "      <td>1f0508d4-8792-11ed-b602-f686f0f58020</td>\n",
       "      <td>so_usa_starter_1</td>\n",
       "      <td>1.99</td>\n",
       "      <td>2.068978</td>\n",
       "      <td>3.98</td>\n",
       "      <td>1</td>\n",
       "      <td>IPhonePlayer</td>\n",
       "      <td>restricted</td>\n",
       "      <td>BR</td>\n",
       "    </tr>\n",
       "    <tr>\n",
       "      <th>4</th>\n",
       "      <td>2022-12-29 18:58:31.100000 UTC</td>\n",
       "      <td>2022-12-29T16:01:57.377000</td>\n",
       "      <td>0</td>\n",
       "      <td>A</td>\n",
       "      <td>1f0508d4-8792-11ed-b602-f686f0f58020</td>\n",
       "      <td>so_usa_willys_1_2</td>\n",
       "      <td>2.99</td>\n",
       "      <td>3.207865</td>\n",
       "      <td>6.97</td>\n",
       "      <td>1</td>\n",
       "      <td>IPhonePlayer</td>\n",
       "      <td>restricted</td>\n",
       "      <td>BR</td>\n",
       "    </tr>\n",
       "  </tbody>\n",
       "</table>\n",
       "</div>"
      ],
      "text/plain": [
       "                   eventTimeStamp              accountCreated  accountDays  \\\n",
       "0  2022-12-25 02:35:13.480000 UTC  2022-12-24T17:41:16.914000            1   \n",
       "1  2022-12-23 00:06:13.410000 UTC  2022-12-22T23:40:49.888000            1   \n",
       "2  2022-12-29 18:34:19.580000 UTC  2022-12-29T16:01:57.377000            0   \n",
       "3  2022-12-29 18:36:48.360000 UTC  2022-12-29T16:01:57.377000            0   \n",
       "4  2022-12-29 18:58:31.100000 UTC  2022-12-29T16:01:57.377000            0   \n",
       "\n",
       "  configTag                                userID        productName  \\\n",
       "0         A  2b1d91d4-83b2-11ed-93d0-068c5498f95d    so_b_new_usa_l1   \n",
       "1         A  10c8a89b-8252-11ed-b602-f686f0f58020   so_usa_starter_1   \n",
       "2         A  1f0508d4-8792-11ed-b602-f686f0f58020   so_ger_starter_1   \n",
       "3         A  1f0508d4-8792-11ed-b602-f686f0f58020   so_usa_starter_1   \n",
       "4         A  1f0508d4-8792-11ed-b602-f686f0f58020  so_usa_willys_1_2   \n",
       "\n",
       "   configPrice  usdPrice  moneySpent  league      platform mediaSource  \\\n",
       "0         2.99  3.829725       17.97       1       Android  restricted   \n",
       "1         1.99  1.933385        1.99       0       Android  restricted   \n",
       "2         1.99  2.068978        1.99       1  IPhonePlayer  restricted   \n",
       "3         1.99  2.068978        3.98       1  IPhonePlayer  restricted   \n",
       "4         2.99  3.207865        6.97       1  IPhonePlayer  restricted   \n",
       "\n",
       "  userCountry  \n",
       "0          AT  \n",
       "1          BR  \n",
       "2          BR  \n",
       "3          BR  \n",
       "4          BR  "
      ]
     },
     "execution_count": 3,
     "metadata": {},
     "output_type": "execute_result"
    }
   ],
   "source": [
    "purchases = pd.read_csv(r'purchases.csv')\n",
    "purchases.head(5)"
   ]
  },
  {
   "cell_type": "code",
   "execution_count": 4,
   "metadata": {},
   "outputs": [
    {
     "name": "stdout",
     "output_type": "stream",
     "text": [
      "<class 'pandas.core.frame.DataFrame'>\n",
      "RangeIndex: 3826 entries, 0 to 3825\n",
      "Data columns (total 13 columns):\n",
      " #   Column          Non-Null Count  Dtype  \n",
      "---  ------          --------------  -----  \n",
      " 0   eventTimeStamp  3826 non-null   object \n",
      " 1   accountCreated  3826 non-null   object \n",
      " 2   accountDays     3826 non-null   int64  \n",
      " 3   configTag       3822 non-null   object \n",
      " 4   userID          3826 non-null   object \n",
      " 5   productName     3826 non-null   object \n",
      " 6   configPrice     3826 non-null   float64\n",
      " 7   usdPrice        3826 non-null   float64\n",
      " 8   moneySpent      3826 non-null   float64\n",
      " 9   league          3826 non-null   int64  \n",
      " 10  platform        3826 non-null   object \n",
      " 11  mediaSource     3826 non-null   object \n",
      " 12  userCountry     3826 non-null   object \n",
      "dtypes: float64(3), int64(2), object(8)\n",
      "memory usage: 388.7+ KB\n"
     ]
    }
   ],
   "source": [
    "purchases.info()"
   ]
  },
  {
   "cell_type": "code",
   "execution_count": 5,
   "metadata": {},
   "outputs": [
    {
     "data": {
      "text/html": [
       "<div>\n",
       "<style scoped>\n",
       "    .dataframe tbody tr th:only-of-type {\n",
       "        vertical-align: middle;\n",
       "    }\n",
       "\n",
       "    .dataframe tbody tr th {\n",
       "        vertical-align: top;\n",
       "    }\n",
       "\n",
       "    .dataframe thead th {\n",
       "        text-align: right;\n",
       "    }\n",
       "</style>\n",
       "<table border=\"1\" class=\"dataframe\">\n",
       "  <thead>\n",
       "    <tr style=\"text-align: right;\">\n",
       "      <th></th>\n",
       "      <th>eventTimeStamp</th>\n",
       "      <th>accountCreated</th>\n",
       "      <th>accountDays</th>\n",
       "      <th>configTag</th>\n",
       "      <th>userID</th>\n",
       "      <th>moneySpent</th>\n",
       "      <th>platform</th>\n",
       "      <th>mediaSource</th>\n",
       "      <th>userCountry</th>\n",
       "    </tr>\n",
       "  </thead>\n",
       "  <tbody>\n",
       "    <tr>\n",
       "      <th>0</th>\n",
       "      <td>2023-02-03 15:39:51.32 UTC</td>\n",
       "      <td>2023-01-01 13:33:12.554</td>\n",
       "      <td>33</td>\n",
       "      <td>B</td>\n",
       "      <td>d6a64f2f-89d8-11ed-93d0-068c5498f95d</td>\n",
       "      <td>0.0</td>\n",
       "      <td>Android</td>\n",
       "      <td>Organic</td>\n",
       "      <td>ZA</td>\n",
       "    </tr>\n",
       "    <tr>\n",
       "      <th>1</th>\n",
       "      <td>2023-01-06 01:47:18.39 UTC</td>\n",
       "      <td>2023-01-03 14:05:41.647</td>\n",
       "      <td>3</td>\n",
       "      <td>B</td>\n",
       "      <td>b53a08cb-8b6f-11ed-b602-f686f0f58020</td>\n",
       "      <td>0.0</td>\n",
       "      <td>IOS</td>\n",
       "      <td>restricted</td>\n",
       "      <td>JO</td>\n",
       "    </tr>\n",
       "    <tr>\n",
       "      <th>2</th>\n",
       "      <td>2023-01-04 19:35:35.36 UTC</td>\n",
       "      <td>2022-12-27 19:39:18.877</td>\n",
       "      <td>8</td>\n",
       "      <td>A</td>\n",
       "      <td>2788992c-861e-11ed-b602-f686f0f58020</td>\n",
       "      <td>0.0</td>\n",
       "      <td>IOS</td>\n",
       "      <td>Organic</td>\n",
       "      <td>BR</td>\n",
       "    </tr>\n",
       "    <tr>\n",
       "      <th>3</th>\n",
       "      <td>2023-01-01 19:32:48.95 UTC</td>\n",
       "      <td>2023-01-03 23:11:06.649</td>\n",
       "      <td>-2</td>\n",
       "      <td>A</td>\n",
       "      <td>e6d8ce24-8bbb-11ed-93d0-068c5498f95d</td>\n",
       "      <td>0.0</td>\n",
       "      <td>Android</td>\n",
       "      <td>Organic</td>\n",
       "      <td>PH</td>\n",
       "    </tr>\n",
       "    <tr>\n",
       "      <th>4</th>\n",
       "      <td>2023-01-04 23:50:26.41 UTC</td>\n",
       "      <td>2022-12-05 17:54:05.381</td>\n",
       "      <td>30</td>\n",
       "      <td>A</td>\n",
       "      <td>cf4f3578-74c5-11ed-9d04-6ae896912cdb</td>\n",
       "      <td>0.0</td>\n",
       "      <td>Android</td>\n",
       "      <td>FB</td>\n",
       "      <td>ES</td>\n",
       "    </tr>\n",
       "  </tbody>\n",
       "</table>\n",
       "</div>"
      ],
      "text/plain": [
       "               eventTimeStamp           accountCreated  accountDays configTag  \\\n",
       "0  2023-02-03 15:39:51.32 UTC  2023-01-01 13:33:12.554           33         B   \n",
       "1  2023-01-06 01:47:18.39 UTC  2023-01-03 14:05:41.647            3         B   \n",
       "2  2023-01-04 19:35:35.36 UTC  2022-12-27 19:39:18.877            8         A   \n",
       "3  2023-01-01 19:32:48.95 UTC  2023-01-03 23:11:06.649           -2         A   \n",
       "4  2023-01-04 23:50:26.41 UTC  2022-12-05 17:54:05.381           30         A   \n",
       "\n",
       "                                 userID  moneySpent platform mediaSource  \\\n",
       "0  d6a64f2f-89d8-11ed-93d0-068c5498f95d         0.0  Android     Organic   \n",
       "1  b53a08cb-8b6f-11ed-b602-f686f0f58020         0.0      IOS  restricted   \n",
       "2  2788992c-861e-11ed-b602-f686f0f58020         0.0      IOS     Organic   \n",
       "3  e6d8ce24-8bbb-11ed-93d0-068c5498f95d         0.0  Android     Organic   \n",
       "4  cf4f3578-74c5-11ed-9d04-6ae896912cdb         0.0  Android          FB   \n",
       "\n",
       "  userCountry  \n",
       "0          ZA  \n",
       "1          JO  \n",
       "2          BR  \n",
       "3          PH  \n",
       "4          ES  "
      ]
     },
     "execution_count": 5,
     "metadata": {},
     "output_type": "execute_result"
    }
   ],
   "source": [
    "launch = pd.read_csv('launch.csv')\n",
    "launch.head(5)"
   ]
  },
  {
   "cell_type": "code",
   "execution_count": 6,
   "metadata": {},
   "outputs": [
    {
     "name": "stdout",
     "output_type": "stream",
     "text": [
      "<class 'pandas.core.frame.DataFrame'>\n",
      "RangeIndex: 676698 entries, 0 to 676697\n",
      "Data columns (total 9 columns):\n",
      " #   Column          Non-Null Count   Dtype  \n",
      "---  ------          --------------   -----  \n",
      " 0   eventTimeStamp  676698 non-null  object \n",
      " 1   accountCreated  676698 non-null  object \n",
      " 2   accountDays     676698 non-null  int64  \n",
      " 3   configTag       676114 non-null  object \n",
      " 4   userID          676698 non-null  object \n",
      " 5   moneySpent      676698 non-null  float64\n",
      " 6   platform        676698 non-null  object \n",
      " 7   mediaSource     676698 non-null  object \n",
      " 8   userCountry     676566 non-null  object \n",
      "dtypes: float64(1), int64(1), object(7)\n",
      "memory usage: 46.5+ MB\n"
     ]
    }
   ],
   "source": [
    "launch.info()"
   ]
  },
  {
   "cell_type": "code",
   "execution_count": 7,
   "metadata": {},
   "outputs": [],
   "source": [
    "purchases = purchases[(purchases['moneySpent'] < percentile(purchases['moneySpent'], 95)) & (purchases['accountCreated'] >= '2022-12-22')]"
   ]
  },
  {
   "cell_type": "code",
   "execution_count": 8,
   "metadata": {},
   "outputs": [
    {
     "name": "stdout",
     "output_type": "stream",
     "text": [
      "<class 'pandas.core.frame.DataFrame'>\n",
      "Int64Index: 2234 entries, 0 to 3817\n",
      "Data columns (total 13 columns):\n",
      " #   Column          Non-Null Count  Dtype  \n",
      "---  ------          --------------  -----  \n",
      " 0   eventTimeStamp  2234 non-null   object \n",
      " 1   accountCreated  2234 non-null   object \n",
      " 2   accountDays     2234 non-null   int64  \n",
      " 3   configTag       2231 non-null   object \n",
      " 4   userID          2234 non-null   object \n",
      " 5   productName     2234 non-null   object \n",
      " 6   configPrice     2234 non-null   float64\n",
      " 7   usdPrice        2234 non-null   float64\n",
      " 8   moneySpent      2234 non-null   float64\n",
      " 9   league          2234 non-null   int64  \n",
      " 10  platform        2234 non-null   object \n",
      " 11  mediaSource     2234 non-null   object \n",
      " 12  userCountry     2234 non-null   object \n",
      "dtypes: float64(3), int64(2), object(8)\n",
      "memory usage: 244.3+ KB\n"
     ]
    }
   ],
   "source": [
    "purchases.info()"
   ]
  },
  {
   "cell_type": "code",
   "execution_count": 9,
   "metadata": {},
   "outputs": [],
   "source": [
    "launch = launch[(launch['moneySpent'] < percentile(launch['moneySpent'], 95)) & (launch['accountCreated'] >= '2022-12-22')]"
   ]
  },
  {
   "cell_type": "code",
   "execution_count": 10,
   "metadata": {},
   "outputs": [
    {
     "name": "stdout",
     "output_type": "stream",
     "text": [
      "<class 'pandas.core.frame.DataFrame'>\n",
      "Int64Index: 359905 entries, 0 to 676688\n",
      "Data columns (total 9 columns):\n",
      " #   Column          Non-Null Count   Dtype  \n",
      "---  ------          --------------   -----  \n",
      " 0   eventTimeStamp  359905 non-null  object \n",
      " 1   accountCreated  359905 non-null  object \n",
      " 2   accountDays     359905 non-null  int64  \n",
      " 3   configTag       359641 non-null  object \n",
      " 4   userID          359905 non-null  object \n",
      " 5   moneySpent      359905 non-null  float64\n",
      " 6   platform        359905 non-null  object \n",
      " 7   mediaSource     359905 non-null  object \n",
      " 8   userCountry     359780 non-null  object \n",
      "dtypes: float64(1), int64(1), object(7)\n",
      "memory usage: 27.5+ MB\n"
     ]
    }
   ],
   "source": [
    "launch.info()"
   ]
  },
  {
   "cell_type": "code",
   "execution_count": 11,
   "metadata": {},
   "outputs": [
    {
     "data": {
      "text/plain": [
       "configTag\n",
       "A    40252\n",
       "B    39682\n",
       "Name: userID, dtype: int64"
      ]
     },
     "execution_count": 11,
     "metadata": {},
     "output_type": "execute_result"
    }
   ],
   "source": [
    "launch.groupby('configTag')['userID'].nunique()"
   ]
  },
  {
   "cell_type": "code",
   "execution_count": 12,
   "metadata": {},
   "outputs": [
    {
     "data": {
      "text/plain": [
       "configTag\n",
       "A    552\n",
       "B    567\n",
       "Name: userID, dtype: int64"
      ]
     },
     "execution_count": 12,
     "metadata": {},
     "output_type": "execute_result"
    }
   ],
   "source": [
    "purchases.groupby('configTag')['userID'].nunique()"
   ]
  },
  {
   "cell_type": "code",
   "execution_count": 13,
   "metadata": {},
   "outputs": [
    {
     "data": {
      "text/html": [
       "<div>\n",
       "<style scoped>\n",
       "    .dataframe tbody tr th:only-of-type {\n",
       "        vertical-align: middle;\n",
       "    }\n",
       "\n",
       "    .dataframe tbody tr th {\n",
       "        vertical-align: top;\n",
       "    }\n",
       "\n",
       "    .dataframe thead th {\n",
       "        text-align: right;\n",
       "    }\n",
       "</style>\n",
       "<table border=\"1\" class=\"dataframe\">\n",
       "  <thead>\n",
       "    <tr style=\"text-align: right;\">\n",
       "      <th></th>\n",
       "      <th>accountDays</th>\n",
       "      <th>configPrice</th>\n",
       "      <th>usdPrice</th>\n",
       "      <th>moneySpent</th>\n",
       "      <th>league</th>\n",
       "    </tr>\n",
       "  </thead>\n",
       "  <tbody>\n",
       "    <tr>\n",
       "      <th>count</th>\n",
       "      <td>1075.000000</td>\n",
       "      <td>1075.000000</td>\n",
       "      <td>1075.000000</td>\n",
       "      <td>1075.000000</td>\n",
       "      <td>1075.000000</td>\n",
       "    </tr>\n",
       "    <tr>\n",
       "      <th>mean</th>\n",
       "      <td>1.721860</td>\n",
       "      <td>4.885814</td>\n",
       "      <td>5.422629</td>\n",
       "      <td>24.771637</td>\n",
       "      <td>1.068837</td>\n",
       "    </tr>\n",
       "    <tr>\n",
       "      <th>std</th>\n",
       "      <td>2.508057</td>\n",
       "      <td>5.481502</td>\n",
       "      <td>5.982228</td>\n",
       "      <td>49.169946</td>\n",
       "      <td>1.207097</td>\n",
       "    </tr>\n",
       "    <tr>\n",
       "      <th>min</th>\n",
       "      <td>0.000000</td>\n",
       "      <td>1.990000</td>\n",
       "      <td>1.534768</td>\n",
       "      <td>1.990000</td>\n",
       "      <td>0.000000</td>\n",
       "    </tr>\n",
       "    <tr>\n",
       "      <th>25%</th>\n",
       "      <td>0.000000</td>\n",
       "      <td>1.990000</td>\n",
       "      <td>2.354938</td>\n",
       "      <td>1.990000</td>\n",
       "      <td>0.000000</td>\n",
       "    </tr>\n",
       "    <tr>\n",
       "      <th>50%</th>\n",
       "      <td>1.000000</td>\n",
       "      <td>2.990000</td>\n",
       "      <td>3.342790</td>\n",
       "      <td>4.990000</td>\n",
       "      <td>1.000000</td>\n",
       "    </tr>\n",
       "    <tr>\n",
       "      <th>75%</th>\n",
       "      <td>2.000000</td>\n",
       "      <td>4.990000</td>\n",
       "      <td>5.943370</td>\n",
       "      <td>20.465000</td>\n",
       "      <td>1.000000</td>\n",
       "    </tr>\n",
       "    <tr>\n",
       "      <th>max</th>\n",
       "      <td>13.000000</td>\n",
       "      <td>39.990000</td>\n",
       "      <td>49.027237</td>\n",
       "      <td>338.750000</td>\n",
       "      <td>6.000000</td>\n",
       "    </tr>\n",
       "  </tbody>\n",
       "</table>\n",
       "</div>"
      ],
      "text/plain": [
       "       accountDays  configPrice     usdPrice   moneySpent       league\n",
       "count  1075.000000  1075.000000  1075.000000  1075.000000  1075.000000\n",
       "mean      1.721860     4.885814     5.422629    24.771637     1.068837\n",
       "std       2.508057     5.481502     5.982228    49.169946     1.207097\n",
       "min       0.000000     1.990000     1.534768     1.990000     0.000000\n",
       "25%       0.000000     1.990000     2.354938     1.990000     0.000000\n",
       "50%       1.000000     2.990000     3.342790     4.990000     1.000000\n",
       "75%       2.000000     4.990000     5.943370    20.465000     1.000000\n",
       "max      13.000000    39.990000    49.027237   338.750000     6.000000"
      ]
     },
     "execution_count": 13,
     "metadata": {},
     "output_type": "execute_result"
    }
   ],
   "source": [
    "purchases[purchases['configTag'] == 'A'].describe()"
   ]
  },
  {
   "cell_type": "code",
   "execution_count": 14,
   "metadata": {},
   "outputs": [
    {
     "data": {
      "text/html": [
       "<div>\n",
       "<style scoped>\n",
       "    .dataframe tbody tr th:only-of-type {\n",
       "        vertical-align: middle;\n",
       "    }\n",
       "\n",
       "    .dataframe tbody tr th {\n",
       "        vertical-align: top;\n",
       "    }\n",
       "\n",
       "    .dataframe thead th {\n",
       "        text-align: right;\n",
       "    }\n",
       "</style>\n",
       "<table border=\"1\" class=\"dataframe\">\n",
       "  <thead>\n",
       "    <tr style=\"text-align: right;\">\n",
       "      <th></th>\n",
       "      <th>accountDays</th>\n",
       "      <th>configPrice</th>\n",
       "      <th>usdPrice</th>\n",
       "      <th>moneySpent</th>\n",
       "      <th>league</th>\n",
       "    </tr>\n",
       "  </thead>\n",
       "  <tbody>\n",
       "    <tr>\n",
       "      <th>count</th>\n",
       "      <td>1156.000000</td>\n",
       "      <td>1156.000000</td>\n",
       "      <td>1156.000000</td>\n",
       "      <td>1156.000000</td>\n",
       "      <td>1156.000000</td>\n",
       "    </tr>\n",
       "    <tr>\n",
       "      <th>mean</th>\n",
       "      <td>1.554498</td>\n",
       "      <td>4.685502</td>\n",
       "      <td>5.177674</td>\n",
       "      <td>22.518244</td>\n",
       "      <td>1.054498</td>\n",
       "    </tr>\n",
       "    <tr>\n",
       "      <th>std</th>\n",
       "      <td>2.380579</td>\n",
       "      <td>4.467954</td>\n",
       "      <td>4.846543</td>\n",
       "      <td>40.060501</td>\n",
       "      <td>1.170180</td>\n",
       "    </tr>\n",
       "    <tr>\n",
       "      <th>min</th>\n",
       "      <td>0.000000</td>\n",
       "      <td>1.990000</td>\n",
       "      <td>1.368507</td>\n",
       "      <td>1.990000</td>\n",
       "      <td>0.000000</td>\n",
       "    </tr>\n",
       "    <tr>\n",
       "      <th>25%</th>\n",
       "      <td>0.000000</td>\n",
       "      <td>1.990000</td>\n",
       "      <td>2.437191</td>\n",
       "      <td>2.990000</td>\n",
       "      <td>0.000000</td>\n",
       "    </tr>\n",
       "    <tr>\n",
       "      <th>50%</th>\n",
       "      <td>1.000000</td>\n",
       "      <td>2.990000</td>\n",
       "      <td>3.658492</td>\n",
       "      <td>4.985000</td>\n",
       "      <td>1.000000</td>\n",
       "    </tr>\n",
       "    <tr>\n",
       "      <th>75%</th>\n",
       "      <td>2.000000</td>\n",
       "      <td>4.990000</td>\n",
       "      <td>5.309414</td>\n",
       "      <td>22.960000</td>\n",
       "      <td>1.000000</td>\n",
       "    </tr>\n",
       "    <tr>\n",
       "      <th>max</th>\n",
       "      <td>13.000000</td>\n",
       "      <td>27.990000</td>\n",
       "      <td>31.442698</td>\n",
       "      <td>300.810000</td>\n",
       "      <td>6.000000</td>\n",
       "    </tr>\n",
       "  </tbody>\n",
       "</table>\n",
       "</div>"
      ],
      "text/plain": [
       "       accountDays  configPrice     usdPrice   moneySpent       league\n",
       "count  1156.000000  1156.000000  1156.000000  1156.000000  1156.000000\n",
       "mean      1.554498     4.685502     5.177674    22.518244     1.054498\n",
       "std       2.380579     4.467954     4.846543    40.060501     1.170180\n",
       "min       0.000000     1.990000     1.368507     1.990000     0.000000\n",
       "25%       0.000000     1.990000     2.437191     2.990000     0.000000\n",
       "50%       1.000000     2.990000     3.658492     4.985000     1.000000\n",
       "75%       2.000000     4.990000     5.309414    22.960000     1.000000\n",
       "max      13.000000    27.990000    31.442698   300.810000     6.000000"
      ]
     },
     "execution_count": 14,
     "metadata": {},
     "output_type": "execute_result"
    }
   ],
   "source": [
    "purchases[purchases['configTag'] == 'B'].describe()"
   ]
  },
  {
   "cell_type": "code",
   "execution_count": 15,
   "metadata": {},
   "outputs": [],
   "source": [
    "cumulative_purchases_A = purchases[purchases['configTag'] == 'A'].groupby('userID')['configPrice'].sum()\n",
    "cumulative_purchases_B = purchases[purchases['configTag'] == 'B'].groupby('userID')['configPrice'].sum()"
   ]
  },
  {
   "cell_type": "code",
   "execution_count": 16,
   "metadata": {},
   "outputs": [
    {
     "data": {
      "text/plain": [
       "userID\n",
       "00164b49-8332-11ed-b602-f686f0f58020    13.97\n",
       "00860449-86d3-11ed-b602-f686f0f58020     1.99\n",
       "00bcc295-8629-11ed-b602-f686f0f58020     4.99\n",
       "0245ad92-82ba-11ed-b602-f686f0f58020     3.98\n",
       "0330c62a-8ba7-11ed-b602-f686f0f58020     7.97\n",
       "Name: configPrice, dtype: float64"
      ]
     },
     "execution_count": 16,
     "metadata": {},
     "output_type": "execute_result"
    }
   ],
   "source": [
    "cumulative_purchases_A.head()"
   ]
  },
  {
   "cell_type": "code",
   "execution_count": 17,
   "metadata": {},
   "outputs": [],
   "source": [
    "def stat_intervals(stat, alpha):\n",
    "    boundaries = np.percentile(stat, [100 * alpha / 2., 100 * (1 - alpha / 2.)])\n",
    "    return boundaries.round(decimals=2)"
   ]
  },
  {
   "cell_type": "code",
   "execution_count": 18,
   "metadata": {},
   "outputs": [],
   "source": [
    "def get_bootstrap_samples(data, n_samples):\n",
    "    indices = np.random.randint(0, len(data), (n_samples, len(data)))\n",
    "    samples = data[indices]\n",
    "    return samples"
   ]
  },
  {
   "cell_type": "code",
   "execution_count": 19,
   "metadata": {},
   "outputs": [
    {
     "data": {
      "image/png": "[encoded data removed]",
      "text/plain": [
       "<Figure size 1080x360 with 1 Axes>"
      ]
     },
     "metadata": {
      "needs_background": "light"
     },
     "output_type": "display_data"
    },
    {
     "name": "stdout",
     "output_type": "stream",
     "text": [
      "95% confidence interval for mean group A Money Spent on Purchases: [ 7.75 11.57]\n",
      "95% confidence interval for mean group B Money Spent on Purchases: [ 7.9  11.38]\n"
     ]
    }
   ],
   "source": [
    "groupA_median_scores = list(map(np.mean, get_bootstrap_samples(cumulative_purchases_A.values, 10000)))\n",
    "groupB_median_scores = list(map(np.mean, get_bootstrap_samples(cumulative_purchases_B.values, 10000)))\n",
    "\n",
    "pylab.figure(figsize(15, 5))\n",
    "pylab.subplot(1,2,1)\n",
    "pylab.hist(groupA_median_scores, alpha = .5, color = 'b', label = 'Group A', bins = 100)\n",
    "pylab.legend()\n",
    "\n",
    "pylab.subplot(1,2,1)\n",
    "pylab.hist(groupB_median_scores, alpha = .5, color = 'r', label = 'Group B', bins = 100)\n",
    "pylab.legend()\n",
    "\n",
    "# pylab.subplot(1,2,1)\n",
    "# pylab.hist(groupC_median_scores, alpha = .5, color = 'g', label = 'Group C ARPU 1d', bins = 100)\n",
    "# pylab.legend()\n",
    "\n",
    "pylab.ylabel('Frequency') \n",
    "pylab.xlabel('Money Spent on Purchases per User (Paying)') \n",
    "pylab.show()\n",
    "\n",
    "print(\"95% confidence interval for mean group A Money Spent on Purchases:\",  stat_intervals(groupA_median_scores, 0.05))\n",
    "print(\"95% confidence interval for mean group B Money Spent on Purchases:\",  stat_intervals(groupB_median_scores, 0.05))"
   ]
  },
  {
   "cell_type": "code",
   "execution_count": 20,
   "metadata": {},
   "outputs": [
    {
     "data": {
      "text/plain": [
       "MannwhitneyuResult(statistic=157070.5, pvalue=0.4564911039112652)"
      ]
     },
     "execution_count": 20,
     "metadata": {},
     "output_type": "execute_result"
    }
   ],
   "source": [
    "scipy.stats.mannwhitneyu(cumulative_purchases_A, cumulative_purchases_B, use_continuity=True, alternative='greater')"
   ]
  },
  {
   "cell_type": "code",
   "execution_count": 21,
   "metadata": {},
   "outputs": [],
   "source": [
    "active_users_A = launch[launch['configTag'] == 'A'].groupby('userID')['moneySpent'].max().reset_index()\n",
    "active_users_A['moneySpent'] = 0\n",
    "active_users_B = launch[launch['configTag'] == 'B'].groupby('userID')['moneySpent'].max().reset_index()\n",
    "active_users_B['moneySpent'] = 0"
   ]
  },
  {
   "cell_type": "code",
   "execution_count": 22,
   "metadata": {},
   "outputs": [
    {
     "name": "stdout",
     "output_type": "stream",
     "text": [
      "<class 'pandas.core.frame.DataFrame'>\n",
      "RangeIndex: 40252 entries, 0 to 40251\n",
      "Data columns (total 2 columns):\n",
      " #   Column      Non-Null Count  Dtype \n",
      "---  ------      --------------  ----- \n",
      " 0   userID      40252 non-null  object\n",
      " 1   moneySpent  40252 non-null  int64 \n",
      "dtypes: int64(1), object(1)\n",
      "memory usage: 629.1+ KB\n"
     ]
    }
   ],
   "source": [
    "active_users_A.info()"
   ]
  },
  {
   "cell_type": "code",
   "execution_count": 23,
   "metadata": {},
   "outputs": [],
   "source": [
    "all_users_A = active_users_A.merge(cumulative_purchases_A, how='outer', on='userID')\n",
    "all_users_B = active_users_B.merge(cumulative_purchases_B, how='outer', on='userID')"
   ]
  },
  {
   "cell_type": "code",
   "execution_count": 24,
   "metadata": {},
   "outputs": [
    {
     "name": "stdout",
     "output_type": "stream",
     "text": [
      "<class 'pandas.core.series.Series'>\n",
      "Index: 552 entries, 00164b49-8332-11ed-b602-f686f0f58020 to ffefc5d3-851f-11ed-93d0-068c5498f95d\n",
      "Series name: configPrice\n",
      "Non-Null Count  Dtype  \n",
      "--------------  -----  \n",
      "552 non-null    float64\n",
      "dtypes: float64(1)\n",
      "memory usage: 8.6+ KB\n"
     ]
    }
   ],
   "source": [
    "cumulative_purchases_A.info()"
   ]
  },
  {
   "cell_type": "code",
   "execution_count": 25,
   "metadata": {},
   "outputs": [
    {
     "name": "stdout",
     "output_type": "stream",
     "text": [
      "<class 'pandas.core.frame.DataFrame'>\n",
      "Int64Index: 40252 entries, 0 to 40251\n",
      "Data columns (total 3 columns):\n",
      " #   Column       Non-Null Count  Dtype  \n",
      "---  ------       --------------  -----  \n",
      " 0   userID       40252 non-null  object \n",
      " 1   moneySpent   40252 non-null  int64  \n",
      " 2   configPrice  552 non-null    float64\n",
      "dtypes: float64(1), int64(1), object(1)\n",
      "memory usage: 1.2+ MB\n"
     ]
    }
   ],
   "source": [
    "all_users_A.info()"
   ]
  },
  {
   "cell_type": "code",
   "execution_count": 26,
   "metadata": {},
   "outputs": [],
   "source": [
    "all_users_A['moneySpent'] = 0\n",
    "all_users_B['moneySpent'] = 0"
   ]
  },
  {
   "cell_type": "code",
   "execution_count": 27,
   "metadata": {},
   "outputs": [
    {
     "data": {
      "text/html": [
       "<div>\n",
       "<style scoped>\n",
       "    .dataframe tbody tr th:only-of-type {\n",
       "        vertical-align: middle;\n",
       "    }\n",
       "\n",
       "    .dataframe tbody tr th {\n",
       "        vertical-align: top;\n",
       "    }\n",
       "\n",
       "    .dataframe thead th {\n",
       "        text-align: right;\n",
       "    }\n",
       "</style>\n",
       "<table border=\"1\" class=\"dataframe\">\n",
       "  <thead>\n",
       "    <tr style=\"text-align: right;\">\n",
       "      <th></th>\n",
       "      <th>moneySpent</th>\n",
       "      <th>configPrice</th>\n",
       "    </tr>\n",
       "  </thead>\n",
       "  <tbody>\n",
       "    <tr>\n",
       "      <th>count</th>\n",
       "      <td>40252.0</td>\n",
       "      <td>552.000000</td>\n",
       "    </tr>\n",
       "    <tr>\n",
       "      <th>mean</th>\n",
       "      <td>0.0</td>\n",
       "      <td>9.514946</td>\n",
       "    </tr>\n",
       "    <tr>\n",
       "      <th>std</th>\n",
       "      <td>0.0</td>\n",
       "      <td>22.471331</td>\n",
       "    </tr>\n",
       "    <tr>\n",
       "      <th>min</th>\n",
       "      <td>0.0</td>\n",
       "      <td>1.990000</td>\n",
       "    </tr>\n",
       "    <tr>\n",
       "      <th>25%</th>\n",
       "      <td>0.0</td>\n",
       "      <td>1.990000</td>\n",
       "    </tr>\n",
       "    <tr>\n",
       "      <th>50%</th>\n",
       "      <td>0.0</td>\n",
       "      <td>3.980000</td>\n",
       "    </tr>\n",
       "    <tr>\n",
       "      <th>75%</th>\n",
       "      <td>0.0</td>\n",
       "      <td>7.970000</td>\n",
       "    </tr>\n",
       "    <tr>\n",
       "      <th>max</th>\n",
       "      <td>0.0</td>\n",
       "      <td>251.820000</td>\n",
       "    </tr>\n",
       "  </tbody>\n",
       "</table>\n",
       "</div>"
      ],
      "text/plain": [
       "       moneySpent  configPrice\n",
       "count     40252.0   552.000000\n",
       "mean          0.0     9.514946\n",
       "std           0.0    22.471331\n",
       "min           0.0     1.990000\n",
       "25%           0.0     1.990000\n",
       "50%           0.0     3.980000\n",
       "75%           0.0     7.970000\n",
       "max           0.0   251.820000"
      ]
     },
     "execution_count": 27,
     "metadata": {},
     "output_type": "execute_result"
    }
   ],
   "source": [
    "all_users_A.describe()"
   ]
  },
  {
   "cell_type": "code",
   "execution_count": 28,
   "metadata": {},
   "outputs": [],
   "source": [
    "all_users_A['moneySpent'] = all_users_A['moneySpent'] + all_users_A['configPrice']\n",
    "all_users_B['moneySpent'] = all_users_B['moneySpent'] + all_users_B['configPrice']"
   ]
  },
  {
   "cell_type": "code",
   "execution_count": 29,
   "metadata": {},
   "outputs": [],
   "source": [
    "all_users_A['moneySpent'] = all_users_A['moneySpent'].fillna(0)\n",
    "all_users_B['moneySpent'] = all_users_B['moneySpent'].fillna(0)"
   ]
  },
  {
   "cell_type": "code",
   "execution_count": 30,
   "metadata": {},
   "outputs": [
    {
     "name": "stdout",
     "output_type": "stream",
     "text": [
      "<class 'pandas.core.frame.DataFrame'>\n",
      "Int64Index: 40252 entries, 0 to 40251\n",
      "Data columns (total 3 columns):\n",
      " #   Column       Non-Null Count  Dtype  \n",
      "---  ------       --------------  -----  \n",
      " 0   userID       40252 non-null  object \n",
      " 1   moneySpent   40252 non-null  float64\n",
      " 2   configPrice  552 non-null    float64\n",
      "dtypes: float64(2), object(1)\n",
      "memory usage: 1.2+ MB\n"
     ]
    }
   ],
   "source": [
    "all_users_A.info()"
   ]
  },
  {
   "cell_type": "code",
   "execution_count": 31,
   "metadata": {},
   "outputs": [
    {
     "name": "stdout",
     "output_type": "stream",
     "text": [
      "<class 'pandas.core.frame.DataFrame'>\n",
      "Int64Index: 39682 entries, 0 to 39681\n",
      "Data columns (total 3 columns):\n",
      " #   Column       Non-Null Count  Dtype  \n",
      "---  ------       --------------  -----  \n",
      " 0   userID       39682 non-null  object \n",
      " 1   moneySpent   39682 non-null  float64\n",
      " 2   configPrice  567 non-null    float64\n",
      "dtypes: float64(2), object(1)\n",
      "memory usage: 1.2+ MB\n"
     ]
    }
   ],
   "source": [
    "all_users_B.info()"
   ]
  },
  {
   "cell_type": "code",
   "execution_count": 32,
   "metadata": {},
   "outputs": [
    {
     "data": {
      "image/png": "[encoded data removed]",
      "text/plain": [
       "<Figure size 1080x360 with 1 Axes>"
      ]
     },
     "metadata": {
      "needs_background": "light"
     },
     "output_type": "display_data"
    },
    {
     "name": "stdout",
     "output_type": "stream",
     "text": [
      "95% confidence interval for mean group A Money Spent on Purchases: [0.1  0.16]\n",
      "95% confidence interval for mean group B Money Spent on Purchases: [0.11 0.17]\n"
     ]
    }
   ],
   "source": [
    "groupA_median_scores = list(map(np.mean, get_bootstrap_samples(all_users_A['moneySpent'].values, 10000)))\n",
    "groupB_median_scores = list(map(np.mean, get_bootstrap_samples(all_users_B['moneySpent'].values, 10000)))\n",
    "\n",
    "pylab.figure(figsize(15, 5))\n",
    "pylab.subplot(1,2,1)\n",
    "pylab.hist(groupA_median_scores, alpha = .5, color = 'b', label = 'Group A', bins = 100)\n",
    "pylab.legend()\n",
    "\n",
    "pylab.subplot(1,2,1)\n",
    "pylab.hist(groupB_median_scores, alpha = .5, color = 'r', label = 'Group B', bins = 100)\n",
    "pylab.legend()\n",
    "\n",
    "# pylab.subplot(1,2,1)\n",
    "# pylab.hist(groupC_median_scores, alpha = .5, color = 'g', label = 'Group C ARPU 1d', bins = 100)\n",
    "# pylab.legend()\n",
    "\n",
    "pylab.ylabel('Frequency') \n",
    "pylab.xlabel('Money Spent on Purchases per User (All)') \n",
    "pylab.show()\n",
    "\n",
    "print(\"95% confidence interval for mean group A Money Spent on Purchases:\",  stat_intervals(groupA_median_scores, 0.05))\n",
    "print(\"95% confidence interval for mean group B Money Spent on Purchases:\",  stat_intervals(groupB_median_scores, 0.05))"
   ]
  },
  {
   "cell_type": "code",
   "execution_count": 33,
   "metadata": {},
   "outputs": [
    {
     "data": {
      "text/plain": [
       "MannwhitneyuResult(statistic=798181300.5, pvalue=0.7551950271061476)"
      ]
     },
     "execution_count": 33,
     "metadata": {},
     "output_type": "execute_result"
    }
   ],
   "source": [
    "scipy.stats.mannwhitneyu(all_users_A['moneySpent'].values, all_users_B['moneySpent'].values, use_continuity=True, alternative='greater')"
   ]
  },
  {
   "cell_type": "code",
   "execution_count": 49,
   "metadata": {},
   "outputs": [
    {
     "data": {
      "text/plain": [
       "[5252.25, 5416.4400000000005]"
      ]
     },
     "execution_count": 49,
     "metadata": {},
     "output_type": "execute_result"
    }
   ],
   "source": [
    "[sum(all_users_A['moneySpent']), sum(all_users_B['moneySpent'])]"
   ]
  },
  {
   "cell_type": "code",
   "execution_count": 34,
   "metadata": {},
   "outputs": [],
   "source": [
    "purchases_7day_A = purchases[(purchases['configTag'] == 'A') & (purchases['accountDays'] <= 7)].groupby('userID')['configPrice'].sum()\n",
    "purchases_7day_B = purchases[(purchases['configTag'] == 'B') & (purchases['accountDays'] <= 7)].groupby('userID')['configPrice'].sum()"
   ]
  },
  {
   "cell_type": "code",
   "execution_count": 35,
   "metadata": {},
   "outputs": [
    {
     "data": {
      "text/plain": [
       "count    540.000000\n",
       "mean       9.229204\n",
       "std       21.481658\n",
       "min        1.990000\n",
       "25%        1.990000\n",
       "50%        3.980000\n",
       "75%        7.970000\n",
       "max      234.860000\n",
       "Name: configPrice, dtype: float64"
      ]
     },
     "execution_count": 35,
     "metadata": {},
     "output_type": "execute_result"
    }
   ],
   "source": [
    "purchases_7day_A.describe()"
   ]
  },
  {
   "cell_type": "code",
   "execution_count": 36,
   "metadata": {},
   "outputs": [
    {
     "data": {
      "text/plain": [
       "count    551.000000\n",
       "mean       9.332033\n",
       "std       20.815579\n",
       "min        1.990000\n",
       "25%        1.990000\n",
       "50%        3.990000\n",
       "75%        7.970000\n",
       "max      243.790000\n",
       "Name: configPrice, dtype: float64"
      ]
     },
     "execution_count": 36,
     "metadata": {},
     "output_type": "execute_result"
    }
   ],
   "source": [
    "purchases_7day_B.describe()"
   ]
  },
  {
   "cell_type": "code",
   "execution_count": 37,
   "metadata": {},
   "outputs": [],
   "source": [
    "active_users_7day_A = launch[(launch['configTag'] == 'A') & (launch['accountDays'] <= 7)].groupby('userID')['moneySpent'].max().reset_index()\n",
    "active_users_7day_A['moneySpent'] = 0\n",
    "active_users_7day_B = launch[(launch['configTag'] == 'B') & (launch['accountDays'] <= 7)].groupby('userID')['moneySpent'].max().reset_index()\n",
    "active_users_7day_B['moneySpent'] = 0"
   ]
  },
  {
   "cell_type": "code",
   "execution_count": 38,
   "metadata": {},
   "outputs": [],
   "source": [
    "all_users_7day_A = active_users_7day_A.merge(purchases_7day_A, how='outer', on='userID')\n",
    "all_users_7day_B = active_users_7day_B.merge(purchases_7day_B, how='outer', on='userID')"
   ]
  },
  {
   "cell_type": "code",
   "execution_count": 39,
   "metadata": {},
   "outputs": [],
   "source": [
    "all_users_7day_A['moneySpent'] = 0\n",
    "all_users_7day_B['moneySpent'] = 0"
   ]
  },
  {
   "cell_type": "code",
   "execution_count": 40,
   "metadata": {},
   "outputs": [],
   "source": [
    "all_users_7day_A['moneySpent'] = all_users_7day_A['moneySpent'] + all_users_7day_A['configPrice']\n",
    "all_users_7day_B['moneySpent'] = all_users_7day_B['moneySpent'] + all_users_7day_B['configPrice']"
   ]
  },
  {
   "cell_type": "code",
   "execution_count": 41,
   "metadata": {},
   "outputs": [],
   "source": [
    "all_users_7day_A['moneySpent'] = all_users_7day_A['moneySpent'].fillna(0)\n",
    "all_users_7day_B['moneySpent'] = all_users_7day_B['moneySpent'].fillna(0)"
   ]
  },
  {
   "cell_type": "code",
   "execution_count": 42,
   "metadata": {},
   "outputs": [
    {
     "data": {
      "text/html": [
       "<div>\n",
       "<style scoped>\n",
       "    .dataframe tbody tr th:only-of-type {\n",
       "        vertical-align: middle;\n",
       "    }\n",
       "\n",
       "    .dataframe tbody tr th {\n",
       "        vertical-align: top;\n",
       "    }\n",
       "\n",
       "    .dataframe thead th {\n",
       "        text-align: right;\n",
       "    }\n",
       "</style>\n",
       "<table border=\"1\" class=\"dataframe\">\n",
       "  <thead>\n",
       "    <tr style=\"text-align: right;\">\n",
       "      <th></th>\n",
       "      <th>moneySpent</th>\n",
       "      <th>configPrice</th>\n",
       "    </tr>\n",
       "  </thead>\n",
       "  <tbody>\n",
       "    <tr>\n",
       "      <th>count</th>\n",
       "      <td>40213.000000</td>\n",
       "      <td>540.000000</td>\n",
       "    </tr>\n",
       "    <tr>\n",
       "      <th>mean</th>\n",
       "      <td>0.123934</td>\n",
       "      <td>9.229204</td>\n",
       "    </tr>\n",
       "    <tr>\n",
       "      <th>std</th>\n",
       "      <td>2.704422</td>\n",
       "      <td>21.481658</td>\n",
       "    </tr>\n",
       "    <tr>\n",
       "      <th>min</th>\n",
       "      <td>0.000000</td>\n",
       "      <td>1.990000</td>\n",
       "    </tr>\n",
       "    <tr>\n",
       "      <th>25%</th>\n",
       "      <td>0.000000</td>\n",
       "      <td>1.990000</td>\n",
       "    </tr>\n",
       "    <tr>\n",
       "      <th>50%</th>\n",
       "      <td>0.000000</td>\n",
       "      <td>3.980000</td>\n",
       "    </tr>\n",
       "    <tr>\n",
       "      <th>75%</th>\n",
       "      <td>0.000000</td>\n",
       "      <td>7.970000</td>\n",
       "    </tr>\n",
       "    <tr>\n",
       "      <th>max</th>\n",
       "      <td>234.860000</td>\n",
       "      <td>234.860000</td>\n",
       "    </tr>\n",
       "  </tbody>\n",
       "</table>\n",
       "</div>"
      ],
      "text/plain": [
       "         moneySpent  configPrice\n",
       "count  40213.000000   540.000000\n",
       "mean       0.123934     9.229204\n",
       "std        2.704422    21.481658\n",
       "min        0.000000     1.990000\n",
       "25%        0.000000     1.990000\n",
       "50%        0.000000     3.980000\n",
       "75%        0.000000     7.970000\n",
       "max      234.860000   234.860000"
      ]
     },
     "execution_count": 42,
     "metadata": {},
     "output_type": "execute_result"
    }
   ],
   "source": [
    "all_users_7day_A.describe()"
   ]
  },
  {
   "cell_type": "code",
   "execution_count": 43,
   "metadata": {},
   "outputs": [
    {
     "data": {
      "text/html": [
       "<div>\n",
       "<style scoped>\n",
       "    .dataframe tbody tr th:only-of-type {\n",
       "        vertical-align: middle;\n",
       "    }\n",
       "\n",
       "    .dataframe tbody tr th {\n",
       "        vertical-align: top;\n",
       "    }\n",
       "\n",
       "    .dataframe thead th {\n",
       "        text-align: right;\n",
       "    }\n",
       "</style>\n",
       "<table border=\"1\" class=\"dataframe\">\n",
       "  <thead>\n",
       "    <tr style=\"text-align: right;\">\n",
       "      <th></th>\n",
       "      <th>moneySpent</th>\n",
       "      <th>configPrice</th>\n",
       "    </tr>\n",
       "  </thead>\n",
       "  <tbody>\n",
       "    <tr>\n",
       "      <th>count</th>\n",
       "      <td>39681.000000</td>\n",
       "      <td>551.000000</td>\n",
       "    </tr>\n",
       "    <tr>\n",
       "      <th>mean</th>\n",
       "      <td>0.129582</td>\n",
       "      <td>9.332033</td>\n",
       "    </tr>\n",
       "    <tr>\n",
       "      <th>std</th>\n",
       "      <td>2.682958</td>\n",
       "      <td>20.815579</td>\n",
       "    </tr>\n",
       "    <tr>\n",
       "      <th>min</th>\n",
       "      <td>0.000000</td>\n",
       "      <td>1.990000</td>\n",
       "    </tr>\n",
       "    <tr>\n",
       "      <th>25%</th>\n",
       "      <td>0.000000</td>\n",
       "      <td>1.990000</td>\n",
       "    </tr>\n",
       "    <tr>\n",
       "      <th>50%</th>\n",
       "      <td>0.000000</td>\n",
       "      <td>3.990000</td>\n",
       "    </tr>\n",
       "    <tr>\n",
       "      <th>75%</th>\n",
       "      <td>0.000000</td>\n",
       "      <td>7.970000</td>\n",
       "    </tr>\n",
       "    <tr>\n",
       "      <th>max</th>\n",
       "      <td>243.790000</td>\n",
       "      <td>243.790000</td>\n",
       "    </tr>\n",
       "  </tbody>\n",
       "</table>\n",
       "</div>"
      ],
      "text/plain": [
       "         moneySpent  configPrice\n",
       "count  39681.000000   551.000000\n",
       "mean       0.129582     9.332033\n",
       "std        2.682958    20.815579\n",
       "min        0.000000     1.990000\n",
       "25%        0.000000     1.990000\n",
       "50%        0.000000     3.990000\n",
       "75%        0.000000     7.970000\n",
       "max      243.790000   243.790000"
      ]
     },
     "execution_count": 43,
     "metadata": {},
     "output_type": "execute_result"
    }
   ],
   "source": [
    "all_users_7day_B.describe()"
   ]
  },
  {
   "cell_type": "code",
   "execution_count": 46,
   "metadata": {},
   "outputs": [
    {
     "data": {
      "image/png": "[encoded data removed]",
      "text/plain": [
       "<Figure size 1080x360 with 1 Axes>"
      ]
     },
     "metadata": {
      "needs_background": "light"
     },
     "output_type": "display_data"
    },
    {
     "name": "stdout",
     "output_type": "stream",
     "text": [
      "95% confidence interval for mean group A Money Spent on Purchases: [0.1  0.15]\n",
      "95% confidence interval for mean group B Money Spent on Purchases: [0.11 0.16]\n"
     ]
    }
   ],
   "source": [
    "groupA_median_scores = list(map(np.mean, get_bootstrap_samples(all_users_7day_A['moneySpent'].values, 10000)))\n",
    "groupB_median_scores = list(map(np.mean, get_bootstrap_samples(all_users_7day_B['moneySpent'].values, 10000)))\n",
    "\n",
    "pylab.figure(figsize(15, 5))\n",
    "pylab.subplot(1,2,1)\n",
    "pylab.hist(groupA_median_scores, alpha = .5, color = 'b', label = 'Group A', bins = 100)\n",
    "pylab.legend()\n",
    "\n",
    "pylab.subplot(1,2,1)\n",
    "pylab.hist(groupB_median_scores, alpha = .5, color = 'r', label = 'Group B', bins = 100)\n",
    "pylab.legend()\n",
    "\n",
    "# pylab.subplot(1,2,1)\n",
    "# pylab.hist(groupC_median_scores, alpha = .5, color = 'g', label = 'Group C ARPU 1d', bins = 100)\n",
    "# pylab.legend()\n",
    "\n",
    "pylab.ylabel('Frequency') \n",
    "pylab.xlabel('Money Spent on Purchases per User (All 7day)') \n",
    "pylab.show()\n",
    "\n",
    "print(\"95% confidence interval for mean group A Money Spent on Purchases:\",  stat_intervals(groupA_median_scores, 0.05))\n",
    "print(\"95% confidence interval for mean group B Money Spent on Purchases:\",  stat_intervals(groupB_median_scores, 0.05))"
   ]
  },
  {
   "cell_type": "code",
   "execution_count": 45,
   "metadata": {},
   "outputs": [
    {
     "data": {
      "text/plain": [
       "MannwhitneyuResult(statistic=797479457.5, pvalue=0.7120762152365597)"
      ]
     },
     "execution_count": 45,
     "metadata": {},
     "output_type": "execute_result"
    }
   ],
   "source": [
    "scipy.stats.mannwhitneyu(all_users_7day_A['moneySpent'].values, all_users_7day_B['moneySpent'].values, use_continuity=True, alternative='greater')"
   ]
  },
  {
   "cell_type": "code",
   "execution_count": 48,
   "metadata": {},
   "outputs": [
    {
     "data": {
      "text/plain": [
       "[4983.77, 5141.95]"
      ]
     },
     "execution_count": 48,
     "metadata": {},
     "output_type": "execute_result"
    }
   ],
   "source": [
    "[sum(all_users_7day_A['moneySpent']), sum(all_users_7day_B['moneySpent'])]"
   ]
  },
  {
   "cell_type": "code",
   "execution_count": 51,
   "metadata": {},
   "outputs": [
    {
     "data": {
      "text/plain": [
       "[40213, 39681]"
      ]
     },
     "execution_count": 51,
     "metadata": {},
     "output_type": "execute_result"
    }
   ],
   "source": [
    "[active_users_7day_A['userID'].nunique(), active_users_7day_B['userID'].nunique()]"
   ]
  },
  {
   "cell_type": "code",
   "execution_count": 53,
   "metadata": {},
   "outputs": [
    {
     "data": {
      "text/plain": [
       "[540, 551]"
      ]
     },
     "execution_count": 53,
     "metadata": {},
     "output_type": "execute_result"
    }
   ],
   "source": [
    "[purchases[(purchases['configTag'] == 'A') & (purchases['accountDays'] <= 7)]['userID'].nunique(), purchases[(purchases['configTag'] == 'B') & (purchases['accountDays'] <= 7)]['userID'].nunique()] "
   ]
  },
  {
   "cell_type": "code",
   "execution_count": 61,
   "metadata": {},
   "outputs": [
    {
     "name": "stdout",
     "output_type": "stream",
     "text": [
      "Conversion to Purchase 7day Tag A:  1.343%\n",
      "Conversion to Purchase 7day Tag B:  1.389%\n"
     ]
    }
   ],
   "source": [
    "print('Conversion to Purchase 7day Tag A: {0: .3f}%'.format((purchases[(purchases['configTag'] == 'A') & (purchases['accountDays'] <= 7)]['userID'].nunique()) / (active_users_7day_A['userID'].nunique()) * 100))\n",
    "print('Conversion to Purchase 7day Tag B: {0: .3f}%'.format((purchases[(purchases['configTag'] == 'B') & (purchases['accountDays'] <= 7)]['userID'].nunique()) / (active_users_7day_B['userID'].nunique()) * 100))"
   ]
  }
 ],
 "metadata": {
  "kernelspec": {
   "display_name": "Python 3",
   "language": "python",
   "name": "python3"
  },
  "language_info": {
   "codemirror_mode": {
    "name": "ipython",
    "version": 3
   },
   "file_extension": ".py",
   "mimetype": "text/x-python",
   "name": "python",
   "nbconvert_exporter": "python",
   "pygments_lexer": "ipython3",
   "version": "3.9.12"
  },
  "orig_nbformat": 4,
  "vscode": {
   "interpreter": {
    "hash": "7b34b089ce0dfc9935940e0a22050b2949fa617f7a2b73925623c261bed16aeb"
   }
  }
 },
 "nbformat": 4,
 "nbformat_minor": 2
}
