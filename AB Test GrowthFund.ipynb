{
 "cells": [
  {
   "cell_type": "code",
   "execution_count": 1,
   "metadata": {},
   "outputs": [],
   "source": [
    "import numpy as np\n",
    "import pandas as pd\n",
    "import matplotlib.pyplot as plt\n",
    "\n",
    "import scipy\n",
    "from statsmodels.stats.weightstats import *\n",
    "from statsmodels.stats.proportion import proportion_confint"
   ]
  },
  {
   "cell_type": "code",
   "execution_count": 2,
   "metadata": {},
   "outputs": [
    {
     "name": "stdout",
     "output_type": "stream",
     "text": [
      "%pylab is deprecated, use %matplotlib inline and import the required libraries.\n",
      "Populating the interactive namespace from numpy and matplotlib\n"
     ]
    }
   ],
   "source": [
    "%pylab inline"
   ]
  },
  {
   "cell_type": "code",
   "execution_count": 32,
   "metadata": {},
   "outputs": [
    {
     "data": {
      "text/html": [
       "<div>\n",
       "<style scoped>\n",
       "    .dataframe tbody tr th:only-of-type {\n",
       "        vertical-align: middle;\n",
       "    }\n",
       "\n",
       "    .dataframe tbody tr th {\n",
       "        vertical-align: top;\n",
       "    }\n",
       "\n",
       "    .dataframe thead th {\n",
       "        text-align: right;\n",
       "    }\n",
       "</style>\n",
       "<table border=\"1\" class=\"dataframe\">\n",
       "  <thead>\n",
       "    <tr style=\"text-align: right;\">\n",
       "      <th></th>\n",
       "      <th>userID</th>\n",
       "      <th>configTag</th>\n",
       "      <th>installDate</th>\n",
       "      <th>platform</th>\n",
       "      <th>userCountry</th>\n",
       "      <th>media_source</th>\n",
       "      <th>day</th>\n",
       "      <th>rev</th>\n",
       "      <th>return</th>\n",
       "    </tr>\n",
       "  </thead>\n",
       "  <tbody>\n",
       "    <tr>\n",
       "      <th>0</th>\n",
       "      <td>20aaaf2a-53ed-11ee-ad09-768d261d54b7</td>\n",
       "      <td>A</td>\n",
       "      <td>2023-09-15</td>\n",
       "      <td>android</td>\n",
       "      <td>ZA</td>\n",
       "      <td>Adwords</td>\n",
       "      <td>14</td>\n",
       "      <td>0.0</td>\n",
       "      <td>0</td>\n",
       "    </tr>\n",
       "    <tr>\n",
       "      <th>1</th>\n",
       "      <td>034f00c9-2bf8-11ed-a663-e6cce5d09abb</td>\n",
       "      <td>A</td>\n",
       "      <td>2023-09-16</td>\n",
       "      <td>android</td>\n",
       "      <td>PH</td>\n",
       "      <td>Adwords</td>\n",
       "      <td>1</td>\n",
       "      <td>0.0</td>\n",
       "      <td>0</td>\n",
       "    </tr>\n",
       "    <tr>\n",
       "      <th>2</th>\n",
       "      <td>45782923-c56a-11ec-80e3-8605195f39bf</td>\n",
       "      <td>B</td>\n",
       "      <td>2023-09-17</td>\n",
       "      <td>android</td>\n",
       "      <td>TH</td>\n",
       "      <td>Adwords</td>\n",
       "      <td>7</td>\n",
       "      <td>0.0</td>\n",
       "      <td>0</td>\n",
       "    </tr>\n",
       "    <tr>\n",
       "      <th>3</th>\n",
       "      <td>cc966021-5644-11ee-ad09-768d261d54b7</td>\n",
       "      <td>A</td>\n",
       "      <td>2023-09-18</td>\n",
       "      <td>android</td>\n",
       "      <td>MY</td>\n",
       "      <td>Adwords</td>\n",
       "      <td>14</td>\n",
       "      <td>0.0</td>\n",
       "      <td>0</td>\n",
       "    </tr>\n",
       "    <tr>\n",
       "      <th>4</th>\n",
       "      <td>f4b8d92f-5649-11ee-a806-ee3ae0d98fcd</td>\n",
       "      <td>A</td>\n",
       "      <td>2023-09-18</td>\n",
       "      <td>android</td>\n",
       "      <td>MY</td>\n",
       "      <td>Adwords</td>\n",
       "      <td>1</td>\n",
       "      <td>0.0</td>\n",
       "      <td>0</td>\n",
       "    </tr>\n",
       "  </tbody>\n",
       "</table>\n",
       "</div>"
      ],
      "text/plain": [
       "                                 userID configTag installDate platform  \\\n",
       "0  20aaaf2a-53ed-11ee-ad09-768d261d54b7         A  2023-09-15  android   \n",
       "1  034f00c9-2bf8-11ed-a663-e6cce5d09abb         A  2023-09-16  android   \n",
       "2  45782923-c56a-11ec-80e3-8605195f39bf         B  2023-09-17  android   \n",
       "3  cc966021-5644-11ee-ad09-768d261d54b7         A  2023-09-18  android   \n",
       "4  f4b8d92f-5649-11ee-a806-ee3ae0d98fcd         A  2023-09-18  android   \n",
       "\n",
       "  userCountry media_source  day  rev  return  \n",
       "0          ZA      Adwords   14  0.0       0  \n",
       "1          PH      Adwords    1  0.0       0  \n",
       "2          TH      Adwords    7  0.0       0  \n",
       "3          MY      Adwords   14  0.0       0  \n",
       "4          MY      Adwords    1  0.0       0  "
      ]
     },
     "execution_count": 32,
     "metadata": {},
     "output_type": "execute_result"
    }
   ],
   "source": [
    "revenue = pd.read_csv(r'revenue.csv')\n",
    "revenue.head(5)"
   ]
  },
  {
   "cell_type": "code",
   "execution_count": 40,
   "metadata": {},
   "outputs": [
    {
     "data": {
      "text/html": [
       "<div>\n",
       "<style scoped>\n",
       "    .dataframe tbody tr th:only-of-type {\n",
       "        vertical-align: middle;\n",
       "    }\n",
       "\n",
       "    .dataframe tbody tr th {\n",
       "        vertical-align: top;\n",
       "    }\n",
       "\n",
       "    .dataframe thead th {\n",
       "        text-align: right;\n",
       "    }\n",
       "</style>\n",
       "<table border=\"1\" class=\"dataframe\">\n",
       "  <thead>\n",
       "    <tr style=\"text-align: right;\">\n",
       "      <th></th>\n",
       "      <th>userID</th>\n",
       "      <th>configTag</th>\n",
       "      <th>installDate</th>\n",
       "      <th>platform</th>\n",
       "      <th>userCountry</th>\n",
       "      <th>media_source</th>\n",
       "      <th>day</th>\n",
       "      <th>rev</th>\n",
       "      <th>return</th>\n",
       "    </tr>\n",
       "  </thead>\n",
       "  <tbody>\n",
       "    <tr>\n",
       "      <th>0</th>\n",
       "      <td>20aaaf2a-53ed-11ee-ad09-768d261d54b7</td>\n",
       "      <td>A</td>\n",
       "      <td>2023-09-15</td>\n",
       "      <td>android</td>\n",
       "      <td>ZA</td>\n",
       "      <td>Adwords</td>\n",
       "      <td>14</td>\n",
       "      <td>0.0</td>\n",
       "      <td>0</td>\n",
       "    </tr>\n",
       "    <tr>\n",
       "      <th>1</th>\n",
       "      <td>034f00c9-2bf8-11ed-a663-e6cce5d09abb</td>\n",
       "      <td>A</td>\n",
       "      <td>2023-09-16</td>\n",
       "      <td>android</td>\n",
       "      <td>PH</td>\n",
       "      <td>Adwords</td>\n",
       "      <td>1</td>\n",
       "      <td>0.0</td>\n",
       "      <td>0</td>\n",
       "    </tr>\n",
       "    <tr>\n",
       "      <th>2</th>\n",
       "      <td>45782923-c56a-11ec-80e3-8605195f39bf</td>\n",
       "      <td>B</td>\n",
       "      <td>2023-09-17</td>\n",
       "      <td>android</td>\n",
       "      <td>TH</td>\n",
       "      <td>Adwords</td>\n",
       "      <td>7</td>\n",
       "      <td>0.0</td>\n",
       "      <td>0</td>\n",
       "    </tr>\n",
       "    <tr>\n",
       "      <th>3</th>\n",
       "      <td>cc966021-5644-11ee-ad09-768d261d54b7</td>\n",
       "      <td>A</td>\n",
       "      <td>2023-09-18</td>\n",
       "      <td>android</td>\n",
       "      <td>MY</td>\n",
       "      <td>Adwords</td>\n",
       "      <td>14</td>\n",
       "      <td>0.0</td>\n",
       "      <td>0</td>\n",
       "    </tr>\n",
       "    <tr>\n",
       "      <th>4</th>\n",
       "      <td>f4b8d92f-5649-11ee-a806-ee3ae0d98fcd</td>\n",
       "      <td>A</td>\n",
       "      <td>2023-09-18</td>\n",
       "      <td>android</td>\n",
       "      <td>MY</td>\n",
       "      <td>Adwords</td>\n",
       "      <td>1</td>\n",
       "      <td>0.0</td>\n",
       "      <td>0</td>\n",
       "    </tr>\n",
       "  </tbody>\n",
       "</table>\n",
       "</div>"
      ],
      "text/plain": [
       "                                 userID configTag installDate platform  \\\n",
       "0  20aaaf2a-53ed-11ee-ad09-768d261d54b7         A  2023-09-15  android   \n",
       "1  034f00c9-2bf8-11ed-a663-e6cce5d09abb         A  2023-09-16  android   \n",
       "2  45782923-c56a-11ec-80e3-8605195f39bf         B  2023-09-17  android   \n",
       "3  cc966021-5644-11ee-ad09-768d261d54b7         A  2023-09-18  android   \n",
       "4  f4b8d92f-5649-11ee-a806-ee3ae0d98fcd         A  2023-09-18  android   \n",
       "\n",
       "  userCountry media_source  day  rev  return  \n",
       "0          ZA      Adwords   14  0.0       0  \n",
       "1          PH      Adwords    1  0.0       0  \n",
       "2          TH      Adwords    7  0.0       0  \n",
       "3          MY      Adwords   14  0.0       0  \n",
       "4          MY      Adwords    1  0.0       0  "
      ]
     },
     "execution_count": 40,
     "metadata": {},
     "output_type": "execute_result"
    }
   ],
   "source": [
    "revenue_short = revenue[revenue['installDate'] >= '2023-09-18']\n",
    "revenue.head(5)"
   ]
  },
  {
   "cell_type": "code",
   "execution_count": 34,
   "metadata": {},
   "outputs": [
    {
     "data": {
      "text/plain": [
       "325651    105.246595\n",
       "325652    105.246595\n",
       "400376    110.040878\n",
       "394993    110.067545\n",
       "394992    110.067545\n",
       "375048    111.423129\n",
       "11146     111.900000\n",
       "327415    117.481952\n",
       "56640     133.860000\n",
       "130372    138.446501\n",
       "275933    155.114760\n",
       "228402    168.146441\n",
       "88436     169.127796\n",
       "198774    170.840000\n",
       "198773    170.840000\n",
       "446105    171.193545\n",
       "266065    181.707098\n",
       "61664     191.557527\n",
       "408524    222.900000\n",
       "426164    869.703192\n",
       "Name: rev, dtype: float64"
      ]
     },
     "execution_count": 34,
     "metadata": {},
     "output_type": "execute_result"
    }
   ],
   "source": [
    "revenue_short[(revenue_short['day'] == 1)]['rev'].sort_values().tail(20)"
   ]
  },
  {
   "cell_type": "code",
   "execution_count": 60,
   "metadata": {},
   "outputs": [
    {
     "data": {
      "text/plain": [
       "media_source\n",
       "appsflyer_sdk_test_int        1\n",
       "Influencers                  72\n",
       "TikTok                     1575\n",
       "restricted                 1625\n",
       "moloco_int                 2130\n",
       "UnityAds                   2227\n",
       "FB                         6510\n",
       "Adwords                   10486\n",
       "Organic                   24713\n",
       "Name: userID, dtype: int64"
      ]
     },
     "execution_count": 60,
     "metadata": {},
     "output_type": "execute_result"
    }
   ],
   "source": [
    "media_source_A = revenue_short[revenue_short['configTag'] == 'A'].groupby('media_source')['userID'].nunique().sort_values()\n",
    "media_source_A.tail(10)"
   ]
  },
  {
   "cell_type": "code",
   "execution_count": 62,
   "metadata": {},
   "outputs": [
    {
     "data": {
      "text/plain": [
       "media_source\n",
       "Influencers       59\n",
       "TikTok          1420\n",
       "restricted      1490\n",
       "moloco_int      1827\n",
       "UnityAds        1906\n",
       "FB              5789\n",
       "Adwords         8661\n",
       "Organic        19964\n",
       "Name: userID, dtype: int64"
      ]
     },
     "execution_count": 62,
     "metadata": {},
     "output_type": "execute_result"
    }
   ],
   "source": [
    "media_source_B = revenue_short[revenue_short['configTag'] == 'B'].groupby('media_source')['userID'].nunique().sort_values()\n",
    "media_source_B.tail(10)"
   ]
  },
  {
   "cell_type": "code",
   "execution_count": 63,
   "metadata": {},
   "outputs": [
    {
     "data": {
      "text/plain": [
       "platform\n",
       "ios         8493\n",
       "android    40506\n",
       "Name: userID, dtype: int64"
      ]
     },
     "execution_count": 63,
     "metadata": {},
     "output_type": "execute_result"
    }
   ],
   "source": [
    "platform_A = revenue_short[revenue_short['configTag'] == 'A'].groupby('platform')['userID'].nunique().sort_values()\n",
    "platform_A.head()"
   ]
  },
  {
   "cell_type": "code",
   "execution_count": 64,
   "metadata": {},
   "outputs": [
    {
     "data": {
      "text/plain": [
       "platform\n",
       "ios         7522\n",
       "android    33375\n",
       "Name: userID, dtype: int64"
      ]
     },
     "execution_count": 64,
     "metadata": {},
     "output_type": "execute_result"
    }
   ],
   "source": [
    "platform_B = revenue_short[revenue_short['configTag'] == 'B'].groupby('platform')['userID'].nunique().sort_values()\n",
    "platform_B.head()"
   ]
  },
  {
   "cell_type": "code",
   "execution_count": 65,
   "metadata": {},
   "outputs": [
    {
     "data": {
      "text/plain": [
       "userCountry\n",
       "VN    1208\n",
       "IQ    1243\n",
       "UA    1313\n",
       "TH    1392\n",
       "ID    1426\n",
       "DE    1476\n",
       "PH    1832\n",
       "IN    2528\n",
       "US    3173\n",
       "RU    8709\n",
       "Name: userID, dtype: int64"
      ]
     },
     "execution_count": 65,
     "metadata": {},
     "output_type": "execute_result"
    }
   ],
   "source": [
    "countries_A = revenue_short[revenue_short['configTag'] == 'A'].groupby('userCountry')['userID'].nunique().sort_values()\n",
    "countries_A.tail(10)"
   ]
  },
  {
   "cell_type": "code",
   "execution_count": 67,
   "metadata": {},
   "outputs": [
    {
     "data": {
      "text/plain": [
       "userCountry\n",
       "VN    1008\n",
       "IQ    1063\n",
       "UA    1088\n",
       "ID    1103\n",
       "DE    1187\n",
       "TH    1199\n",
       "PH    1640\n",
       "IN    2284\n",
       "US    2631\n",
       "RU    7017\n",
       "Name: userID, dtype: int64"
      ]
     },
     "execution_count": 67,
     "metadata": {},
     "output_type": "execute_result"
    }
   ],
   "source": [
    "countries_B = revenue_short[revenue_short['configTag'] == 'B'].groupby('userCountry')['userID'].nunique().sort_values()\n",
    "countries_B.tail(10)"
   ]
  },
  {
   "cell_type": "code",
   "execution_count": 68,
   "metadata": {},
   "outputs": [
    {
     "data": {
      "text/plain": [
       "0          56089\n",
       "<10$         627\n",
       "10-50$       378\n",
       "50-100$       57\n",
       ">=100$        31\n",
       "Name: rev, dtype: int64"
      ]
     },
     "execution_count": 68,
     "metadata": {},
     "output_type": "execute_result"
    }
   ],
   "source": [
    "money_spent_A = revenue_short[(revenue_short['configTag'] == 'A') & (revenue_short['day'] == 7)]['rev'].apply(lambda x: 0 if x == 0 else '<10$' if x < 10 else '10-50$' if x >= 10 and x < 50 else '50-100$' if x >= 50 and x < 100 else '>=100$' if x >= 100 else 'Other')\n",
    "money_spent_A.value_counts()"
   ]
  },
  {
   "cell_type": "code",
   "execution_count": 69,
   "metadata": {},
   "outputs": [
    {
     "data": {
      "text/plain": [
       "0          45976\n",
       "<10$         428\n",
       "10-50$       240\n",
       "50-100$       23\n",
       ">=100$        23\n",
       "Name: rev, dtype: int64"
      ]
     },
     "execution_count": 69,
     "metadata": {},
     "output_type": "execute_result"
    }
   ],
   "source": [
    "money_spent_B = revenue_short[(revenue_short['configTag'] == 'B') & (revenue_short['day'] == 7)]['rev'].apply(lambda x: 0 if x == 0 else '<10$' if x < 10 else '10-50$' if x >= 10 and x < 50 else '50-100$' if x >= 50 and x < 100 else '>=100$' if x >= 100 else 'Other')\n",
    "money_spent_B.value_counts()"
   ]
  },
  {
   "cell_type": "code",
   "execution_count": 35,
   "metadata": {},
   "outputs": [
    {
     "data": {
      "text/plain": [
       "140294     77.054716\n",
       "32383      77.831132\n",
       "158115     84.826948\n",
       "83720      84.920000\n",
       "16815      90.860000\n",
       "417091     91.042772\n",
       "417092     91.042772\n",
       "312398     98.940973\n",
       "312399     98.940973\n",
       "28227     101.632380\n",
       "325651    105.246595\n",
       "325652    105.246595\n",
       "400376    110.040878\n",
       "394992    110.067545\n",
       "394993    110.067545\n",
       "375048    111.423129\n",
       "11146     111.900000\n",
       "327415    117.481952\n",
       "56640     133.860000\n",
       "130372    138.446501\n",
       "Name: rev, dtype: float64"
      ]
     },
     "execution_count": 35,
     "metadata": {},
     "output_type": "execute_result"
    }
   ],
   "source": [
    "revenue_short[(revenue_short['day'] == 1) & (revenue_short['rev'] < 150)]['rev'].sort_values().tail(20)"
   ]
  },
  {
   "cell_type": "code",
   "execution_count": 41,
   "metadata": {},
   "outputs": [],
   "source": [
    "revenue_short = revenue_short[revenue_short['userID'].isin(revenue_short[(revenue_short['day'] == 1) & (revenue_short['rev'] < 150)]['userID'])]"
   ]
  },
  {
   "cell_type": "code",
   "execution_count": 42,
   "metadata": {},
   "outputs": [
    {
     "data": {
      "text/plain": [
       "417091     91.042772\n",
       "417092     91.042772\n",
       "312399     98.940973\n",
       "312398     98.940973\n",
       "28227     101.632380\n",
       "325651    105.246595\n",
       "325652    105.246595\n",
       "400376    110.040878\n",
       "394993    110.067545\n",
       "394992    110.067545\n",
       "375048    111.423129\n",
       "11146     111.900000\n",
       "327415    117.481952\n",
       "56640     133.860000\n",
       "130372    138.446501\n",
       "198773    170.840000\n",
       "198774    170.840000\n",
       "446105    171.193545\n",
       "266065    181.707098\n",
       "61664     191.557527\n",
       "Name: rev, dtype: float64"
      ]
     },
     "execution_count": 42,
     "metadata": {},
     "output_type": "execute_result"
    }
   ],
   "source": [
    "revenue_short[(revenue_short['day'] == 1)]['rev'].sort_values().tail(20)"
   ]
  },
  {
   "cell_type": "code",
   "execution_count": 43,
   "metadata": {},
   "outputs": [
    {
     "data": {
      "text/html": [
       "<div>\n",
       "<style scoped>\n",
       "    .dataframe tbody tr th:only-of-type {\n",
       "        vertical-align: middle;\n",
       "    }\n",
       "\n",
       "    .dataframe tbody tr th {\n",
       "        vertical-align: top;\n",
       "    }\n",
       "\n",
       "    .dataframe thead th {\n",
       "        text-align: right;\n",
       "    }\n",
       "</style>\n",
       "<table border=\"1\" class=\"dataframe\">\n",
       "  <thead>\n",
       "    <tr style=\"text-align: right;\">\n",
       "      <th></th>\n",
       "      <th>day</th>\n",
       "      <th>rev</th>\n",
       "      <th>return</th>\n",
       "    </tr>\n",
       "  </thead>\n",
       "  <tbody>\n",
       "    <tr>\n",
       "      <th>count</th>\n",
       "      <td>57180.0</td>\n",
       "      <td>57180.000000</td>\n",
       "      <td>57180.000000</td>\n",
       "    </tr>\n",
       "    <tr>\n",
       "      <th>mean</th>\n",
       "      <td>1.0</td>\n",
       "      <td>0.179095</td>\n",
       "      <td>0.248111</td>\n",
       "    </tr>\n",
       "    <tr>\n",
       "      <th>std</th>\n",
       "      <td>0.0</td>\n",
       "      <td>2.511456</td>\n",
       "      <td>0.431920</td>\n",
       "    </tr>\n",
       "    <tr>\n",
       "      <th>min</th>\n",
       "      <td>1.0</td>\n",
       "      <td>0.000000</td>\n",
       "      <td>0.000000</td>\n",
       "    </tr>\n",
       "    <tr>\n",
       "      <th>25%</th>\n",
       "      <td>1.0</td>\n",
       "      <td>0.000000</td>\n",
       "      <td>0.000000</td>\n",
       "    </tr>\n",
       "    <tr>\n",
       "      <th>50%</th>\n",
       "      <td>1.0</td>\n",
       "      <td>0.000000</td>\n",
       "      <td>0.000000</td>\n",
       "    </tr>\n",
       "    <tr>\n",
       "      <th>75%</th>\n",
       "      <td>1.0</td>\n",
       "      <td>0.000000</td>\n",
       "      <td>0.000000</td>\n",
       "    </tr>\n",
       "    <tr>\n",
       "      <th>max</th>\n",
       "      <td>1.0</td>\n",
       "      <td>133.860000</td>\n",
       "      <td>1.000000</td>\n",
       "    </tr>\n",
       "  </tbody>\n",
       "</table>\n",
       "</div>"
      ],
      "text/plain": [
       "           day           rev        return\n",
       "count  57180.0  57180.000000  57180.000000\n",
       "mean       1.0      0.179095      0.248111\n",
       "std        0.0      2.511456      0.431920\n",
       "min        1.0      0.000000      0.000000\n",
       "25%        1.0      0.000000      0.000000\n",
       "50%        1.0      0.000000      0.000000\n",
       "75%        1.0      0.000000      0.000000\n",
       "max        1.0    133.860000      1.000000"
      ]
     },
     "execution_count": 43,
     "metadata": {},
     "output_type": "execute_result"
    }
   ],
   "source": [
    "revenue_short[(revenue_short['configTag'] == 'A') & (revenue_short['day'] == 1) & (revenue_short['rev'] < 150)].describe()"
   ]
  },
  {
   "cell_type": "code",
   "execution_count": 44,
   "metadata": {},
   "outputs": [
    {
     "data": {
      "text/html": [
       "<div>\n",
       "<style scoped>\n",
       "    .dataframe tbody tr th:only-of-type {\n",
       "        vertical-align: middle;\n",
       "    }\n",
       "\n",
       "    .dataframe tbody tr th {\n",
       "        vertical-align: top;\n",
       "    }\n",
       "\n",
       "    .dataframe thead th {\n",
       "        text-align: right;\n",
       "    }\n",
       "</style>\n",
       "<table border=\"1\" class=\"dataframe\">\n",
       "  <thead>\n",
       "    <tr style=\"text-align: right;\">\n",
       "      <th></th>\n",
       "      <th>day</th>\n",
       "      <th>rev</th>\n",
       "      <th>return</th>\n",
       "    </tr>\n",
       "  </thead>\n",
       "  <tbody>\n",
       "    <tr>\n",
       "      <th>count</th>\n",
       "      <td>46687.0</td>\n",
       "      <td>46687.000000</td>\n",
       "      <td>46687.000000</td>\n",
       "    </tr>\n",
       "    <tr>\n",
       "      <th>mean</th>\n",
       "      <td>1.0</td>\n",
       "      <td>0.128372</td>\n",
       "      <td>0.237261</td>\n",
       "    </tr>\n",
       "    <tr>\n",
       "      <th>std</th>\n",
       "      <td>0.0</td>\n",
       "      <td>2.108942</td>\n",
       "      <td>0.425408</td>\n",
       "    </tr>\n",
       "    <tr>\n",
       "      <th>min</th>\n",
       "      <td>1.0</td>\n",
       "      <td>0.000000</td>\n",
       "      <td>0.000000</td>\n",
       "    </tr>\n",
       "    <tr>\n",
       "      <th>25%</th>\n",
       "      <td>1.0</td>\n",
       "      <td>0.000000</td>\n",
       "      <td>0.000000</td>\n",
       "    </tr>\n",
       "    <tr>\n",
       "      <th>50%</th>\n",
       "      <td>1.0</td>\n",
       "      <td>0.000000</td>\n",
       "      <td>0.000000</td>\n",
       "    </tr>\n",
       "    <tr>\n",
       "      <th>75%</th>\n",
       "      <td>1.0</td>\n",
       "      <td>0.000000</td>\n",
       "      <td>0.000000</td>\n",
       "    </tr>\n",
       "    <tr>\n",
       "      <th>max</th>\n",
       "      <td>1.0</td>\n",
       "      <td>138.446501</td>\n",
       "      <td>1.000000</td>\n",
       "    </tr>\n",
       "  </tbody>\n",
       "</table>\n",
       "</div>"
      ],
      "text/plain": [
       "           day           rev        return\n",
       "count  46687.0  46687.000000  46687.000000\n",
       "mean       1.0      0.128372      0.237261\n",
       "std        0.0      2.108942      0.425408\n",
       "min        1.0      0.000000      0.000000\n",
       "25%        1.0      0.000000      0.000000\n",
       "50%        1.0      0.000000      0.000000\n",
       "75%        1.0      0.000000      0.000000\n",
       "max        1.0    138.446501      1.000000"
      ]
     },
     "execution_count": 44,
     "metadata": {},
     "output_type": "execute_result"
    }
   ],
   "source": [
    "revenue_short[(revenue_short['configTag'] == 'B') & (revenue_short['day'] == 1) & (revenue_short['rev'] < 150)].describe()"
   ]
  },
  {
   "cell_type": "code",
   "execution_count": 45,
   "metadata": {},
   "outputs": [
    {
     "data": {
      "text/plain": [
       "configTag\n",
       "A    48985\n",
       "B    40889\n",
       "Name: userID, dtype: int64"
      ]
     },
     "execution_count": 45,
     "metadata": {},
     "output_type": "execute_result"
    }
   ],
   "source": [
    "revenue_short.groupby('configTag')['userID'].nunique()"
   ]
  },
  {
   "cell_type": "code",
   "execution_count": 46,
   "metadata": {},
   "outputs": [],
   "source": [
    "def stat_intervals(stat, alpha):\n",
    "    boundaries = np.percentile(stat, [100 * alpha / 2., 100 * (1 - alpha / 2.)])\n",
    "    return boundaries.round(decimals=2)"
   ]
  },
  {
   "cell_type": "code",
   "execution_count": 47,
   "metadata": {},
   "outputs": [],
   "source": [
    "def get_bootstrap_samples(data, n_samples):\n",
    "    indices = np.random.randint(0, len(data), (n_samples, len(data)))\n",
    "    samples = data[indices]\n",
    "    return samples"
   ]
  },
  {
   "cell_type": "code",
   "execution_count": 48,
   "metadata": {},
   "outputs": [
    {
     "data": {
      "image/png": "[encoded data removed]",
      "text/plain": [
       "<Figure size 1080x360 with 1 Axes>"
      ]
     },
     "metadata": {
      "needs_background": "light"
     },
     "output_type": "display_data"
    },
    {
     "name": "stdout",
     "output_type": "stream",
     "text": [
      "95% confidence interval for mean group A: [0.16 0.2 ]\n",
      "95% confidence interval for mean group B: [0.11 0.15]\n"
     ]
    }
   ],
   "source": [
    "groupA_median_scores = list(map(np.mean, get_bootstrap_samples(revenue_short[(revenue_short['configTag'] == 'A') & (revenue_short['day'] == 1) & (revenue_short['rev'] < 150)]['rev'].values, 10000)))\n",
    "groupB_median_scores = list(map(np.mean, get_bootstrap_samples(revenue_short[(revenue_short['configTag'] == 'B') & (revenue_short['day'] == 1) & (revenue_short['rev'] < 150)]['rev'].values, 10000)))\n",
    "\n",
    "pylab.figure(figsize(15, 5))\n",
    "pylab.subplot(1,2,1)\n",
    "pylab.hist(groupA_median_scores, alpha = .5, color = 'b', label = 'Group A', bins = 100)\n",
    "pylab.legend()\n",
    "\n",
    "pylab.subplot(1,2,1)\n",
    "pylab.hist(groupB_median_scores, alpha = .5, color = 'r', label = 'Group B', bins = 100)\n",
    "pylab.legend()\n",
    "\n",
    "# pylab.subplot(1,2,1)\n",
    "# pylab.hist(groupC_median_scores, alpha = .5, color = 'g', label = 'Group C ARPU 1d', bins = 100)\n",
    "# pylab.legend()\n",
    "\n",
    "pylab.ylabel('Frequency') \n",
    "pylab.xlabel('ARPU 1d') \n",
    "pylab.show()\n",
    "\n",
    "print(\"95% confidence interval for mean group A:\",  stat_intervals(groupA_median_scores, 0.05))\n",
    "print(\"95% confidence interval for mean group B:\",  stat_intervals(groupB_median_scores, 0.05))"
   ]
  },
  {
   "cell_type": "code",
   "execution_count": 49,
   "metadata": {},
   "outputs": [
    {
     "data": {
      "text/plain": [
       "MannwhitneyuResult(statistic=1338414114.0, pvalue=6.232237559573415e-05)"
      ]
     },
     "execution_count": 49,
     "metadata": {},
     "output_type": "execute_result"
    }
   ],
   "source": [
    "scipy.stats.mannwhitneyu(revenue_short[(revenue_short['configTag'] == 'A') & (revenue_short['day'] == 1) & (revenue_short['rev'] < 150)]['rev'].values, revenue_short[(revenue_short['configTag'] == 'B') & (revenue_short['day'] == 1) & (revenue_short['rev'] < 150)]['rev'].values, use_continuity=True, alternative='greater')"
   ]
  },
  {
   "cell_type": "code",
   "execution_count": 50,
   "metadata": {},
   "outputs": [
    {
     "data": {
      "text/plain": [
       "218425    197.440000\n",
       "421192    217.741117\n",
       "151043    224.391576\n",
       "227778    238.086281\n",
       "227777    238.086281\n",
       "106176    264.490000\n",
       "169180    267.740000\n",
       "48574     269.850000\n",
       "155462    274.054240\n",
       "220365    274.860712\n",
       "220364    274.860712\n",
       "282729    309.832583\n",
       "403242    325.690000\n",
       "390854    406.110917\n",
       "409974    519.450000\n",
       "409975    519.450000\n",
       "2326      522.460000\n",
       "437818    566.138989\n",
       "213305    588.943119\n",
       "94530     669.370000\n",
       "Name: rev, dtype: float64"
      ]
     },
     "execution_count": 50,
     "metadata": {},
     "output_type": "execute_result"
    }
   ],
   "source": [
    "revenue_short[(revenue_short['day'] == 7)]['rev'].sort_values().tail(20)"
   ]
  },
  {
   "cell_type": "code",
   "execution_count": 56,
   "metadata": {},
   "outputs": [
    {
     "data": {
      "image/png": "[encoded data removed]",
      "text/plain": [
       "<Figure size 1080x360 with 1 Axes>"
      ]
     },
     "metadata": {
      "needs_background": "light"
     },
     "output_type": "display_data"
    },
    {
     "name": "stdout",
     "output_type": "stream",
     "text": [
      "95% confidence interval for mean group A: [0.3  0.39]\n",
      "95% confidence interval for mean group B: [0.19 0.28]\n"
     ]
    }
   ],
   "source": [
    "groupA_median_scores = list(map(np.mean, get_bootstrap_samples(revenue_short[(revenue_short['configTag'] == 'A') & (revenue_short['day'] == 7) & (revenue_short['installDate'] <= '2023-10-02') & (revenue_short['rev'] < 300)]['rev'].values, 10000)))\n",
    "groupB_median_scores = list(map(np.mean, get_bootstrap_samples(revenue_short[(revenue_short['configTag'] == 'B') & (revenue_short['day'] == 7) & (revenue_short['installDate'] <= '2023-10-02') & (revenue_short['rev'] < 300)]['rev'].values, 10000)))\n",
    "\n",
    "pylab.figure(figsize(15, 5))\n",
    "pylab.subplot(1,2,1)\n",
    "pylab.hist(groupA_median_scores, alpha = .5, color = 'b', label = 'Group A', bins = 100)\n",
    "pylab.legend()\n",
    "\n",
    "pylab.subplot(1,2,1)\n",
    "pylab.hist(groupB_median_scores, alpha = .5, color = 'r', label = 'Group B', bins = 100)\n",
    "pylab.legend()\n",
    "\n",
    "# pylab.subplot(1,2,1)\n",
    "# pylab.hist(groupC_median_scores, alpha = .5, color = 'g', label = 'Group C ARPU 1d', bins = 100)\n",
    "# pylab.legend()\n",
    "\n",
    "pylab.ylabel('Frequency') \n",
    "pylab.xlabel('ARPU 7d') \n",
    "pylab.show()\n",
    "\n",
    "print(\"95% confidence interval for mean group A:\",  stat_intervals(groupA_median_scores, 0.05))\n",
    "print(\"95% confidence interval for mean group B:\",  stat_intervals(groupB_median_scores, 0.05))"
   ]
  },
  {
   "cell_type": "code",
   "execution_count": 57,
   "metadata": {},
   "outputs": [
    {
     "data": {
      "text/plain": [
       "MannwhitneyuResult(statistic=667359357.0, pvalue=3.9445950404633924e-08)"
      ]
     },
     "execution_count": 57,
     "metadata": {},
     "output_type": "execute_result"
    }
   ],
   "source": [
    "scipy.stats.mannwhitneyu(revenue_short[(revenue_short['configTag'] == 'A') & (revenue_short['day'] == 7) & (revenue_short['installDate'] <= '2023-10-02') & (revenue_short['rev'] < 300)]['rev'].values, revenue_short[(revenue_short['configTag'] == 'B') & (revenue_short['day'] == 7) & (revenue_short['installDate'] <= '2023-10-02') & (revenue_short['rev'] < 300)]['rev'].values, use_continuity=True, alternative='greater')"
   ]
  },
  {
   "cell_type": "code",
   "execution_count": 53,
   "metadata": {},
   "outputs": [
    {
     "data": {
      "text/plain": [
       "250068     239.780000\n",
       "90595      256.016624\n",
       "229271     261.804847\n",
       "233074     262.600619\n",
       "32303      264.490000\n",
       "37769      269.850000\n",
       "8631       274.054240\n",
       "309863     322.017382\n",
       "32024      332.660000\n",
       "339293     337.006868\n",
       "339292     337.006868\n",
       "291882     350.680000\n",
       "106527     364.110284\n",
       "347744     406.110917\n",
       "328719     519.450000\n",
       "328720     519.450000\n",
       "406476     582.012551\n",
       "188207     796.190000\n",
       "2327       831.210000\n",
       "338621    1167.817436\n",
       "Name: rev, dtype: float64"
      ]
     },
     "execution_count": 53,
     "metadata": {},
     "output_type": "execute_result"
    }
   ],
   "source": [
    "revenue_short[(revenue_short['day'] == 14)]['rev'].sort_values().tail(20)"
   ]
  },
  {
   "cell_type": "code",
   "execution_count": 58,
   "metadata": {},
   "outputs": [
    {
     "data": {
      "image/png": "[encoded data removed]",
      "text/plain": [
       "<Figure size 1080x360 with 1 Axes>"
      ]
     },
     "metadata": {
      "needs_background": "light"
     },
     "output_type": "display_data"
    },
    {
     "name": "stdout",
     "output_type": "stream",
     "text": [
      "95% confidence interval for mean group A: [0.32 0.47]\n",
      "95% confidence interval for mean group B: [0.21 0.38]\n"
     ]
    }
   ],
   "source": [
    "groupA_median_scores = list(map(np.mean, get_bootstrap_samples(revenue_short[(revenue_short['configTag'] == 'A') & (revenue_short['day'] == 14) & (revenue_short['installDate'] <= '2023-09-25') & (revenue_short['rev'] < 350)]['rev'].values, 10000)))\n",
    "groupB_median_scores = list(map(np.mean, get_bootstrap_samples(revenue_short[(revenue_short['configTag'] == 'B') & (revenue_short['day'] == 14) & (revenue_short['installDate'] <= '2023-09-25') & (revenue_short['rev'] < 350)]['rev'].values, 10000)))\n",
    "\n",
    "pylab.figure(figsize(15, 5))\n",
    "pylab.subplot(1,2,1)\n",
    "pylab.hist(groupA_median_scores, alpha = .5, color = 'b', label = 'Group A', bins = 100)\n",
    "pylab.legend()\n",
    "\n",
    "pylab.subplot(1,2,1)\n",
    "pylab.hist(groupB_median_scores, alpha = .5, color = 'r', label = 'Group B', bins = 100)\n",
    "pylab.legend()\n",
    "\n",
    "# pylab.subplot(1,2,1)\n",
    "# pylab.hist(groupC_median_scores, alpha = .5, color = 'g', label = 'Group C ARPU 1d', bins = 100)\n",
    "# pylab.legend()\n",
    "\n",
    "pylab.ylabel('Frequency') \n",
    "pylab.xlabel('ARPU 14d') \n",
    "pylab.show()\n",
    "\n",
    "print(\"95% confidence interval for mean group A:\",  stat_intervals(groupA_median_scores, 0.05))\n",
    "print(\"95% confidence interval for mean group B:\",  stat_intervals(groupB_median_scores, 0.05))"
   ]
  },
  {
   "cell_type": "code",
   "execution_count": 59,
   "metadata": {},
   "outputs": [
    {
     "data": {
      "text/plain": [
       "MannwhitneyuResult(statistic=211505825.0, pvalue=4.306938250270239e-06)"
      ]
     },
     "execution_count": 59,
     "metadata": {},
     "output_type": "execute_result"
    }
   ],
   "source": [
    "scipy.stats.mannwhitneyu(revenue_short[(revenue_short['configTag'] == 'A') & (revenue_short['day'] == 14) & (revenue_short['installDate'] <= '2023-09-25') & (revenue_short['rev'] < 350)]['rev'].values, revenue_short[(revenue_short['configTag'] == 'B') & (revenue_short['day'] == 14) & (revenue_short['installDate'] <= '2023-09-25') & (revenue_short['rev'] < 350)]['rev'].values, use_continuity=True, alternative='greater')"
   ]
  },
  {
   "cell_type": "code",
   "execution_count": 73,
   "metadata": {},
   "outputs": [
    {
     "data": {
      "text/html": [
       "<div>\n",
       "<style scoped>\n",
       "    .dataframe tbody tr th:only-of-type {\n",
       "        vertical-align: middle;\n",
       "    }\n",
       "\n",
       "    .dataframe tbody tr th {\n",
       "        vertical-align: top;\n",
       "    }\n",
       "\n",
       "    .dataframe thead th {\n",
       "        text-align: right;\n",
       "    }\n",
       "</style>\n",
       "<table border=\"1\" class=\"dataframe\">\n",
       "  <thead>\n",
       "    <tr style=\"text-align: right;\">\n",
       "      <th></th>\n",
       "      <th>day</th>\n",
       "      <th>rev</th>\n",
       "      <th>return</th>\n",
       "      <th>users</th>\n",
       "    </tr>\n",
       "    <tr>\n",
       "      <th>userCountry</th>\n",
       "      <th></th>\n",
       "      <th></th>\n",
       "      <th></th>\n",
       "      <th></th>\n",
       "    </tr>\n",
       "  </thead>\n",
       "  <tbody>\n",
       "    <tr>\n",
       "      <th>AD</th>\n",
       "      <td>7.0</td>\n",
       "      <td>0.000000</td>\n",
       "      <td>0.000000</td>\n",
       "      <td>1</td>\n",
       "    </tr>\n",
       "    <tr>\n",
       "      <th>AE</th>\n",
       "      <td>7.0</td>\n",
       "      <td>0.017686</td>\n",
       "      <td>0.048780</td>\n",
       "      <td>123</td>\n",
       "    </tr>\n",
       "    <tr>\n",
       "      <th>AF</th>\n",
       "      <td>7.0</td>\n",
       "      <td>0.000000</td>\n",
       "      <td>0.000000</td>\n",
       "      <td>25</td>\n",
       "    </tr>\n",
       "    <tr>\n",
       "      <th>AG</th>\n",
       "      <td>7.0</td>\n",
       "      <td>0.000000</td>\n",
       "      <td>0.000000</td>\n",
       "      <td>1</td>\n",
       "    </tr>\n",
       "    <tr>\n",
       "      <th>AL</th>\n",
       "      <td>7.0</td>\n",
       "      <td>0.000000</td>\n",
       "      <td>0.071429</td>\n",
       "      <td>28</td>\n",
       "    </tr>\n",
       "    <tr>\n",
       "      <th>...</th>\n",
       "      <td>...</td>\n",
       "      <td>...</td>\n",
       "      <td>...</td>\n",
       "      <td>...</td>\n",
       "    </tr>\n",
       "    <tr>\n",
       "      <th>WS</th>\n",
       "      <td>7.0</td>\n",
       "      <td>0.000000</td>\n",
       "      <td>0.000000</td>\n",
       "      <td>1</td>\n",
       "    </tr>\n",
       "    <tr>\n",
       "      <th>YE</th>\n",
       "      <td>7.0</td>\n",
       "      <td>0.000000</td>\n",
       "      <td>0.066667</td>\n",
       "      <td>15</td>\n",
       "    </tr>\n",
       "    <tr>\n",
       "      <th>ZA</th>\n",
       "      <td>7.0</td>\n",
       "      <td>0.268724</td>\n",
       "      <td>0.048000</td>\n",
       "      <td>124</td>\n",
       "    </tr>\n",
       "    <tr>\n",
       "      <th>ZM</th>\n",
       "      <td>7.0</td>\n",
       "      <td>0.000000</td>\n",
       "      <td>0.000000</td>\n",
       "      <td>3</td>\n",
       "    </tr>\n",
       "    <tr>\n",
       "      <th>ZW</th>\n",
       "      <td>7.0</td>\n",
       "      <td>0.000000</td>\n",
       "      <td>0.000000</td>\n",
       "      <td>3</td>\n",
       "    </tr>\n",
       "  </tbody>\n",
       "</table>\n",
       "<p>194 rows × 4 columns</p>\n",
       "</div>"
      ],
      "text/plain": [
       "             day       rev    return  users\n",
       "userCountry                                \n",
       "AD           7.0  0.000000  0.000000      1\n",
       "AE           7.0  0.017686  0.048780    123\n",
       "AF           7.0  0.000000  0.000000     25\n",
       "AG           7.0  0.000000  0.000000      1\n",
       "AL           7.0  0.000000  0.071429     28\n",
       "...          ...       ...       ...    ...\n",
       "WS           7.0  0.000000  0.000000      1\n",
       "YE           7.0  0.000000  0.066667     15\n",
       "ZA           7.0  0.268724  0.048000    124\n",
       "ZM           7.0  0.000000  0.000000      3\n",
       "ZW           7.0  0.000000  0.000000      3\n",
       "\n",
       "[194 rows x 4 columns]"
      ]
     },
     "execution_count": 73,
     "metadata": {},
     "output_type": "execute_result"
    }
   ],
   "source": [
    "\n",
    "countries_A = revenue_short[(revenue_short['configTag'] == 'A') & (revenue_short['day'] == 7) & (revenue_short['installDate'] <= '2023-10-02') & (revenue_short['rev'] < 300)].groupby('userCountry').mean().sort_index()\n",
    "countries_A['users'] = revenue_short[(revenue_short['configTag'] == 'A') & (revenue_short['day'] == 7) & (revenue_short['installDate'] <= '2023-10-02') & (revenue_short['rev'] < 300)].groupby('userCountry').nunique()['userID']\n",
    "\n",
    "countries_B = revenue_short[(revenue_short['configTag'] == 'B') & (revenue_short['day'] == 7) & (revenue_short['installDate'] <= '2023-10-02') & (revenue_short['rev'] < 300)].groupby('userCountry').mean().sort_index()\n",
    "countries_B['users'] = revenue_short[(revenue_short['configTag'] == 'B') & (revenue_short['day'] == 7) & (revenue_short['installDate'] <= '2023-10-02') & (revenue_short['rev'] < 300)].groupby('userCountry').nunique()['userID']\n",
    "countries_A"
   ]
  },
  {
   "cell_type": "code",
   "execution_count": 71,
   "metadata": {},
   "outputs": [],
   "source": [
    "Tier0 = ['US'] \n",
    "Tier1 = ['NO','AU','NZ','CH','FR','CA','JP','KR','DE','SE','UK','HK','FI','TW','NL','SG','SK','CN','AT','PT','ES', 'US']\n",
    "Tier2 = ['GU','BH','HR','CY','GE','BG','SI','ME','DK','SA','AE','LV','LT','RO','IL','UA','MY','IE','CZ','BA','PL','IT','HU','EE']"
   ]
  },
  {
   "cell_type": "code",
   "execution_count": 74,
   "metadata": {},
   "outputs": [
    {
     "data": {
      "text/html": [
       "<div>\n",
       "<style scoped>\n",
       "    .dataframe tbody tr th:only-of-type {\n",
       "        vertical-align: middle;\n",
       "    }\n",
       "\n",
       "    .dataframe tbody tr th {\n",
       "        vertical-align: top;\n",
       "    }\n",
       "\n",
       "    .dataframe thead th {\n",
       "        text-align: right;\n",
       "    }\n",
       "</style>\n",
       "<table border=\"1\" class=\"dataframe\">\n",
       "  <thead>\n",
       "    <tr style=\"text-align: right;\">\n",
       "      <th></th>\n",
       "      <th>rev</th>\n",
       "      <th>arpu_A</th>\n",
       "      <th>arpu_B</th>\n",
       "      <th>users_A</th>\n",
       "      <th>users_B</th>\n",
       "      <th>tier</th>\n",
       "    </tr>\n",
       "    <tr>\n",
       "      <th>userCountry</th>\n",
       "      <th></th>\n",
       "      <th></th>\n",
       "      <th></th>\n",
       "      <th></th>\n",
       "      <th></th>\n",
       "      <th></th>\n",
       "    </tr>\n",
       "  </thead>\n",
       "  <tbody>\n",
       "    <tr>\n",
       "      <th>SG</th>\n",
       "      <td>0.921058</td>\n",
       "      <td>1.072219</td>\n",
       "      <td>0.151160</td>\n",
       "      <td>173.0</td>\n",
       "      <td>134.0</td>\n",
       "      <td>Tier01</td>\n",
       "    </tr>\n",
       "    <tr>\n",
       "      <th>CA</th>\n",
       "      <td>0.895192</td>\n",
       "      <td>1.228090</td>\n",
       "      <td>0.332898</td>\n",
       "      <td>280.0</td>\n",
       "      <td>239.0</td>\n",
       "      <td>Tier01</td>\n",
       "    </tr>\n",
       "    <tr>\n",
       "      <th>AU</th>\n",
       "      <td>0.859742</td>\n",
       "      <td>1.183581</td>\n",
       "      <td>0.323839</td>\n",
       "      <td>181.0</td>\n",
       "      <td>144.0</td>\n",
       "      <td>Tier01</td>\n",
       "    </tr>\n",
       "    <tr>\n",
       "      <th>HK</th>\n",
       "      <td>0.765188</td>\n",
       "      <td>0.876015</td>\n",
       "      <td>0.110827</td>\n",
       "      <td>207.0</td>\n",
       "      <td>134.0</td>\n",
       "      <td>Tier01</td>\n",
       "    </tr>\n",
       "    <tr>\n",
       "      <th>HR</th>\n",
       "      <td>0.659002</td>\n",
       "      <td>0.722363</td>\n",
       "      <td>0.063362</td>\n",
       "      <td>97.0</td>\n",
       "      <td>84.0</td>\n",
       "      <td>Tier2</td>\n",
       "    </tr>\n",
       "    <tr>\n",
       "      <th>US</th>\n",
       "      <td>0.583428</td>\n",
       "      <td>1.715262</td>\n",
       "      <td>1.131833</td>\n",
       "      <td>2046.0</td>\n",
       "      <td>1637.0</td>\n",
       "      <td>Tier01</td>\n",
       "    </tr>\n",
       "    <tr>\n",
       "      <th>AT</th>\n",
       "      <td>0.499122</td>\n",
       "      <td>0.882995</td>\n",
       "      <td>0.383873</td>\n",
       "      <td>89.0</td>\n",
       "      <td>65.0</td>\n",
       "      <td>Tier01</td>\n",
       "    </tr>\n",
       "    <tr>\n",
       "      <th>IL</th>\n",
       "      <td>0.469417</td>\n",
       "      <td>0.504225</td>\n",
       "      <td>0.034808</td>\n",
       "      <td>213.0</td>\n",
       "      <td>159.0</td>\n",
       "      <td>Tier2</td>\n",
       "    </tr>\n",
       "    <tr>\n",
       "      <th>TR</th>\n",
       "      <td>0.461447</td>\n",
       "      <td>0.466280</td>\n",
       "      <td>0.004833</td>\n",
       "      <td>573.0</td>\n",
       "      <td>450.0</td>\n",
       "      <td>Tier3</td>\n",
       "    </tr>\n",
       "    <tr>\n",
       "      <th>DE</th>\n",
       "      <td>0.457549</td>\n",
       "      <td>0.849862</td>\n",
       "      <td>0.392312</td>\n",
       "      <td>983.0</td>\n",
       "      <td>774.0</td>\n",
       "      <td>Tier01</td>\n",
       "    </tr>\n",
       "    <tr>\n",
       "      <th>JP</th>\n",
       "      <td>0.427611</td>\n",
       "      <td>0.699676</td>\n",
       "      <td>0.272065</td>\n",
       "      <td>394.0</td>\n",
       "      <td>319.0</td>\n",
       "      <td>Tier01</td>\n",
       "    </tr>\n",
       "    <tr>\n",
       "      <th>NG</th>\n",
       "      <td>0.409347</td>\n",
       "      <td>0.505059</td>\n",
       "      <td>0.095711</td>\n",
       "      <td>85.0</td>\n",
       "      <td>86.0</td>\n",
       "      <td>Tier3</td>\n",
       "    </tr>\n",
       "    <tr>\n",
       "      <th>TW</th>\n",
       "      <td>0.314854</td>\n",
       "      <td>1.011655</td>\n",
       "      <td>0.696801</td>\n",
       "      <td>427.0</td>\n",
       "      <td>345.0</td>\n",
       "      <td>Tier01</td>\n",
       "    </tr>\n",
       "    <tr>\n",
       "      <th>ZA</th>\n",
       "      <td>0.268724</td>\n",
       "      <td>0.268724</td>\n",
       "      <td>0.000000</td>\n",
       "      <td>124.0</td>\n",
       "      <td>103.0</td>\n",
       "      <td>Tier3</td>\n",
       "    </tr>\n",
       "    <tr>\n",
       "      <th>CL</th>\n",
       "      <td>0.193345</td>\n",
       "      <td>0.211840</td>\n",
       "      <td>0.018495</td>\n",
       "      <td>235.0</td>\n",
       "      <td>198.0</td>\n",
       "      <td>Tier3</td>\n",
       "    </tr>\n",
       "    <tr>\n",
       "      <th>BR</th>\n",
       "      <td>0.191315</td>\n",
       "      <td>0.223654</td>\n",
       "      <td>0.032339</td>\n",
       "      <td>827.0</td>\n",
       "      <td>592.0</td>\n",
       "      <td>Tier3</td>\n",
       "    </tr>\n",
       "    <tr>\n",
       "      <th>FR</th>\n",
       "      <td>0.139219</td>\n",
       "      <td>0.429138</td>\n",
       "      <td>0.289919</td>\n",
       "      <td>644.0</td>\n",
       "      <td>506.0</td>\n",
       "      <td>Tier01</td>\n",
       "    </tr>\n",
       "    <tr>\n",
       "      <th>IT</th>\n",
       "      <td>0.133928</td>\n",
       "      <td>0.326828</td>\n",
       "      <td>0.192900</td>\n",
       "      <td>430.0</td>\n",
       "      <td>345.0</td>\n",
       "      <td>Tier2</td>\n",
       "    </tr>\n",
       "    <tr>\n",
       "      <th>IQ</th>\n",
       "      <td>0.130192</td>\n",
       "      <td>0.148176</td>\n",
       "      <td>0.017984</td>\n",
       "      <td>912.0</td>\n",
       "      <td>789.0</td>\n",
       "      <td>Tier3</td>\n",
       "    </tr>\n",
       "    <tr>\n",
       "      <th>HU</th>\n",
       "      <td>0.122085</td>\n",
       "      <td>0.193636</td>\n",
       "      <td>0.071550</td>\n",
       "      <td>164.0</td>\n",
       "      <td>155.0</td>\n",
       "      <td>Tier2</td>\n",
       "    </tr>\n",
       "  </tbody>\n",
       "</table>\n",
       "</div>"
      ],
      "text/plain": [
       "                  rev    arpu_A    arpu_B  users_A  users_B    tier\n",
       "userCountry                                                        \n",
       "SG           0.921058  1.072219  0.151160    173.0    134.0  Tier01\n",
       "CA           0.895192  1.228090  0.332898    280.0    239.0  Tier01\n",
       "AU           0.859742  1.183581  0.323839    181.0    144.0  Tier01\n",
       "HK           0.765188  0.876015  0.110827    207.0    134.0  Tier01\n",
       "HR           0.659002  0.722363  0.063362     97.0     84.0   Tier2\n",
       "US           0.583428  1.715262  1.131833   2046.0   1637.0  Tier01\n",
       "AT           0.499122  0.882995  0.383873     89.0     65.0  Tier01\n",
       "IL           0.469417  0.504225  0.034808    213.0    159.0   Tier2\n",
       "TR           0.461447  0.466280  0.004833    573.0    450.0   Tier3\n",
       "DE           0.457549  0.849862  0.392312    983.0    774.0  Tier01\n",
       "JP           0.427611  0.699676  0.272065    394.0    319.0  Tier01\n",
       "NG           0.409347  0.505059  0.095711     85.0     86.0   Tier3\n",
       "TW           0.314854  1.011655  0.696801    427.0    345.0  Tier01\n",
       "ZA           0.268724  0.268724  0.000000    124.0    103.0   Tier3\n",
       "CL           0.193345  0.211840  0.018495    235.0    198.0   Tier3\n",
       "BR           0.191315  0.223654  0.032339    827.0    592.0   Tier3\n",
       "FR           0.139219  0.429138  0.289919    644.0    506.0  Tier01\n",
       "IT           0.133928  0.326828  0.192900    430.0    345.0   Tier2\n",
       "IQ           0.130192  0.148176  0.017984    912.0    789.0   Tier3\n",
       "HU           0.122085  0.193636  0.071550    164.0    155.0   Tier2"
      ]
     },
     "execution_count": 74,
     "metadata": {},
     "output_type": "execute_result"
    }
   ],
   "source": [
    "countries_diff = countries_A - countries_B\n",
    "countries_diff['users_A'] = countries_A['users']\n",
    "countries_diff['arpu_A'] = countries_A['rev']\n",
    "countries_diff['users_B'] = countries_B['users']\n",
    "countries_diff['arpu_B'] = countries_B['rev']\n",
    "countries_diff = countries_diff.loc[:,['rev', 'arpu_A', 'arpu_B', 'users_A', 'users_B']]\n",
    "countries_diff['tier'] = countries_diff.index\n",
    "countries_diff['tier'] = countries_diff['tier'].apply(lambda x: 'Tier01' if x in Tier1 else 'Tier2' if x in Tier2 else 'Tier3')\n",
    "countries_diff = countries_diff[(countries_diff['users_A'] > 50) & (countries_diff['users_B'] > 50)]\n",
    "countries_diff.sort_values(by=['rev'], ascending=False, inplace=True)\n",
    "countries_diff.head(20)"
   ]
  },
  {
   "cell_type": "code",
   "execution_count": 76,
   "metadata": {},
   "outputs": [
    {
     "data": {
      "text/plain": [
       "(AE, pvalue)    0.890659\n",
       "(AR, pvalue)    0.328753\n",
       "(AU, pvalue)    0.260046\n",
       "(AZ, pvalue)    0.043812\n",
       "(BD, pvalue)    1.000000\n",
       "(BR, pvalue)    0.037011\n",
       "(BY, pvalue)    0.148015\n",
       "(CA, pvalue)    0.101761\n",
       "(CL, pvalue)    0.397388\n",
       "(CN, pvalue)    0.172399\n",
       "(CO, pvalue)    0.536697\n",
       "(CZ, pvalue)    0.381966\n",
       "(DE, pvalue)    0.093422\n",
       "(DZ, pvalue)    1.000000\n",
       "(EG, pvalue)    0.941073\n",
       "(ES, pvalue)    0.805300\n",
       "(FR, pvalue)    0.463506\n",
       "(GE, pvalue)    0.118961\n",
       "(HK, pvalue)    0.206264\n",
       "(HU, pvalue)    0.348747\n",
       "(ID, pvalue)    0.038639\n",
       "(IL, pvalue)    0.045565\n",
       "(IN, pvalue)    0.162721\n",
       "(IQ, pvalue)    0.026732\n",
       "(IT, pvalue)    0.421497\n",
       "(JP, pvalue)    0.168818\n",
       "(KH, pvalue)    1.000000\n",
       "(KR, pvalue)    0.032364\n",
       "(KZ, pvalue)    0.030045\n",
       "(MM, pvalue)    1.000000\n",
       "(MX, pvalue)    0.021989\n",
       "(MY, pvalue)    0.234524\n",
       "(NL, pvalue)    0.825600\n",
       "(PE, pvalue)    1.000000\n",
       "(PH, pvalue)    0.039069\n",
       "(PK, pvalue)    0.096232\n",
       "(PL, pvalue)    0.245474\n",
       "(PT, pvalue)    0.178893\n",
       "(RO, pvalue)    0.258764\n",
       "(RS, pvalue)    0.876738\n",
       "(RU, pvalue)    0.001539\n",
       "(SA, pvalue)    0.817550\n",
       "(SG, pvalue)    0.121730\n",
       "(TH, pvalue)    0.850593\n",
       "(TR, pvalue)    0.000627\n",
       "(TW, pvalue)    0.493268\n",
       "(UA, pvalue)    0.535795\n",
       "(UK, pvalue)    0.263194\n",
       "(US, pvalue)    0.142358\n",
       "(UZ, pvalue)    0.331695\n",
       "(VN, pvalue)    0.474640\n",
       "(ZA, pvalue)    0.031577\n",
       "Name: 1, dtype: float64"
      ]
     },
     "execution_count": 76,
     "metadata": {},
     "output_type": "execute_result"
    }
   ],
   "source": [
    "final_greater = pd.DataFrame()\n",
    "country_users = revenue_short[(revenue_short['day'] == 7) & (revenue_short['installDate'] <= '2023-10-02') & (revenue_short['rev'] < 300)].groupby('userCountry').nunique()['userID']\n",
    "country_users = country_users[country_users >= 200]\n",
    "\n",
    "for country in country_users.index:\n",
    "    country_A = revenue_short[(revenue_short['userCountry'] == country) & (revenue_short['configTag'] == 'A') & (revenue_short['day'] == 7) & (revenue_short['installDate'] <= '2023-10-02') & (revenue_short['rev'] < 300)]\n",
    "    country_B = revenue_short[(revenue_short['userCountry'] == country) & (revenue_short['configTag'] == 'B') & (revenue_short['day'] == 7) & (revenue_short['installDate'] <= '2023-10-02') & (revenue_short['rev'] < 300)]\n",
    "    #print(country_A.head())\n",
    "    #print(country_B.head())\n",
    "    #break\n",
    "    final_greater[country, 'pvalue'] = scipy.stats.mannwhitneyu(country_A['rev'].values, country_B['rev'].values, use_continuity=True, alternative='greater')\n",
    "final_greater = final_greater.loc[1, :]\n",
    "final_greater"
   ]
  },
  {
   "cell_type": "code",
   "execution_count": 77,
   "metadata": {},
   "outputs": [
    {
     "data": {
      "text/plain": [
       "(AE, pvalue)    0.111050\n",
       "(AR, pvalue)    0.672160\n",
       "(AU, pvalue)    0.741040\n",
       "(AZ, pvalue)    0.956496\n",
       "(BD, pvalue)    1.000000\n",
       "(BR, pvalue)    0.963041\n",
       "(BY, pvalue)    0.852903\n",
       "(CA, pvalue)    0.898520\n",
       "(CL, pvalue)    0.604203\n",
       "(CN, pvalue)    0.828945\n",
       "(CO, pvalue)    0.466231\n",
       "(CZ, pvalue)    0.619043\n",
       "(DE, pvalue)    0.906630\n",
       "(DZ, pvalue)    1.000000\n",
       "(EG, pvalue)    0.059330\n",
       "(ES, pvalue)    0.195084\n",
       "(FR, pvalue)    0.536795\n",
       "(GE, pvalue)    0.882775\n",
       "(HK, pvalue)    0.794746\n",
       "(HU, pvalue)    0.653319\n",
       "(ID, pvalue)    0.961399\n",
       "(IL, pvalue)    0.954750\n",
       "(IN, pvalue)    0.837346\n",
       "(IQ, pvalue)    0.973319\n",
       "(IT, pvalue)    0.579087\n",
       "(JP, pvalue)    0.831447\n",
       "(KH, pvalue)    1.000000\n",
       "(KR, pvalue)    0.967672\n",
       "(KZ, pvalue)    0.970155\n",
       "(MM, pvalue)    1.000000\n",
       "(MX, pvalue)    0.978052\n",
       "(MY, pvalue)    0.765828\n",
       "(NL, pvalue)    0.174827\n",
       "(PE, pvalue)    1.000000\n",
       "(PH, pvalue)    0.960977\n",
       "(PK, pvalue)    0.904283\n",
       "(PL, pvalue)    0.754765\n",
       "(PT, pvalue)    0.825221\n",
       "(RO, pvalue)    0.742515\n",
       "(RS, pvalue)    0.125807\n",
       "(RU, pvalue)    0.998461\n",
       "(SA, pvalue)    0.184669\n",
       "(SG, pvalue)    0.878977\n",
       "(TH, pvalue)    0.149520\n",
       "(TR, pvalue)    0.999375\n",
       "(TW, pvalue)    0.507087\n",
       "(UA, pvalue)    0.464412\n",
       "(UK, pvalue)    0.736956\n",
       "(US, pvalue)    0.857655\n",
       "(UZ, pvalue)    0.669492\n",
       "(VN, pvalue)    0.525647\n",
       "(ZA, pvalue)    0.969035\n",
       "Name: 1, dtype: float64"
      ]
     },
     "execution_count": 77,
     "metadata": {},
     "output_type": "execute_result"
    }
   ],
   "source": [
    "final_less = pd.DataFrame()\n",
    "country_users = revenue_short[(revenue_short['day'] == 7) & (revenue_short['installDate'] <= '2023-10-02') & (revenue_short['rev'] < 300)].groupby('userCountry').nunique()['userID']\n",
    "country_users = country_users[country_users >= 200]\n",
    "\n",
    "for country in country_users.index:\n",
    "    country_A = revenue_short[(revenue_short['userCountry'] == country) & (revenue_short['configTag'] == 'A') & (revenue_short['day'] == 7) & (revenue_short['installDate'] <= '2023-10-02') & (revenue_short['rev'] < 300)]\n",
    "    country_B = revenue_short[(revenue_short['userCountry'] == country) & (revenue_short['configTag'] == 'B') & (revenue_short['day'] == 7) & (revenue_short['installDate'] <= '2023-10-02') & (revenue_short['rev'] < 300)]\n",
    "    #print(country_A.head())\n",
    "    #print(country_B.head())\n",
    "    #break\n",
    "    final_less[country, 'pvalue'] = scipy.stats.mannwhitneyu(country_A['rev'].values, country_B['rev'].values, use_continuity=True, alternative='less')\n",
    "final_less = final_less.loc[1, :]\n",
    "final_less"
   ]
  },
  {
   "cell_type": "code",
   "execution_count": 80,
   "metadata": {},
   "outputs": [
    {
     "data": {
      "text/plain": [
       "(TR, pvalue)    0.000627\n",
       "(RU, pvalue)    0.001539\n",
       "(MX, pvalue)    0.021989\n",
       "(IQ, pvalue)    0.026732\n",
       "(KZ, pvalue)    0.030045\n",
       "(ZA, pvalue)    0.031577\n",
       "(KR, pvalue)    0.032364\n",
       "(BR, pvalue)    0.037011\n",
       "(ID, pvalue)    0.038639\n",
       "(PH, pvalue)    0.039069\n",
       "(AZ, pvalue)    0.043812\n",
       "(IL, pvalue)    0.045565\n",
       "(DE, pvalue)    0.093422\n",
       "(PK, pvalue)    0.096232\n",
       "(CA, pvalue)    0.101761\n",
       "(GE, pvalue)    0.118961\n",
       "(SG, pvalue)    0.121730\n",
       "(US, pvalue)    0.142358\n",
       "(BY, pvalue)    0.148015\n",
       "(IN, pvalue)    0.162721\n",
       "Name: 1, dtype: float64"
      ]
     },
     "execution_count": 80,
     "metadata": {},
     "output_type": "execute_result"
    }
   ],
   "source": [
    "final_greater.sort_values(inplace=True)\n",
    "final_greater.head(20)"
   ]
  },
  {
   "cell_type": "code",
   "execution_count": 79,
   "metadata": {},
   "outputs": [
    {
     "data": {
      "text/plain": [
       "(EG, pvalue)    0.059330\n",
       "(AE, pvalue)    0.111050\n",
       "(RS, pvalue)    0.125807\n",
       "(TH, pvalue)    0.149520\n",
       "(NL, pvalue)    0.174827\n",
       "(SA, pvalue)    0.184669\n",
       "(ES, pvalue)    0.195084\n",
       "(UA, pvalue)    0.464412\n",
       "(CO, pvalue)    0.466231\n",
       "(TW, pvalue)    0.507087\n",
       "Name: 1, dtype: float64"
      ]
     },
     "execution_count": 79,
     "metadata": {},
     "output_type": "execute_result"
    }
   ],
   "source": [
    "final_less.sort_values(inplace=True)\n",
    "final_less.head(10)"
   ]
  },
  {
   "cell_type": "code",
   "execution_count": 81,
   "metadata": {},
   "outputs": [
    {
     "data": {
      "text/html": [
       "<div>\n",
       "<style scoped>\n",
       "    .dataframe tbody tr th:only-of-type {\n",
       "        vertical-align: middle;\n",
       "    }\n",
       "\n",
       "    .dataframe tbody tr th {\n",
       "        vertical-align: top;\n",
       "    }\n",
       "\n",
       "    .dataframe thead th {\n",
       "        text-align: right;\n",
       "    }\n",
       "</style>\n",
       "<table border=\"1\" class=\"dataframe\">\n",
       "  <thead>\n",
       "    <tr style=\"text-align: right;\">\n",
       "      <th></th>\n",
       "      <th>arpu_A</th>\n",
       "      <th>arpu_B</th>\n",
       "      <th>users_A</th>\n",
       "      <th>users_B</th>\n",
       "    </tr>\n",
       "    <tr>\n",
       "      <th>userCountry</th>\n",
       "      <th></th>\n",
       "      <th></th>\n",
       "      <th></th>\n",
       "      <th></th>\n",
       "    </tr>\n",
       "  </thead>\n",
       "  <tbody>\n",
       "    <tr>\n",
       "      <th>AZ</th>\n",
       "      <td>0.028295</td>\n",
       "      <td>0.000000</td>\n",
       "      <td>349</td>\n",
       "      <td>341</td>\n",
       "    </tr>\n",
       "    <tr>\n",
       "      <th>BR</th>\n",
       "      <td>0.223654</td>\n",
       "      <td>0.032339</td>\n",
       "      <td>827</td>\n",
       "      <td>592</td>\n",
       "    </tr>\n",
       "    <tr>\n",
       "      <th>ID</th>\n",
       "      <td>0.088155</td>\n",
       "      <td>0.032010</td>\n",
       "      <td>1077</td>\n",
       "      <td>820</td>\n",
       "    </tr>\n",
       "    <tr>\n",
       "      <th>IL</th>\n",
       "      <td>0.504225</td>\n",
       "      <td>0.034808</td>\n",
       "      <td>213</td>\n",
       "      <td>159</td>\n",
       "    </tr>\n",
       "    <tr>\n",
       "      <th>IQ</th>\n",
       "      <td>0.148176</td>\n",
       "      <td>0.017984</td>\n",
       "      <td>912</td>\n",
       "      <td>789</td>\n",
       "    </tr>\n",
       "    <tr>\n",
       "      <th>KR</th>\n",
       "      <td>0.824231</td>\n",
       "      <td>0.843358</td>\n",
       "      <td>670</td>\n",
       "      <td>526</td>\n",
       "    </tr>\n",
       "    <tr>\n",
       "      <th>KZ</th>\n",
       "      <td>0.121856</td>\n",
       "      <td>0.000000</td>\n",
       "      <td>359</td>\n",
       "      <td>319</td>\n",
       "    </tr>\n",
       "    <tr>\n",
       "      <th>MX</th>\n",
       "      <td>0.057160</td>\n",
       "      <td>0.030964</td>\n",
       "      <td>728</td>\n",
       "      <td>615</td>\n",
       "    </tr>\n",
       "    <tr>\n",
       "      <th>PH</th>\n",
       "      <td>0.021327</td>\n",
       "      <td>0.001943</td>\n",
       "      <td>1446</td>\n",
       "      <td>1314</td>\n",
       "    </tr>\n",
       "    <tr>\n",
       "      <th>RU</th>\n",
       "      <td>0.237193</td>\n",
       "      <td>0.145553</td>\n",
       "      <td>6131</td>\n",
       "      <td>4902</td>\n",
       "    </tr>\n",
       "    <tr>\n",
       "      <th>TR</th>\n",
       "      <td>0.466280</td>\n",
       "      <td>0.004833</td>\n",
       "      <td>573</td>\n",
       "      <td>450</td>\n",
       "    </tr>\n",
       "    <tr>\n",
       "      <th>ZA</th>\n",
       "      <td>0.268724</td>\n",
       "      <td>0.000000</td>\n",
       "      <td>124</td>\n",
       "      <td>103</td>\n",
       "    </tr>\n",
       "  </tbody>\n",
       "</table>\n",
       "</div>"
      ],
      "text/plain": [
       "               arpu_A    arpu_B  users_A  users_B\n",
       "userCountry                                      \n",
       "AZ           0.028295  0.000000      349      341\n",
       "BR           0.223654  0.032339      827      592\n",
       "ID           0.088155  0.032010     1077      820\n",
       "IL           0.504225  0.034808      213      159\n",
       "IQ           0.148176  0.017984      912      789\n",
       "KR           0.824231  0.843358      670      526\n",
       "KZ           0.121856  0.000000      359      319\n",
       "MX           0.057160  0.030964      728      615\n",
       "PH           0.021327  0.001943     1446     1314\n",
       "RU           0.237193  0.145553     6131     4902\n",
       "TR           0.466280  0.004833      573      450\n",
       "ZA           0.268724  0.000000      124      103"
      ]
     },
     "execution_count": 81,
     "metadata": {},
     "output_type": "execute_result"
    }
   ],
   "source": [
    "countries_better = revenue_short[revenue_short['userCountry'].isin(['TR', 'RU', 'MX', 'IQ', 'KZ', 'ZA', 'KR', 'BR', 'ID', 'PH', 'AZ', 'IL'])]\n",
    "countries_better = countries_better[(countries_better['day'] == 7) & (countries_better['installDate'] <= '2023-10-02') & (countries_better['rev'] < 300)]\n",
    "countries_better_A = countries_better.groupby('userCountry').mean()\n",
    "countries_better_A['arpu_A'] = countries_better[countries_better['configTag'] == 'A'].groupby('userCountry').mean()['rev']\n",
    "countries_better_A['users_A'] = countries_better[countries_better['configTag'] == 'A'].groupby('userCountry').nunique()['userID']\n",
    "countries_better_A['arpu_B'] = countries_better[countries_better['configTag'] == 'B'].groupby('userCountry').mean()['rev']\n",
    "countries_better_A['users_B'] = countries_better[countries_better['configTag'] == 'B'].groupby('userCountry').nunique()['userID']\n",
    "countries_better_A = countries_better_A[['arpu_A', 'arpu_B', 'users_A', 'users_B']] \n",
    "countries_better_A"
   ]
  }
 ],
 "metadata": {
  "kernelspec": {
   "display_name": "Python 3",
   "language": "python",
   "name": "python3"
  },
  "language_info": {
   "codemirror_mode": {
    "name": "ipython",
    "version": 3
   },
   "file_extension": ".py",
   "mimetype": "text/x-python",
   "name": "python",
   "nbconvert_exporter": "python",
   "pygments_lexer": "ipython3",
   "version": "3.9.12"
  },
  "orig_nbformat": 4
 },
 "nbformat": 4,
 "nbformat_minor": 2
}
