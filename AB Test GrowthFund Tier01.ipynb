{
 "cells": [
  {
   "cell_type": "code",
   "execution_count": 2,
   "metadata": {},
   "outputs": [],
   "source": [
    "import numpy as np\n",
    "import pandas as pd\n",
    "import matplotlib.pyplot as plt\n",
    "\n",
    "import scipy\n",
    "from statsmodels.stats.weightstats import *\n",
    "from statsmodels.stats.proportion import proportion_confint"
   ]
  },
  {
   "cell_type": "code",
   "execution_count": 3,
   "metadata": {},
   "outputs": [
    {
     "name": "stdout",
     "output_type": "stream",
     "text": [
      "%pylab is deprecated, use %matplotlib inline and import the required libraries.\n",
      "Populating the interactive namespace from numpy and matplotlib\n"
     ]
    }
   ],
   "source": [
    "%pylab inline"
   ]
  },
  {
   "cell_type": "code",
   "execution_count": 4,
   "metadata": {},
   "outputs": [
    {
     "data": {
      "text/html": [
       "<div>\n",
       "<style scoped>\n",
       "    .dataframe tbody tr th:only-of-type {\n",
       "        vertical-align: middle;\n",
       "    }\n",
       "\n",
       "    .dataframe tbody tr th {\n",
       "        vertical-align: top;\n",
       "    }\n",
       "\n",
       "    .dataframe thead th {\n",
       "        text-align: right;\n",
       "    }\n",
       "</style>\n",
       "<table border=\"1\" class=\"dataframe\">\n",
       "  <thead>\n",
       "    <tr style=\"text-align: right;\">\n",
       "      <th></th>\n",
       "      <th>userID</th>\n",
       "      <th>configTag</th>\n",
       "      <th>installDate</th>\n",
       "      <th>platform</th>\n",
       "      <th>userCountry</th>\n",
       "      <th>media_source</th>\n",
       "      <th>day</th>\n",
       "      <th>rev</th>\n",
       "      <th>return</th>\n",
       "    </tr>\n",
       "  </thead>\n",
       "  <tbody>\n",
       "    <tr>\n",
       "      <th>0</th>\n",
       "      <td>20aaaf2a-53ed-11ee-ad09-768d261d54b7</td>\n",
       "      <td>A</td>\n",
       "      <td>2023-09-15</td>\n",
       "      <td>android</td>\n",
       "      <td>ZA</td>\n",
       "      <td>Adwords</td>\n",
       "      <td>14</td>\n",
       "      <td>0.0</td>\n",
       "      <td>0</td>\n",
       "    </tr>\n",
       "    <tr>\n",
       "      <th>1</th>\n",
       "      <td>034f00c9-2bf8-11ed-a663-e6cce5d09abb</td>\n",
       "      <td>A</td>\n",
       "      <td>2023-09-16</td>\n",
       "      <td>android</td>\n",
       "      <td>PH</td>\n",
       "      <td>Adwords</td>\n",
       "      <td>1</td>\n",
       "      <td>0.0</td>\n",
       "      <td>0</td>\n",
       "    </tr>\n",
       "    <tr>\n",
       "      <th>2</th>\n",
       "      <td>45782923-c56a-11ec-80e3-8605195f39bf</td>\n",
       "      <td>B</td>\n",
       "      <td>2023-09-17</td>\n",
       "      <td>android</td>\n",
       "      <td>TH</td>\n",
       "      <td>Adwords</td>\n",
       "      <td>7</td>\n",
       "      <td>0.0</td>\n",
       "      <td>0</td>\n",
       "    </tr>\n",
       "    <tr>\n",
       "      <th>3</th>\n",
       "      <td>cc966021-5644-11ee-ad09-768d261d54b7</td>\n",
       "      <td>A</td>\n",
       "      <td>2023-09-18</td>\n",
       "      <td>android</td>\n",
       "      <td>MY</td>\n",
       "      <td>Adwords</td>\n",
       "      <td>14</td>\n",
       "      <td>0.0</td>\n",
       "      <td>0</td>\n",
       "    </tr>\n",
       "    <tr>\n",
       "      <th>4</th>\n",
       "      <td>f4b8d92f-5649-11ee-a806-ee3ae0d98fcd</td>\n",
       "      <td>A</td>\n",
       "      <td>2023-09-18</td>\n",
       "      <td>android</td>\n",
       "      <td>MY</td>\n",
       "      <td>Adwords</td>\n",
       "      <td>1</td>\n",
       "      <td>0.0</td>\n",
       "      <td>0</td>\n",
       "    </tr>\n",
       "  </tbody>\n",
       "</table>\n",
       "</div>"
      ],
      "text/plain": [
       "                                 userID configTag installDate platform  \\\n",
       "0  20aaaf2a-53ed-11ee-ad09-768d261d54b7         A  2023-09-15  android   \n",
       "1  034f00c9-2bf8-11ed-a663-e6cce5d09abb         A  2023-09-16  android   \n",
       "2  45782923-c56a-11ec-80e3-8605195f39bf         B  2023-09-17  android   \n",
       "3  cc966021-5644-11ee-ad09-768d261d54b7         A  2023-09-18  android   \n",
       "4  f4b8d92f-5649-11ee-a806-ee3ae0d98fcd         A  2023-09-18  android   \n",
       "\n",
       "  userCountry media_source  day  rev  return  \n",
       "0          ZA      Adwords   14  0.0       0  \n",
       "1          PH      Adwords    1  0.0       0  \n",
       "2          TH      Adwords    7  0.0       0  \n",
       "3          MY      Adwords   14  0.0       0  \n",
       "4          MY      Adwords    1  0.0       0  "
      ]
     },
     "execution_count": 4,
     "metadata": {},
     "output_type": "execute_result"
    }
   ],
   "source": [
    "revenue = pd.read_csv(r'revenue.csv')\n",
    "revenue.head(5)"
   ]
  },
  {
   "cell_type": "code",
   "execution_count": 5,
   "metadata": {},
   "outputs": [
    {
     "data": {
      "text/html": [
       "<div>\n",
       "<style scoped>\n",
       "    .dataframe tbody tr th:only-of-type {\n",
       "        vertical-align: middle;\n",
       "    }\n",
       "\n",
       "    .dataframe tbody tr th {\n",
       "        vertical-align: top;\n",
       "    }\n",
       "\n",
       "    .dataframe thead th {\n",
       "        text-align: right;\n",
       "    }\n",
       "</style>\n",
       "<table border=\"1\" class=\"dataframe\">\n",
       "  <thead>\n",
       "    <tr style=\"text-align: right;\">\n",
       "      <th></th>\n",
       "      <th>userID</th>\n",
       "      <th>configTag</th>\n",
       "      <th>installDate</th>\n",
       "      <th>platform</th>\n",
       "      <th>userCountry</th>\n",
       "      <th>media_source</th>\n",
       "      <th>day</th>\n",
       "      <th>rev</th>\n",
       "      <th>return</th>\n",
       "    </tr>\n",
       "  </thead>\n",
       "  <tbody>\n",
       "    <tr>\n",
       "      <th>0</th>\n",
       "      <td>20aaaf2a-53ed-11ee-ad09-768d261d54b7</td>\n",
       "      <td>A</td>\n",
       "      <td>2023-09-15</td>\n",
       "      <td>android</td>\n",
       "      <td>ZA</td>\n",
       "      <td>Adwords</td>\n",
       "      <td>14</td>\n",
       "      <td>0.0</td>\n",
       "      <td>0</td>\n",
       "    </tr>\n",
       "    <tr>\n",
       "      <th>1</th>\n",
       "      <td>034f00c9-2bf8-11ed-a663-e6cce5d09abb</td>\n",
       "      <td>A</td>\n",
       "      <td>2023-09-16</td>\n",
       "      <td>android</td>\n",
       "      <td>PH</td>\n",
       "      <td>Adwords</td>\n",
       "      <td>1</td>\n",
       "      <td>0.0</td>\n",
       "      <td>0</td>\n",
       "    </tr>\n",
       "    <tr>\n",
       "      <th>2</th>\n",
       "      <td>45782923-c56a-11ec-80e3-8605195f39bf</td>\n",
       "      <td>B</td>\n",
       "      <td>2023-09-17</td>\n",
       "      <td>android</td>\n",
       "      <td>TH</td>\n",
       "      <td>Adwords</td>\n",
       "      <td>7</td>\n",
       "      <td>0.0</td>\n",
       "      <td>0</td>\n",
       "    </tr>\n",
       "    <tr>\n",
       "      <th>3</th>\n",
       "      <td>cc966021-5644-11ee-ad09-768d261d54b7</td>\n",
       "      <td>A</td>\n",
       "      <td>2023-09-18</td>\n",
       "      <td>android</td>\n",
       "      <td>MY</td>\n",
       "      <td>Adwords</td>\n",
       "      <td>14</td>\n",
       "      <td>0.0</td>\n",
       "      <td>0</td>\n",
       "    </tr>\n",
       "    <tr>\n",
       "      <th>4</th>\n",
       "      <td>f4b8d92f-5649-11ee-a806-ee3ae0d98fcd</td>\n",
       "      <td>A</td>\n",
       "      <td>2023-09-18</td>\n",
       "      <td>android</td>\n",
       "      <td>MY</td>\n",
       "      <td>Adwords</td>\n",
       "      <td>1</td>\n",
       "      <td>0.0</td>\n",
       "      <td>0</td>\n",
       "    </tr>\n",
       "  </tbody>\n",
       "</table>\n",
       "</div>"
      ],
      "text/plain": [
       "                                 userID configTag installDate platform  \\\n",
       "0  20aaaf2a-53ed-11ee-ad09-768d261d54b7         A  2023-09-15  android   \n",
       "1  034f00c9-2bf8-11ed-a663-e6cce5d09abb         A  2023-09-16  android   \n",
       "2  45782923-c56a-11ec-80e3-8605195f39bf         B  2023-09-17  android   \n",
       "3  cc966021-5644-11ee-ad09-768d261d54b7         A  2023-09-18  android   \n",
       "4  f4b8d92f-5649-11ee-a806-ee3ae0d98fcd         A  2023-09-18  android   \n",
       "\n",
       "  userCountry media_source  day  rev  return  \n",
       "0          ZA      Adwords   14  0.0       0  \n",
       "1          PH      Adwords    1  0.0       0  \n",
       "2          TH      Adwords    7  0.0       0  \n",
       "3          MY      Adwords   14  0.0       0  \n",
       "4          MY      Adwords    1  0.0       0  "
      ]
     },
     "execution_count": 5,
     "metadata": {},
     "output_type": "execute_result"
    }
   ],
   "source": [
    "revenue_short = revenue[revenue['installDate'] >= '2023-09-18']\n",
    "revenue.head(5)"
   ]
  },
  {
   "cell_type": "code",
   "execution_count": 6,
   "metadata": {},
   "outputs": [
    {
     "name": "stdout",
     "output_type": "stream",
     "text": [
      "<class 'pandas.core.frame.DataFrame'>\n",
      "Int64Index: 415508 entries, 3 to 447375\n",
      "Data columns (total 9 columns):\n",
      " #   Column        Non-Null Count   Dtype  \n",
      "---  ------        --------------   -----  \n",
      " 0   userID        415508 non-null  object \n",
      " 1   configTag     415508 non-null  object \n",
      " 2   installDate   415508 non-null  object \n",
      " 3   platform      415508 non-null  object \n",
      " 4   userCountry   415312 non-null  object \n",
      " 5   media_source  415508 non-null  object \n",
      " 6   day           415508 non-null  int64  \n",
      " 7   rev           415508 non-null  float64\n",
      " 8   return        415508 non-null  int64  \n",
      "dtypes: float64(1), int64(2), object(6)\n",
      "memory usage: 31.7+ MB\n"
     ]
    }
   ],
   "source": [
    "revenue_short.info()"
   ]
  },
  {
   "cell_type": "code",
   "execution_count": 7,
   "metadata": {},
   "outputs": [],
   "source": [
    "Tier0 = ['US'] \n",
    "Tier1 = ['NO','AU','NZ','CH','FR','CA','JP','KR','DE','SE','UK','HK','FI','TW','NL','SG','SK','CN','AT','PT','ES', 'US']\n",
    "Tier2 = ['GU','BH','HR','CY','GE','BG','SI','ME','DK','SA','AE','LV','LT','RO','IL','UA','MY','IE','CZ','BA','PL','IT','HU','EE']"
   ]
  },
  {
   "cell_type": "code",
   "execution_count": 9,
   "metadata": {},
   "outputs": [
    {
     "name": "stdout",
     "output_type": "stream",
     "text": [
      "<class 'pandas.core.frame.DataFrame'>\n",
      "Int64Index: 30684 entries, 197571 to 447374\n",
      "Data columns (total 9 columns):\n",
      " #   Column        Non-Null Count  Dtype  \n",
      "---  ------        --------------  -----  \n",
      " 0   userID        30684 non-null  object \n",
      " 1   configTag     30684 non-null  object \n",
      " 2   installDate   30684 non-null  object \n",
      " 3   platform      30684 non-null  object \n",
      " 4   userCountry   30684 non-null  object \n",
      " 5   media_source  30684 non-null  object \n",
      " 6   day           30684 non-null  int64  \n",
      " 7   rev           30684 non-null  float64\n",
      " 8   return        30684 non-null  int64  \n",
      "dtypes: float64(1), int64(2), object(6)\n",
      "memory usage: 2.3+ MB\n"
     ]
    }
   ],
   "source": [
    "revenue_short = revenue_short[revenue_short['platform'] == 'android']\n",
    "revenue_short = revenue_short[revenue_short['media_source'] == 'Organic']\n",
    "revenue_short = revenue_short[revenue_short['userCountry'].isin(Tier0 + Tier1)]\n",
    "revenue_short.info()"
   ]
  },
  {
   "cell_type": "code",
   "execution_count": 10,
   "metadata": {},
   "outputs": [
    {
     "data": {
      "text/plain": [
       "266365     27.545711\n",
       "310393     28.612689\n",
       "247316     29.555026\n",
       "361259     32.004696\n",
       "361946     32.468632\n",
       "439250     34.112543\n",
       "340860     34.643280\n",
       "281919     36.870000\n",
       "281920     36.870000\n",
       "418083     37.930000\n",
       "339318     39.820053\n",
       "374889     43.373232\n",
       "347749     43.970000\n",
       "305818     47.359709\n",
       "441597     60.960587\n",
       "225083     61.538249\n",
       "327903     63.950000\n",
       "400376    110.040878\n",
       "228402    168.146441\n",
       "408524    222.900000\n",
       "Name: rev, dtype: float64"
      ]
     },
     "execution_count": 10,
     "metadata": {},
     "output_type": "execute_result"
    }
   ],
   "source": [
    "revenue_short[(revenue_short['day'] == 1)]['rev'].sort_values().tail(20)"
   ]
  },
  {
   "cell_type": "code",
   "execution_count": 11,
   "metadata": {},
   "outputs": [
    {
     "data": {
      "text/plain": [
       "264746     25.123294\n",
       "408882     25.657236\n",
       "266365     27.545711\n",
       "310393     28.612689\n",
       "247316     29.555026\n",
       "361259     32.004696\n",
       "361946     32.468632\n",
       "439250     34.112543\n",
       "340860     34.643280\n",
       "281920     36.870000\n",
       "281919     36.870000\n",
       "418083     37.930000\n",
       "339318     39.820053\n",
       "374889     43.373232\n",
       "347749     43.970000\n",
       "305818     47.359709\n",
       "441597     60.960587\n",
       "225083     61.538249\n",
       "327903     63.950000\n",
       "400376    110.040878\n",
       "Name: rev, dtype: float64"
      ]
     },
     "execution_count": 11,
     "metadata": {},
     "output_type": "execute_result"
    }
   ],
   "source": [
    "revenue_short[(revenue_short['day'] == 1) & (revenue_short['rev'] < 150)]['rev'].sort_values().tail(20)"
   ]
  },
  {
   "cell_type": "code",
   "execution_count": 12,
   "metadata": {},
   "outputs": [],
   "source": [
    "revenue_short = revenue_short[revenue_short['userID'].isin(revenue_short[(revenue_short['day'] == 1) & (revenue_short['rev'] < 150)]['userID'])]"
   ]
  },
  {
   "cell_type": "code",
   "execution_count": 13,
   "metadata": {},
   "outputs": [
    {
     "data": {
      "text/plain": [
       "264746     25.123294\n",
       "408882     25.657236\n",
       "266365     27.545711\n",
       "310393     28.612689\n",
       "247316     29.555026\n",
       "361259     32.004696\n",
       "361946     32.468632\n",
       "439250     34.112543\n",
       "340860     34.643280\n",
       "281920     36.870000\n",
       "281919     36.870000\n",
       "418083     37.930000\n",
       "339318     39.820053\n",
       "374889     43.373232\n",
       "347749     43.970000\n",
       "305818     47.359709\n",
       "441597     60.960587\n",
       "225083     61.538249\n",
       "327903     63.950000\n",
       "400376    110.040878\n",
       "Name: rev, dtype: float64"
      ]
     },
     "execution_count": 13,
     "metadata": {},
     "output_type": "execute_result"
    }
   ],
   "source": [
    "revenue_short[(revenue_short['day'] == 1)]['rev'].sort_values().tail(20)"
   ]
  },
  {
   "cell_type": "code",
   "execution_count": 14,
   "metadata": {},
   "outputs": [
    {
     "data": {
      "text/html": [
       "<div>\n",
       "<style scoped>\n",
       "    .dataframe tbody tr th:only-of-type {\n",
       "        vertical-align: middle;\n",
       "    }\n",
       "\n",
       "    .dataframe tbody tr th {\n",
       "        vertical-align: top;\n",
       "    }\n",
       "\n",
       "    .dataframe thead th {\n",
       "        text-align: right;\n",
       "    }\n",
       "</style>\n",
       "<table border=\"1\" class=\"dataframe\">\n",
       "  <thead>\n",
       "    <tr style=\"text-align: right;\">\n",
       "      <th></th>\n",
       "      <th>day</th>\n",
       "      <th>rev</th>\n",
       "      <th>return</th>\n",
       "    </tr>\n",
       "  </thead>\n",
       "  <tbody>\n",
       "    <tr>\n",
       "      <th>count</th>\n",
       "      <td>4453.0</td>\n",
       "      <td>4453.000000</td>\n",
       "      <td>4453.000000</td>\n",
       "    </tr>\n",
       "    <tr>\n",
       "      <th>mean</th>\n",
       "      <td>1.0</td>\n",
       "      <td>0.263416</td>\n",
       "      <td>0.271502</td>\n",
       "    </tr>\n",
       "    <tr>\n",
       "      <th>std</th>\n",
       "      <td>0.0</td>\n",
       "      <td>3.224003</td>\n",
       "      <td>0.444785</td>\n",
       "    </tr>\n",
       "    <tr>\n",
       "      <th>min</th>\n",
       "      <td>1.0</td>\n",
       "      <td>0.000000</td>\n",
       "      <td>0.000000</td>\n",
       "    </tr>\n",
       "    <tr>\n",
       "      <th>25%</th>\n",
       "      <td>1.0</td>\n",
       "      <td>0.000000</td>\n",
       "      <td>0.000000</td>\n",
       "    </tr>\n",
       "    <tr>\n",
       "      <th>50%</th>\n",
       "      <td>1.0</td>\n",
       "      <td>0.000000</td>\n",
       "      <td>0.000000</td>\n",
       "    </tr>\n",
       "    <tr>\n",
       "      <th>75%</th>\n",
       "      <td>1.0</td>\n",
       "      <td>0.000000</td>\n",
       "      <td>1.000000</td>\n",
       "    </tr>\n",
       "    <tr>\n",
       "      <th>max</th>\n",
       "      <td>1.0</td>\n",
       "      <td>110.040878</td>\n",
       "      <td>1.000000</td>\n",
       "    </tr>\n",
       "  </tbody>\n",
       "</table>\n",
       "</div>"
      ],
      "text/plain": [
       "          day          rev       return\n",
       "count  4453.0  4453.000000  4453.000000\n",
       "mean      1.0     0.263416     0.271502\n",
       "std       0.0     3.224003     0.444785\n",
       "min       1.0     0.000000     0.000000\n",
       "25%       1.0     0.000000     0.000000\n",
       "50%       1.0     0.000000     0.000000\n",
       "75%       1.0     0.000000     1.000000\n",
       "max       1.0   110.040878     1.000000"
      ]
     },
     "execution_count": 14,
     "metadata": {},
     "output_type": "execute_result"
    }
   ],
   "source": [
    "revenue_short[(revenue_short['configTag'] == 'A') & (revenue_short['day'] == 1) & (revenue_short['rev'] < 150)].describe()"
   ]
  },
  {
   "cell_type": "code",
   "execution_count": 15,
   "metadata": {},
   "outputs": [
    {
     "data": {
      "text/html": [
       "<div>\n",
       "<style scoped>\n",
       "    .dataframe tbody tr th:only-of-type {\n",
       "        vertical-align: middle;\n",
       "    }\n",
       "\n",
       "    .dataframe tbody tr th {\n",
       "        vertical-align: top;\n",
       "    }\n",
       "\n",
       "    .dataframe thead th {\n",
       "        text-align: right;\n",
       "    }\n",
       "</style>\n",
       "<table border=\"1\" class=\"dataframe\">\n",
       "  <thead>\n",
       "    <tr style=\"text-align: right;\">\n",
       "      <th></th>\n",
       "      <th>day</th>\n",
       "      <th>rev</th>\n",
       "      <th>return</th>\n",
       "    </tr>\n",
       "  </thead>\n",
       "  <tbody>\n",
       "    <tr>\n",
       "      <th>count</th>\n",
       "      <td>3216.0</td>\n",
       "      <td>3216.000000</td>\n",
       "      <td>3216.000000</td>\n",
       "    </tr>\n",
       "    <tr>\n",
       "      <th>mean</th>\n",
       "      <td>1.0</td>\n",
       "      <td>0.088469</td>\n",
       "      <td>0.251244</td>\n",
       "    </tr>\n",
       "    <tr>\n",
       "      <th>std</th>\n",
       "      <td>0.0</td>\n",
       "      <td>1.273456</td>\n",
       "      <td>0.433796</td>\n",
       "    </tr>\n",
       "    <tr>\n",
       "      <th>min</th>\n",
       "      <td>1.0</td>\n",
       "      <td>0.000000</td>\n",
       "      <td>0.000000</td>\n",
       "    </tr>\n",
       "    <tr>\n",
       "      <th>25%</th>\n",
       "      <td>1.0</td>\n",
       "      <td>0.000000</td>\n",
       "      <td>0.000000</td>\n",
       "    </tr>\n",
       "    <tr>\n",
       "      <th>50%</th>\n",
       "      <td>1.0</td>\n",
       "      <td>0.000000</td>\n",
       "      <td>0.000000</td>\n",
       "    </tr>\n",
       "    <tr>\n",
       "      <th>75%</th>\n",
       "      <td>1.0</td>\n",
       "      <td>0.000000</td>\n",
       "      <td>1.000000</td>\n",
       "    </tr>\n",
       "    <tr>\n",
       "      <th>max</th>\n",
       "      <td>1.0</td>\n",
       "      <td>32.468632</td>\n",
       "      <td>1.000000</td>\n",
       "    </tr>\n",
       "  </tbody>\n",
       "</table>\n",
       "</div>"
      ],
      "text/plain": [
       "          day          rev       return\n",
       "count  3216.0  3216.000000  3216.000000\n",
       "mean      1.0     0.088469     0.251244\n",
       "std       0.0     1.273456     0.433796\n",
       "min       1.0     0.000000     0.000000\n",
       "25%       1.0     0.000000     0.000000\n",
       "50%       1.0     0.000000     0.000000\n",
       "75%       1.0     0.000000     1.000000\n",
       "max       1.0    32.468632     1.000000"
      ]
     },
     "execution_count": 15,
     "metadata": {},
     "output_type": "execute_result"
    }
   ],
   "source": [
    "revenue_short[(revenue_short['configTag'] == 'B') & (revenue_short['day'] == 1) & (revenue_short['rev'] < 150)].describe()"
   ]
  },
  {
   "cell_type": "code",
   "execution_count": 16,
   "metadata": {},
   "outputs": [
    {
     "data": {
      "text/plain": [
       "configTag\n",
       "A    3811\n",
       "B    2880\n",
       "Name: userID, dtype: int64"
      ]
     },
     "execution_count": 16,
     "metadata": {},
     "output_type": "execute_result"
    }
   ],
   "source": [
    "revenue_short.groupby('configTag')['userID'].nunique()"
   ]
  },
  {
   "cell_type": "code",
   "execution_count": 17,
   "metadata": {},
   "outputs": [],
   "source": [
    "def stat_intervals(stat, alpha):\n",
    "    boundaries = np.percentile(stat, [100 * alpha / 2., 100 * (1 - alpha / 2.)])\n",
    "    return boundaries.round(decimals=2)"
   ]
  },
  {
   "cell_type": "code",
   "execution_count": 18,
   "metadata": {},
   "outputs": [],
   "source": [
    "def get_bootstrap_samples(data, n_samples):\n",
    "    indices = np.random.randint(0, len(data), (n_samples, len(data)))\n",
    "    samples = data[indices]\n",
    "    return samples"
   ]
  },
  {
   "cell_type": "code",
   "execution_count": 19,
   "metadata": {},
   "outputs": [
    {
     "data": {
      "image/png": "[encoded data removed]",
      "text/plain": [
       "<Figure size 1080x360 with 1 Axes>"
      ]
     },
     "metadata": {
      "needs_background": "light"
     },
     "output_type": "display_data"
    },
    {
     "name": "stdout",
     "output_type": "stream",
     "text": [
      "95% confidence interval for mean group A: [0.17 0.36]\n",
      "95% confidence interval for mean group B: [0.05 0.14]\n"
     ]
    }
   ],
   "source": [
    "groupA_median_scores = list(map(np.mean, get_bootstrap_samples(revenue_short[(revenue_short['configTag'] == 'A') & (revenue_short['day'] == 1) & (revenue_short['rev'] < 150)]['rev'].values, 10000)))\n",
    "groupB_median_scores = list(map(np.mean, get_bootstrap_samples(revenue_short[(revenue_short['configTag'] == 'B') & (revenue_short['day'] == 1) & (revenue_short['rev'] < 150)]['rev'].values, 10000)))\n",
    "\n",
    "pylab.figure(figsize(15, 5))\n",
    "pylab.subplot(1,2,1)\n",
    "pylab.hist(groupA_median_scores, alpha = .5, color = 'b', label = 'Group A', bins = 100)\n",
    "pylab.legend()\n",
    "\n",
    "pylab.subplot(1,2,1)\n",
    "pylab.hist(groupB_median_scores, alpha = .5, color = 'r', label = 'Group B', bins = 100)\n",
    "pylab.legend()\n",
    "\n",
    "# pylab.subplot(1,2,1)\n",
    "# pylab.hist(groupC_median_scores, alpha = .5, color = 'g', label = 'Group C ARPU 1d', bins = 100)\n",
    "# pylab.legend()\n",
    "\n",
    "pylab.ylabel('Frequency') \n",
    "pylab.xlabel('ARPU 1d') \n",
    "pylab.show()\n",
    "\n",
    "print(\"95% confidence interval for mean group A:\",  stat_intervals(groupA_median_scores, 0.05))\n",
    "print(\"95% confidence interval for mean group B:\",  stat_intervals(groupB_median_scores, 0.05))"
   ]
  },
  {
   "cell_type": "code",
   "execution_count": 20,
   "metadata": {},
   "outputs": [
    {
     "data": {
      "text/plain": [
       "MannwhitneyuResult(statistic=7211350.5, pvalue=0.0028544795417063187)"
      ]
     },
     "execution_count": 20,
     "metadata": {},
     "output_type": "execute_result"
    }
   ],
   "source": [
    "scipy.stats.mannwhitneyu(revenue_short[(revenue_short['configTag'] == 'A') & (revenue_short['day'] == 1) & (revenue_short['rev'] < 150)]['rev'].values, revenue_short[(revenue_short['configTag'] == 'B') & (revenue_short['day'] == 1) & (revenue_short['rev'] < 150)]['rev'].values, use_continuity=True, alternative='greater')"
   ]
  },
  {
   "cell_type": "code",
   "execution_count": 21,
   "metadata": {},
   "outputs": [
    {
     "data": {
      "text/plain": [
       "384196     47.359709\n",
       "273900     49.900000\n",
       "198335     56.247139\n",
       "385817     56.683948\n",
       "200375     58.841340\n",
       "213375     59.258562\n",
       "253008     60.960587\n",
       "374129     67.890000\n",
       "218415     67.950000\n",
       "414528     79.296088\n",
       "284795     85.890000\n",
       "205252     93.124329\n",
       "329450    118.936170\n",
       "249636    126.982151\n",
       "403235    138.860000\n",
       "324347    156.820000\n",
       "218425    197.440000\n",
       "218426    197.440000\n",
       "282729    309.832583\n",
       "437818    566.138989\n",
       "Name: rev, dtype: float64"
      ]
     },
     "execution_count": 21,
     "metadata": {},
     "output_type": "execute_result"
    }
   ],
   "source": [
    "revenue_short[(revenue_short['day'] == 7)]['rev'].sort_values().tail(20)"
   ]
  },
  {
   "cell_type": "code",
   "execution_count": 22,
   "metadata": {},
   "outputs": [
    {
     "data": {
      "image/png": "[encoded data removed]",
      "text/plain": [
       "<Figure size 1080x360 with 1 Axes>"
      ]
     },
     "metadata": {
      "needs_background": "light"
     },
     "output_type": "display_data"
    },
    {
     "name": "stdout",
     "output_type": "stream",
     "text": [
      "95% confidence interval for mean group A: [0.41 0.84]\n",
      "95% confidence interval for mean group B: [0.05 0.19]\n"
     ]
    }
   ],
   "source": [
    "groupA_median_scores = list(map(np.mean, get_bootstrap_samples(revenue_short[(revenue_short['configTag'] == 'A') & (revenue_short['day'] == 7) & (revenue_short['installDate'] <= '2023-10-02') & (revenue_short['rev'] < 300)]['rev'].values, 10000)))\n",
    "groupB_median_scores = list(map(np.mean, get_bootstrap_samples(revenue_short[(revenue_short['configTag'] == 'B') & (revenue_short['day'] == 7) & (revenue_short['installDate'] <= '2023-10-02') & (revenue_short['rev'] < 300)]['rev'].values, 10000)))\n",
    "\n",
    "pylab.figure(figsize(15, 5))\n",
    "pylab.subplot(1,2,1)\n",
    "pylab.hist(groupA_median_scores, alpha = .5, color = 'b', label = 'Group A', bins = 100)\n",
    "pylab.legend()\n",
    "\n",
    "pylab.subplot(1,2,1)\n",
    "pylab.hist(groupB_median_scores, alpha = .5, color = 'r', label = 'Group B', bins = 100)\n",
    "pylab.legend()\n",
    "\n",
    "# pylab.subplot(1,2,1)\n",
    "# pylab.hist(groupC_median_scores, alpha = .5, color = 'g', label = 'Group C ARPU 1d', bins = 100)\n",
    "# pylab.legend()\n",
    "\n",
    "pylab.ylabel('Frequency') \n",
    "pylab.xlabel('ARPU 7d') \n",
    "pylab.show()\n",
    "\n",
    "print(\"95% confidence interval for mean group A:\",  stat_intervals(groupA_median_scores, 0.05))\n",
    "print(\"95% confidence interval for mean group B:\",  stat_intervals(groupB_median_scores, 0.05))"
   ]
  },
  {
   "cell_type": "code",
   "execution_count": 23,
   "metadata": {},
   "outputs": [
    {
     "data": {
      "text/plain": [
       "MannwhitneyuResult(statistic=3395066.0, pvalue=6.623281759210251e-05)"
      ]
     },
     "execution_count": 23,
     "metadata": {},
     "output_type": "execute_result"
    }
   ],
   "source": [
    "scipy.stats.mannwhitneyu(revenue_short[(revenue_short['configTag'] == 'A') & (revenue_short['day'] == 7) & (revenue_short['installDate'] <= '2023-10-02') & (revenue_short['rev'] < 300)]['rev'].values, revenue_short[(revenue_short['configTag'] == 'B') & (revenue_short['day'] == 7) & (revenue_short['installDate'] <= '2023-10-02') & (revenue_short['rev'] < 300)]['rev'].values, use_continuity=True, alternative='greater')"
   ]
  },
  {
   "cell_type": "code",
   "execution_count": 24,
   "metadata": {},
   "outputs": [
    {
     "data": {
      "text/plain": [
       "333404     54.266611\n",
       "319193     56.247139\n",
       "370440     60.960587\n",
       "371454     67.890000\n",
       "197711     77.121750\n",
       "405602     79.296088\n",
       "210795     83.900000\n",
       "327970     93.124329\n",
       "382639    103.860000\n",
       "202926    126.982151\n",
       "407507    144.160066\n",
       "297689    157.840000\n",
       "332392    169.830000\n",
       "285893    170.024548\n",
       "218416    196.760000\n",
       "331554    236.330000\n",
       "331555    236.330000\n",
       "229271    261.804847\n",
       "309863    322.017382\n",
       "406476    582.012551\n",
       "Name: rev, dtype: float64"
      ]
     },
     "execution_count": 24,
     "metadata": {},
     "output_type": "execute_result"
    }
   ],
   "source": [
    "revenue_short[(revenue_short['day'] == 14)]['rev'].sort_values().tail(20)"
   ]
  },
  {
   "cell_type": "code",
   "execution_count": 25,
   "metadata": {},
   "outputs": [
    {
     "data": {
      "image/png": "[encoded data removed]",
      "text/plain": [
       "<Figure size 1080x360 with 1 Axes>"
      ]
     },
     "metadata": {
      "needs_background": "light"
     },
     "output_type": "display_data"
    },
    {
     "name": "stdout",
     "output_type": "stream",
     "text": [
      "95% confidence interval for mean group A: [0.39 1.56]\n",
      "95% confidence interval for mean group B: [0.01 0.11]\n"
     ]
    }
   ],
   "source": [
    "groupA_median_scores = list(map(np.mean, get_bootstrap_samples(revenue_short[(revenue_short['configTag'] == 'A') & (revenue_short['day'] == 14) & (revenue_short['installDate'] <= '2023-09-25') & (revenue_short['rev'] < 350)]['rev'].values, 10000)))\n",
    "groupB_median_scores = list(map(np.mean, get_bootstrap_samples(revenue_short[(revenue_short['configTag'] == 'B') & (revenue_short['day'] == 14) & (revenue_short['installDate'] <= '2023-09-25') & (revenue_short['rev'] < 350)]['rev'].values, 10000)))\n",
    "\n",
    "pylab.figure(figsize(15, 5))\n",
    "pylab.subplot(1,2,1)\n",
    "pylab.hist(groupA_median_scores, alpha = .5, color = 'b', label = 'Group A', bins = 100)\n",
    "pylab.legend()\n",
    "\n",
    "pylab.subplot(1,2,1)\n",
    "pylab.hist(groupB_median_scores, alpha = .5, color = 'r', label = 'Group B', bins = 100)\n",
    "pylab.legend()\n",
    "\n",
    "# pylab.subplot(1,2,1)\n",
    "# pylab.hist(groupC_median_scores, alpha = .5, color = 'g', label = 'Group C ARPU 1d', bins = 100)\n",
    "# pylab.legend()\n",
    "\n",
    "pylab.ylabel('Frequency') \n",
    "pylab.xlabel('ARPU 14d') \n",
    "pylab.show()\n",
    "\n",
    "print(\"95% confidence interval for mean group A:\",  stat_intervals(groupA_median_scores, 0.05))\n",
    "print(\"95% confidence interval for mean group B:\",  stat_intervals(groupB_median_scores, 0.05))"
   ]
  },
  {
   "cell_type": "code",
   "execution_count": 26,
   "metadata": {},
   "outputs": [
    {
     "data": {
      "text/plain": [
       "MannwhitneyuResult(statistic=921475.5, pvalue=3.604897653092577e-05)"
      ]
     },
     "execution_count": 26,
     "metadata": {},
     "output_type": "execute_result"
    }
   ],
   "source": [
    "scipy.stats.mannwhitneyu(revenue_short[(revenue_short['configTag'] == 'A') & (revenue_short['day'] == 14) & (revenue_short['installDate'] <= '2023-09-25') & (revenue_short['rev'] < 350)]['rev'].values, revenue_short[(revenue_short['configTag'] == 'B') & (revenue_short['day'] == 14) & (revenue_short['installDate'] <= '2023-09-25') & (revenue_short['rev'] < 350)]['rev'].values, use_continuity=True, alternative='greater')"
   ]
  }
 ],
 "metadata": {
  "kernelspec": {
   "display_name": "Python 3",
   "language": "python",
   "name": "python3"
  },
  "language_info": {
   "codemirror_mode": {
    "name": "ipython",
    "version": 3
   },
   "file_extension": ".py",
   "mimetype": "text/x-python",
   "name": "python",
   "nbconvert_exporter": "python",
   "pygments_lexer": "ipython3",
   "version": "3.9.12"
  },
  "orig_nbformat": 4
 },
 "nbformat": 4,
 "nbformat_minor": 2
}
